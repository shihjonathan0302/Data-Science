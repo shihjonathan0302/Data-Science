{
 "cells": [
  {
   "cell_type": "markdown",
   "id": "8f81e694-6e0e-4f16-9d92-44aa880e19ba",
   "metadata": {},
   "source": [
    "# Variables"
   ]
  },
  {
   "cell_type": "markdown",
   "id": "88e05b60-3013-44eb-9967-e33448e81bb2",
   "metadata": {},
   "source": [
    "### Tax Printing Code Change (tax_code.ipynb)\n",
    "\n",
    "For your first task, I’d like you to change the code that adds a dollar in tax to our price before printing. \n",
    "The tax will no longer be fixed at one dollar, so:\n",
    "* Create a ‘tax’ variable and assign it a value of 2\n",
    "* Create a ‘total’ variable equal to ‘price’ + ‘tax’\n",
    "* Print ‘total’\n"
   ]
  },
  {
   "cell_type": "code",
   "execution_count": 7,
   "id": "f2e3dd42-d641-463c-a63f-b917dbfc4f0b",
   "metadata": {},
   "outputs": [
    {
     "name": "stdout",
     "output_type": "stream",
     "text": [
      "7\n"
     ]
    }
   ],
   "source": [
    "# Original Tax Code\n",
    "tax = 2\n",
    "price = 5\n",
    "total = (price) + (tax)\n",
    "\n",
    "print(total)"
   ]
  },
  {
   "cell_type": "markdown",
   "id": "12170582-b5f8-4f9f-acbb-da4084b42efb",
   "metadata": {},
   "source": [
    "### Fix the Variable Names (price_lists.ipynb)"
   ]
  },
  {
   "cell_type": "code",
   "execution_count": 12,
   "id": "8e6be8b8-d488-4a89-811a-423940bd0650",
   "metadata": {},
   "outputs": [],
   "source": [
    "# not quite sure how variable naming rules work, I'll keep trying things until the code works"
   ]
  },
  {
   "cell_type": "code",
   "execution_count": 14,
   "id": "48b5157d-2355-41fc-b680-60eec53c8aa4",
   "metadata": {},
   "outputs": [],
   "source": [
    "price_list_2018 = [4.99, 8.99, 17.99, 22.99, 94.99] # oops, didn't mean to add the quotes, can't use this name now"
   ]
  },
  {
   "cell_type": "code",
   "execution_count": 16,
   "id": "bf8dbf0a-ce18-4f80-8910-5d59e386d373",
   "metadata": {},
   "outputs": [],
   "source": [
    "prices_FOR_2018 = [4.99, 8.99, 17.99, 22.99, 94.99] # yes! It worked! Very cool, I think i got this now."
   ]
  },
  {
   "cell_type": "code",
   "execution_count": 18,
   "id": "bf22a812-9989-4e0e-8a09-44a26d61a14c",
   "metadata": {},
   "outputs": [],
   "source": [
    "price_list_2019 = [5.99, 9.99, 19.99, 24.99, 99.99]  # Why does it think I'm trying to subtract"
   ]
  },
  {
   "cell_type": "code",
   "execution_count": 32,
   "id": "a664fc10-2974-40ba-a43b-de155c2579f8",
   "metadata": {},
   "outputs": [],
   "source": [
    "prices_for_2019 = [5.99, 9.99, 19.99, 24.99, 99.99]  # THESE ARE FOR 2019 FYI"
   ]
  },
  {
   "cell_type": "code",
   "execution_count": 34,
   "id": "e1c967f3-98c7-4350-89a3-3e052cdd3cb6",
   "metadata": {},
   "outputs": [],
   "source": [
    "# no idea how to get this one to work, I'll submit this for now and hope my manager fixes it\n",
    "\n",
    "price_list_2020 = [6.49, 10.49, 19.99, 26.99, 104.99]"
   ]
  },
  {
   "cell_type": "markdown",
   "id": "cbd1a79c-980f-4fae-b1e4-4b2db2b30875",
   "metadata": {},
   "source": [
    "#"
   ]
  },
  {
   "cell_type": "markdown",
   "id": "ec60b6cc-a6aa-4aea-a522-73304d719038",
   "metadata": {},
   "source": [
    "# Numeric Data"
   ]
  },
  {
   "cell_type": "markdown",
   "id": "71fbb29b-bde6-49b6-96b1-9692af43cd66",
   "metadata": {},
   "source": [
    "### Financial Calculations (financial_calculations.ipynb)\n",
    "### 1. Calculate the gross profit on our snowboard \n",
    "\n",
    "Formula: Price minus cost\n"
   ]
  },
  {
   "cell_type": "code",
   "execution_count": 69,
   "id": "9996b633-c9ac-4195-814d-979bb4dbd1f6",
   "metadata": {},
   "outputs": [
    {
     "name": "stdout",
     "output_type": "stream",
     "text": [
      "gross profit= 300.0\n"
     ]
    }
   ],
   "source": [
    "snowboard_price = 499.99\n",
    "snowboard_cost = 199.99\n",
    "gross_profit = snowboard_price - snowboard_cost\n",
    "print (\"gross profit=\", gross_profit)"
   ]
  },
  {
   "cell_type": "markdown",
   "id": "b00d6483-66b8-4e6c-a432-2551a06f6e46",
   "metadata": {},
   "source": [
    "### 2. Calculate the gross margin on our snowboard\n",
    "\n",
    "Formula: Gross profit divided by price"
   ]
  },
  {
   "cell_type": "code",
   "execution_count": 65,
   "id": "337a641b-6794-4f62-94f4-7a9b4d61e4d8",
   "metadata": {},
   "outputs": [
    {
     "name": "stdout",
     "output_type": "stream",
     "text": [
      "gross margin= 0.6000120002400048\n"
     ]
    }
   ],
   "source": [
    "print (\"gross margin=\",gross_profit/snowboard_price)"
   ]
  },
  {
   "cell_type": "markdown",
   "id": "be3a7c9d-a224-4c6f-9002-e22e71323a76",
   "metadata": {},
   "source": [
    "### 3. Calculate the price needed to obtain a gross margin of 70%\n",
    "\n",
    "Formula:  cost divided by (1 minus the desired margin)."
   ]
  },
  {
   "cell_type": "code",
   "execution_count": 71,
   "id": "050090c4-7f81-4d95-9f03-23ece9f20d7b",
   "metadata": {
    "scrolled": true
   },
   "outputs": [
    {
     "name": "stdout",
     "output_type": "stream",
     "text": [
      "price needed for 70= 666.6333333333332\n"
     ]
    }
   ],
   "source": [
    "price = snowboard_cost/(1-0.7)\n",
    "\n",
    "print (\"price needed for 70=\", price)"
   ]
  },
  {
   "cell_type": "markdown",
   "id": "295d615b-7ca6-4168-811e-10a1d05b1b61",
   "metadata": {},
   "source": [
    "### 4. Calculate the sales tax on a sale of our snowboard\n",
    "\n",
    "Tax rate: 8%\n",
    "\n",
    "Formula: Price times tax rate"
   ]
  },
  {
   "cell_type": "code",
   "execution_count": 99,
   "id": "298f41c5-1251-48c0-8d1a-5faf98c450f5",
   "metadata": {},
   "outputs": [
    {
     "name": "stdout",
     "output_type": "stream",
     "text": [
      "sales tax= 39.9992\n"
     ]
    }
   ],
   "source": [
    "tax_rate = .08\n",
    "\n",
    "print (\"sales tax=\", (snowboard_price * tax_rate) )"
   ]
  },
  {
   "cell_type": "markdown",
   "id": "b51608cb-0ef9-478f-9460-ec0a7d9f7d4e",
   "metadata": {},
   "source": [
    "### 5. Return on Profits\n",
    "\n",
    "Calculate the amount of money we'd have if we invested the profit from selling 5 snowboards for one year.\n",
    "\n",
    "Assume an interest rate of 5%.\n",
    "\n",
    "The formula is the amount_invested plus  (amount_invested times interest_rate)"
   ]
  },
  {
   "cell_type": "code",
   "execution_count": 79,
   "id": "d226db2f-dc00-4e48-a633-71e0761ac1f8",
   "metadata": {},
   "outputs": [
    {
     "name": "stdout",
     "output_type": "stream",
     "text": [
      "amount after 1yr= 1575.0\n"
     ]
    }
   ],
   "source": [
    "amount_invested = gross_profit*5\n",
    "interest_rate = 0.05\n",
    "amount_after_1yr = amount_invested *(1+interest_rate)\n",
    "\n",
    "print (\"amount after 1yr=\", amount_after_1yr)"
   ]
  },
  {
   "cell_type": "markdown",
   "id": "f7004dfd-3895-456c-9fca-ab6356bd8f43",
   "metadata": {},
   "source": [
    "###  What are the highest and lowest priced items we sell? (customer_questions.ipynb)\n",
    "\n",
    "Based on the list of prices below. Use Python to determine this."
   ]
  },
  {
   "cell_type": "code",
   "execution_count": 91,
   "id": "528d5877-c720-45f6-884a-83c5148f1298",
   "metadata": {},
   "outputs": [
    {
     "name": "stdout",
     "output_type": "stream",
     "text": [
      "highest priced item= 129.99\n",
      "lowest priced item= 49.99\n"
     ]
    }
   ],
   "source": [
    "price_list = [129.99, 99.99, 119.19, 99.99, 89.99, 79.99, 49.99]\n",
    "\n",
    "print (\"highest priced item=\", max(price_list))\n",
    "print (\"lowest priced item=\", min(price_list))"
   ]
  },
  {
   "cell_type": "markdown",
   "id": "621cfe85-a025-4796-a40a-59a90e5472c1",
   "metadata": {},
   "source": [
    "How much would it cost for a customer to purchase two of every item in the price list?"
   ]
  },
  {
   "cell_type": "code",
   "execution_count": 101,
   "id": "a5fcd7d8-a2f9-4cea-a6eb-633ae9ca73f3",
   "metadata": {},
   "outputs": [
    {
     "name": "stdout",
     "output_type": "stream",
     "text": [
      "cost= 1338\n"
     ]
    }
   ],
   "source": [
    "print (\"cost=\", round(sum(price_list))*2)"
   ]
  },
  {
   "cell_type": "markdown",
   "id": "5dad2954-a76c-4de6-80b1-85920957b5c7",
   "metadata": {},
   "source": [
    "#"
   ]
  },
  {
   "cell_type": "markdown",
   "id": "c6bf94d0-3224-4386-9de7-0acc22fe3d18",
   "metadata": {},
   "source": [
    "# Strings"
   ]
  },
  {
   "cell_type": "markdown",
   "id": "010f03a3-38b2-4bc5-b44f-9b8bd773718c",
   "metadata": {},
   "source": [
    "### Password Retrieval (suspicious_texts.ipynb)\n",
    "\n",
    "* Spell the word 'Maven' by grabbing one letter from each text message"
   ]
  },
  {
   "cell_type": "code",
   "execution_count": 117,
   "id": "05ab92e1-b36d-44cb-b477-feb67eb45cff",
   "metadata": {},
   "outputs": [],
   "source": [
    "text1 = '          Your friend Mark'\n",
    "text2 = 'was'\n",
    "text3 = 'having'\n",
    "text4 = 'a great day'\n",
    "text5 = 'on the mountain'"
   ]
  },
  {
   "cell_type": "code",
   "execution_count": 121,
   "id": "fe91af5f-1ff4-4229-8331-2f9f0d9817cd",
   "metadata": {},
   "outputs": [
    {
     "name": "stdout",
     "output_type": "stream",
     "text": [
      "The secret password is Maven\n"
     ]
    }
   ],
   "source": [
    "# Your code goes here - combine the letters in to a word and assign to the variable 'maven'\n",
    "maven = text1[22] + text2[1] + text3[2] + text4[4] + text5[1]\n",
    "\n",
    "print('The secret password is ' + maven)"
   ]
  },
  {
   "cell_type": "markdown",
   "id": "a3fe98ee-826b-431a-bf43-f8e3037fde27",
   "metadata": {},
   "source": [
    "### Marketing Copy (marketing_copy.ipynb)\n",
    "\n",
    "Our testimonial is in the first cell below, assigned to `testimonial`.\n",
    "\n",
    "Run the cell to create the string."
   ]
  },
  {
   "cell_type": "code",
   "execution_count": 176,
   "id": "6deed471-ca47-4058-bf01-e568cece0602",
   "metadata": {},
   "outputs": [],
   "source": [
    "testimonial = '''I love skiing. It's my favorite hobby.\n",
    "Some people say, \"It's not a hobby, it's life.\"\n",
    "'''"
   ]
  },
  {
   "cell_type": "markdown",
   "id": "702d0093-9c2a-40e6-880f-1bb91fcbc4e3",
   "metadata": {},
   "source": [
    "### First Draft\n",
    "\n",
    "Please create the message 'I love skiing. It's my life.' by slicing  `testimonial`.\n",
    "\n",
    "Assign this message to a variable called `short_testimonial`, and print it."
   ]
  },
  {
   "cell_type": "code",
   "execution_count": 174,
   "id": "54770455-2b3c-45a7-bae3-6743e952975b",
   "metadata": {},
   "outputs": [
    {
     "name": "stdout",
     "output_type": "stream",
     "text": [
      "I love skiing. It's my life.\n"
     ]
    }
   ],
   "source": [
    "short_testimonial = testimonial[0:23] + testimonial[-7:-2:1] \n",
    "\n",
    "print(short_testimonial)"
   ]
  },
  {
   "cell_type": "markdown",
   "id": "74514ad1-fc1e-4c09-b282-4c11292860df",
   "metadata": {},
   "source": [
    "### Second Draft\n",
    "\n",
    "We might need to shorten the message (we pay by the word). \n",
    "\n",
    "Slice `short_testimonial` down to 'I love my life!'.\n",
    "\n",
    "You may need to add an exclamation point. Assign this message to `happy_customer`, and print it."
   ]
  },
  {
   "cell_type": "code",
   "execution_count": 200,
   "id": "0f5c437b-3fac-4efd-838d-279b3c4ee883",
   "metadata": {},
   "outputs": [
    {
     "name": "stdout",
     "output_type": "stream",
     "text": [
      "I love my life!\n"
     ]
    }
   ],
   "source": [
    "happy_customer = short_testimonial[0:7:1] + short_testimonial[-8:-1:1] + \"!\"\n",
    "\n",
    "print(happy_customer)"
   ]
  },
  {
   "cell_type": "markdown",
   "id": "7772a5a9-3e3a-477d-8d69-3cbaf690310d",
   "metadata": {},
   "source": [
    "### Cryptography (suspicious2.ipynb)\n",
    "\n",
    "Hi there! \n",
    "\n",
    "There are five text message below. I've also convieniently pasted the alphabet for you, which we'll need to crack the code.\n",
    "\n",
    "The length of each message represents the letter in the alphabet for each character in the password. "
   ]
  },
  {
   "cell_type": "code",
   "execution_count": 213,
   "id": "324cc8a4-863d-4abc-89da-99ca2e985e0f",
   "metadata": {},
   "outputs": [],
   "source": [
    "alphabet = 'abcdefghijklmnopqrstuvwxyz'\n",
    "message1 = 'Hello World!'\n",
    "message2 = ''\n",
    "message3 = 'It snowed a lot today'\n",
    "message4 = 'eeee'\n",
    "message5 = 'I love snow!!'"
   ]
  },
  {
   "cell_type": "markdown",
   "id": "a7c7398d-b9b7-47fd-8bf8-0cd4ae740fe5",
   "metadata": {},
   "source": [
    "### Crack the Code\n",
    "\n",
    "In the cell below, combine the characters retrieved using the length function into a single string, and assign that to `password`. Then print the password."
   ]
  },
  {
   "cell_type": "code",
   "execution_count": 218,
   "id": "5b5cf5c9-539a-437b-9833-0a6cc520285d",
   "metadata": {
    "scrolled": true
   },
   "outputs": [
    {
     "name": "stdout",
     "output_type": "stream",
     "text": [
      "maven\n"
     ]
    }
   ],
   "source": [
    "password = alphabet[len(message1)] + alphabet[len(message2)] + alphabet[len(message3)] + alphabet[len(message4)] + alphabet[len(message5)] \n",
    "\n",
    "print (password)"
   ]
  },
  {
   "cell_type": "markdown",
   "id": "1db60b34-931b-499e-a0ed-271051a83bca",
   "metadata": {},
   "source": [
    "### New Marketing Copy (marketing_copy2.ipynb)\n",
    "\n",
    "Ok, time to draft some more copy - the CEO wasn't pleased that we didn't mention a ski shop in our last version.\n",
    "\n",
    "Below are five text messages we need to draw from."
   ]
  },
  {
   "cell_type": "code",
   "execution_count": 222,
   "id": "6b8f4162-9639-4fbf-9226-3a2164e31d78",
   "metadata": {},
   "outputs": [],
   "source": [
    "text1 = '          Your friend Mark'\n",
    "text2 = 'was'\n",
    "text3 = 'having'\n",
    "text4 = 'a great day'\n",
    "text5 = 'on the mountain'"
   ]
  },
  {
   "cell_type": "markdown",
   "id": "ffa73b54-79fb-4da0-9c7a-ae58c7a2aafc",
   "metadata": {},
   "source": [
    "### Combine the Texts\n",
    "\n",
    "Combine the messages into a single string, assigned to `full_text`."
   ]
  },
  {
   "cell_type": "code",
   "execution_count": 241,
   "id": "bd727367-faf3-4495-9a6c-1ed349a4e7f6",
   "metadata": {
    "scrolled": true
   },
   "outputs": [
    {
     "name": "stdout",
     "output_type": "stream",
     "text": [
      "          Your friend Mark was having a great day on the mountain\n"
     ]
    }
   ],
   "source": [
    "full_text = text1 + ' ' + text2 + ' ' + text3 + ' ' + text4 + ' ' + text5\n",
    "\n",
    "print (full_text)"
   ]
  },
  {
   "cell_type": "markdown",
   "id": "78eb642a-0dc3-41f2-9004-8a84ec4d385e",
   "metadata": {},
   "source": [
    "### Clean it up\n",
    "\n",
    "Remove the leading spaces and let's make it all lower case for now. "
   ]
  },
  {
   "cell_type": "code",
   "execution_count": 245,
   "id": "246be5bb-0428-4691-8e86-d465bc7dc827",
   "metadata": {},
   "outputs": [
    {
     "name": "stdout",
     "output_type": "stream",
     "text": [
      "Your friend Mark was having a great day on the mountain\n"
     ]
    }
   ],
   "source": [
    "fixed_text = full_text.strip()\n",
    "\n",
    "print (fixed_text)"
   ]
  },
  {
   "cell_type": "markdown",
   "id": "d0ead9fc-5f52-40c6-96be-c841e791ac6f",
   "metadata": {},
   "source": [
    "### A *SLIGHT* Change\n",
    "\n",
    "Change the portion of the message that reads 'on the mountain' to 'at the ski shop'."
   ]
  },
  {
   "cell_type": "code",
   "execution_count": 249,
   "id": "b5c031fe-32f5-49a8-9df7-4ac7c52c2a73",
   "metadata": {},
   "outputs": [
    {
     "name": "stdout",
     "output_type": "stream",
     "text": [
      "Your friend Mark was having a great day at the ski shop\n"
     ]
    }
   ],
   "source": [
    "new_text = fixed_text.replace('on the mountain', 'at the ski shop')\n",
    "\n",
    "print (new_text)"
   ]
  },
  {
   "cell_type": "markdown",
   "id": "26194e2f-1632-4dcd-933c-06516e9431cb",
   "metadata": {},
   "source": [
    "### Count the words\n",
    "\n",
    "Look up a string method [here](https://docs.python.org/3/library/stdtypes.html#string-methods) that can help us count the number of words in our messages. We just need to count how many spaces there are and add 1. "
   ]
  },
  {
   "cell_type": "code",
   "execution_count": 263,
   "id": "353da111-648b-4053-a333-ec995095ec9b",
   "metadata": {},
   "outputs": [
    {
     "name": "stdout",
     "output_type": "stream",
     "text": [
      "12\n"
     ]
    }
   ],
   "source": [
    "word_count = len(new_text.split(' '))\n",
    "\n",
    "print (word_count)"
   ]
  },
  {
   "cell_type": "markdown",
   "id": "30b2f8dd-2bb6-446b-a07d-2d4516e9f926",
   "metadata": {},
   "source": [
    "### Price Display Message (price_display.ipynb)\n",
    "\n",
    "Using f-strings, print 'The *product* costs $*price*.' for each of the price/product combinations below.\n",
    "\n",
    "Your print statement should be identical for both."
   ]
  },
  {
   "cell_type": "code",
   "execution_count": 267,
   "id": "803cf66d-dcf2-4f0d-898e-ce40edf98371",
   "metadata": {},
   "outputs": [
    {
     "name": "stdout",
     "output_type": "stream",
     "text": [
      "the snowboard costs $499.99\n"
     ]
    }
   ],
   "source": [
    "price = 499.99\n",
    "product = 'snowboard'\n",
    "\n",
    "print (f\"the {product} costs ${price}\")\n",
    "# your print statement here"
   ]
  },
  {
   "cell_type": "code",
   "execution_count": 269,
   "id": "a743512d-b534-4541-8760-4fc253a8edf1",
   "metadata": {},
   "outputs": [
    {
     "name": "stdout",
     "output_type": "stream",
     "text": [
      "the scarf costs $19.99\n"
     ]
    }
   ],
   "source": [
    "price = 19.99\n",
    "product = 'scarf'\n",
    "\n",
    "print (f\"the {product} costs ${price}\")\n",
    "# exact copy of print statement in first cell "
   ]
  },
  {
   "cell_type": "code",
   "execution_count": null,
   "id": "562a7de3-9cce-4982-b96f-e0a88e918b1c",
   "metadata": {},
   "outputs": [],
   "source": []
  }
 ],
 "metadata": {
  "kernelspec": {
   "display_name": "Python 3 (ipykernel)",
   "language": "python",
   "name": "python3"
  },
  "language_info": {
   "codemirror_mode": {
    "name": "ipython",
    "version": 3
   },
   "file_extension": ".py",
   "mimetype": "text/x-python",
   "name": "python",
   "nbconvert_exporter": "python",
   "pygments_lexer": "ipython3",
   "version": "3.12.4"
  }
 },
 "nbformat": 4,
 "nbformat_minor": 5
}

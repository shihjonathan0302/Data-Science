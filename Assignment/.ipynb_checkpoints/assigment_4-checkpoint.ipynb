{
 "cells": [
  {
   "cell_type": "markdown",
   "id": "9f140346-104b-4135-84f0-06b350ef2069",
   "metadata": {},
   "source": [
    "# Cleaning Data"
   ]
  },
  {
   "cell_type": "markdown",
   "id": "143cf2d8-ba66-4e0e-bcdf-881fbd1eda11",
   "metadata": {},
   "source": [
    "## 1. Data in Python Request"
   ]
  },
  {
   "cell_type": "markdown",
   "id": "e3312248-d442-4d24-9899-f7a5cee186d0",
   "metadata": {},
   "source": [
    "* Read in data from the Excel spreadsheet (Alarm Survey Data.xlsx) and put into a Pandas DataFrame\n",
    "* Check the data type of each column\n",
    "* Convert object columns into numeric or datetime columns, as needed"
   ]
  },
  {
   "cell_type": "code",
   "execution_count": 1,
   "id": "bc2234c4-aa35-4e0f-967f-bfb03fc119d3",
   "metadata": {},
   "outputs": [],
   "source": [
    "import pandas as pd"
   ]
  },
  {
   "cell_type": "code",
   "execution_count": 15,
   "id": "3c608c4b-7059-4ced-aca6-8dd248cd2035",
   "metadata": {
    "scrolled": true
   },
   "outputs": [
    {
     "ename": "PermissionError",
     "evalue": "[Errno 1] Operation not permitted",
     "output_type": "error",
     "traceback": [
      "\u001b[0;31m---------------------------------------------------------------------------\u001b[0m",
      "\u001b[0;31mPermissionError\u001b[0m                           Traceback (most recent call last)",
      "Cell \u001b[0;32mIn[15], line 2\u001b[0m\n\u001b[1;32m      1\u001b[0m \u001b[38;5;66;03m# read in data\u001b[39;00m\n\u001b[0;32m----> 2\u001b[0m pd\u001b[38;5;241m.\u001b[39mread_excel(\u001b[38;5;124m'\u001b[39m\u001b[38;5;124mAlarm Survey Data.xlsx\u001b[39m\u001b[38;5;124m'\u001b[39m, sheet_name\u001b[38;5;241m=\u001b[39m\u001b[38;5;241m1\u001b[39m)\n",
      "File \u001b[0;32m/opt/anaconda3/lib/python3.12/site-packages/pandas/io/excel/_base.py:495\u001b[0m, in \u001b[0;36mread_excel\u001b[0;34m(io, sheet_name, header, names, index_col, usecols, dtype, engine, converters, true_values, false_values, skiprows, nrows, na_values, keep_default_na, na_filter, verbose, parse_dates, date_parser, date_format, thousands, decimal, comment, skipfooter, storage_options, dtype_backend, engine_kwargs)\u001b[0m\n\u001b[1;32m    493\u001b[0m \u001b[38;5;28;01mif\u001b[39;00m \u001b[38;5;129;01mnot\u001b[39;00m \u001b[38;5;28misinstance\u001b[39m(io, ExcelFile):\n\u001b[1;32m    494\u001b[0m     should_close \u001b[38;5;241m=\u001b[39m \u001b[38;5;28;01mTrue\u001b[39;00m\n\u001b[0;32m--> 495\u001b[0m     io \u001b[38;5;241m=\u001b[39m ExcelFile(\n\u001b[1;32m    496\u001b[0m         io,\n\u001b[1;32m    497\u001b[0m         storage_options\u001b[38;5;241m=\u001b[39mstorage_options,\n\u001b[1;32m    498\u001b[0m         engine\u001b[38;5;241m=\u001b[39mengine,\n\u001b[1;32m    499\u001b[0m         engine_kwargs\u001b[38;5;241m=\u001b[39mengine_kwargs,\n\u001b[1;32m    500\u001b[0m     )\n\u001b[1;32m    501\u001b[0m \u001b[38;5;28;01melif\u001b[39;00m engine \u001b[38;5;129;01mand\u001b[39;00m engine \u001b[38;5;241m!=\u001b[39m io\u001b[38;5;241m.\u001b[39mengine:\n\u001b[1;32m    502\u001b[0m     \u001b[38;5;28;01mraise\u001b[39;00m \u001b[38;5;167;01mValueError\u001b[39;00m(\n\u001b[1;32m    503\u001b[0m         \u001b[38;5;124m\"\u001b[39m\u001b[38;5;124mEngine should not be specified when passing \u001b[39m\u001b[38;5;124m\"\u001b[39m\n\u001b[1;32m    504\u001b[0m         \u001b[38;5;124m\"\u001b[39m\u001b[38;5;124man ExcelFile - ExcelFile already has the engine set\u001b[39m\u001b[38;5;124m\"\u001b[39m\n\u001b[1;32m    505\u001b[0m     )\n",
      "File \u001b[0;32m/opt/anaconda3/lib/python3.12/site-packages/pandas/io/excel/_base.py:1537\u001b[0m, in \u001b[0;36mExcelFile.__init__\u001b[0;34m(self, path_or_buffer, engine, storage_options, engine_kwargs)\u001b[0m\n\u001b[1;32m   1534\u001b[0m \u001b[38;5;28mself\u001b[39m\u001b[38;5;241m.\u001b[39m_io \u001b[38;5;241m=\u001b[39m stringify_path(path_or_buffer)\n\u001b[1;32m   1536\u001b[0m \u001b[38;5;66;03m# Determine xlrd version if installed\u001b[39;00m\n\u001b[0;32m-> 1537\u001b[0m \u001b[38;5;28;01mif\u001b[39;00m import_optional_dependency(\u001b[38;5;124m\"\u001b[39m\u001b[38;5;124mxlrd\u001b[39m\u001b[38;5;124m\"\u001b[39m, errors\u001b[38;5;241m=\u001b[39m\u001b[38;5;124m\"\u001b[39m\u001b[38;5;124mignore\u001b[39m\u001b[38;5;124m\"\u001b[39m) \u001b[38;5;129;01mis\u001b[39;00m \u001b[38;5;28;01mNone\u001b[39;00m:\n\u001b[1;32m   1538\u001b[0m     xlrd_version \u001b[38;5;241m=\u001b[39m \u001b[38;5;28;01mNone\u001b[39;00m\n\u001b[1;32m   1539\u001b[0m \u001b[38;5;28;01melse\u001b[39;00m:\n",
      "File \u001b[0;32m/opt/anaconda3/lib/python3.12/site-packages/pandas/compat/_optional.py:135\u001b[0m, in \u001b[0;36mimport_optional_dependency\u001b[0;34m(name, extra, errors, min_version)\u001b[0m\n\u001b[1;32m    130\u001b[0m msg \u001b[38;5;241m=\u001b[39m (\n\u001b[1;32m    131\u001b[0m     \u001b[38;5;124mf\u001b[39m\u001b[38;5;124m\"\u001b[39m\u001b[38;5;124mMissing optional dependency \u001b[39m\u001b[38;5;124m'\u001b[39m\u001b[38;5;132;01m{\u001b[39;00minstall_name\u001b[38;5;132;01m}\u001b[39;00m\u001b[38;5;124m'\u001b[39m\u001b[38;5;124m. \u001b[39m\u001b[38;5;132;01m{\u001b[39;00mextra\u001b[38;5;132;01m}\u001b[39;00m\u001b[38;5;124m \u001b[39m\u001b[38;5;124m\"\u001b[39m\n\u001b[1;32m    132\u001b[0m     \u001b[38;5;124mf\u001b[39m\u001b[38;5;124m\"\u001b[39m\u001b[38;5;124mUse pip or conda to install \u001b[39m\u001b[38;5;132;01m{\u001b[39;00minstall_name\u001b[38;5;132;01m}\u001b[39;00m\u001b[38;5;124m.\u001b[39m\u001b[38;5;124m\"\u001b[39m\n\u001b[1;32m    133\u001b[0m )\n\u001b[1;32m    134\u001b[0m \u001b[38;5;28;01mtry\u001b[39;00m:\n\u001b[0;32m--> 135\u001b[0m     module \u001b[38;5;241m=\u001b[39m importlib\u001b[38;5;241m.\u001b[39mimport_module(name)\n\u001b[1;32m    136\u001b[0m \u001b[38;5;28;01mexcept\u001b[39;00m \u001b[38;5;167;01mImportError\u001b[39;00m:\n\u001b[1;32m    137\u001b[0m     \u001b[38;5;28;01mif\u001b[39;00m errors \u001b[38;5;241m==\u001b[39m \u001b[38;5;124m\"\u001b[39m\u001b[38;5;124mraise\u001b[39m\u001b[38;5;124m\"\u001b[39m:\n",
      "File \u001b[0;32m/opt/anaconda3/lib/python3.12/importlib/__init__.py:90\u001b[0m, in \u001b[0;36mimport_module\u001b[0;34m(name, package)\u001b[0m\n\u001b[1;32m     88\u001b[0m             \u001b[38;5;28;01mbreak\u001b[39;00m\n\u001b[1;32m     89\u001b[0m         level \u001b[38;5;241m+\u001b[39m\u001b[38;5;241m=\u001b[39m \u001b[38;5;241m1\u001b[39m\n\u001b[0;32m---> 90\u001b[0m \u001b[38;5;28;01mreturn\u001b[39;00m _bootstrap\u001b[38;5;241m.\u001b[39m_gcd_import(name[level:], package, level)\n",
      "File \u001b[0;32m<frozen importlib._bootstrap>:1387\u001b[0m, in \u001b[0;36m_gcd_import\u001b[0;34m(name, package, level)\u001b[0m\n",
      "File \u001b[0;32m<frozen importlib._bootstrap>:1360\u001b[0m, in \u001b[0;36m_find_and_load\u001b[0;34m(name, import_)\u001b[0m\n",
      "File \u001b[0;32m<frozen importlib._bootstrap>:1322\u001b[0m, in \u001b[0;36m_find_and_load_unlocked\u001b[0;34m(name, import_)\u001b[0m\n",
      "File \u001b[0;32m<frozen importlib._bootstrap>:1262\u001b[0m, in \u001b[0;36m_find_spec\u001b[0;34m(name, path, target)\u001b[0m\n",
      "File \u001b[0;32m<frozen importlib._bootstrap_external>:1528\u001b[0m, in \u001b[0;36mfind_spec\u001b[0;34m(cls, fullname, path, target)\u001b[0m\n",
      "File \u001b[0;32m<frozen importlib._bootstrap_external>:1500\u001b[0m, in \u001b[0;36m_get_spec\u001b[0;34m(cls, fullname, path, target)\u001b[0m\n",
      "File \u001b[0;32m<frozen importlib._bootstrap_external>:1479\u001b[0m, in \u001b[0;36m_path_importer_cache\u001b[0;34m(cls, path)\u001b[0m\n",
      "\u001b[0;31mPermissionError\u001b[0m: [Errno 1] Operation not permitted"
     ]
    }
   ],
   "source": [
    "# read in data\n",
    "pd.read_excel('Alarm Survey Data.xlsx', sheet_name=1)"
   ]
  },
  {
   "cell_type": "code",
   "execution_count": null,
   "id": "4734e4eb-e83a-4b49-ac70-2cbc2d7881e6",
   "metadata": {},
   "outputs": [],
   "source": [
    "# check the data types\n"
   ]
  },
  {
   "cell_type": "code",
   "execution_count": null,
   "id": "d4cdc78d-121a-45c0-9fb5-487bdc9e0190",
   "metadata": {},
   "outputs": [],
   "source": [
    "# change the alarm rating column to a numeric column\n"
   ]
  },
  {
   "cell_type": "markdown",
   "id": "451de021-5de7-4148-b904-a4575757ff51",
   "metadata": {},
   "source": [
    "## 2. Missing Data Check"
   ]
  },
  {
   "cell_type": "markdown",
   "id": "d932eb52-d9bf-4925-844c-8b240a0fe144",
   "metadata": {},
   "source": [
    "* Find any missing data\n",
    "* Deal with the missing data"
   ]
  },
  {
   "cell_type": "code",
   "execution_count": null,
   "id": "b30aa31c-3a8f-4a42-933f-58450edad962",
   "metadata": {},
   "outputs": [],
   "source": [
    "# check for missing data\n"
   ]
  },
  {
   "cell_type": "code",
   "execution_count": null,
   "id": "cfd01c24-8b63-4f6f-ab6f-92db788a17ae",
   "metadata": {},
   "outputs": [],
   "source": [
    "# see the rows with missing data\n"
   ]
  },
  {
   "cell_type": "code",
   "execution_count": null,
   "id": "1cf8bdd1-e068-4126-8827-24904c2b402a",
   "metadata": {},
   "outputs": [],
   "source": [
    "# look at the sleep quality values\n"
   ]
  },
  {
   "cell_type": "code",
   "execution_count": null,
   "id": "85b7d341-f471-4722-b682-c47c72ac409d",
   "metadata": {},
   "outputs": [],
   "source": [
    "# update sleep quality NaNs to 1\n"
   ]
  },
  {
   "cell_type": "code",
   "execution_count": null,
   "id": "a33bb608-b91c-4103-968d-5a44f2a115b8",
   "metadata": {},
   "outputs": [],
   "source": [
    "# sleep quality values\n"
   ]
  },
  {
   "cell_type": "markdown",
   "id": "110d62a7-3aef-4c19-afd6-f35642592949",
   "metadata": {},
   "source": [
    "## 3. Inconsistent Text & Typos Check"
   ]
  },
  {
   "cell_type": "markdown",
   "id": "7e9951fe-31d3-420c-82c8-26ef697c5b40",
   "metadata": {},
   "source": [
    "* Find any inconsistent text and typos\n",
    "* Deal with the inconsistent text and typos"
   ]
  },
  {
   "cell_type": "code",
   "execution_count": null,
   "id": "91668fd2-69b1-4d9a-bba6-7268b5223b22",
   "metadata": {},
   "outputs": [],
   "source": [
    "# check the numerical columns\n"
   ]
  },
  {
   "cell_type": "code",
   "execution_count": null,
   "id": "34b98d01-146a-4fe6-9e4b-2932a25011f0",
   "metadata": {},
   "outputs": [],
   "source": [
    "# look into number of children -- it just means 5+ kids, leave as is\n"
   ]
  },
  {
   "cell_type": "code",
   "execution_count": null,
   "id": "a973abcd-bcc0-4347-be8b-263849f84e36",
   "metadata": {},
   "outputs": [],
   "source": [
    "# check the categorical columms\n"
   ]
  },
  {
   "cell_type": "code",
   "execution_count": null,
   "id": "6f945a6b-aa54-469f-ac2c-544881344d21",
   "metadata": {},
   "outputs": [],
   "source": [
    "# map the lightly active values to one value\n",
    "import numpy as np\n"
   ]
  },
  {
   "cell_type": "code",
   "execution_count": null,
   "id": "c4dd986d-852b-4697-94c4-2892fd0f4e2c",
   "metadata": {},
   "outputs": [],
   "source": [
    "# check the categorical columms\n"
   ]
  },
  {
   "cell_type": "markdown",
   "id": "d300d3af-de51-4e4a-a265-2363116a33ce",
   "metadata": {},
   "source": [
    "## 4. Duplicate Data Check"
   ]
  },
  {
   "cell_type": "markdown",
   "id": "b800767c-4194-476a-809c-592ea061c264",
   "metadata": {},
   "source": [
    "* Find any duplicate data\n",
    "* Deal with the duplicate data"
   ]
  },
  {
   "cell_type": "code",
   "execution_count": null,
   "id": "273cf3cf-64cf-4861-aeb0-e94267943089",
   "metadata": {},
   "outputs": [],
   "source": [
    "# check for duplicate values\n"
   ]
  },
  {
   "cell_type": "code",
   "execution_count": null,
   "id": "dc188179-3ae5-426e-993e-d198cfbe9654",
   "metadata": {},
   "outputs": [],
   "source": [
    "# drop duplicates\n"
   ]
  },
  {
   "cell_type": "code",
   "execution_count": null,
   "id": "c7aaa9fe-f108-4bc6-ac6a-e101714869b0",
   "metadata": {},
   "outputs": [],
   "source": [
    "# alternative: save non-duplicates\n"
   ]
  },
  {
   "cell_type": "markdown",
   "id": "2b72ea3d-07e2-4bcf-b41c-41eac0cc6c30",
   "metadata": {},
   "source": [
    "## 5. Outliers Check"
   ]
  },
  {
   "cell_type": "markdown",
   "id": "37f3565c-8fc7-4d4b-be95-b45ebd83b4b5",
   "metadata": {},
   "source": [
    "* Find any outliers\n",
    "* Deal with the outliers"
   ]
  },
  {
   "cell_type": "code",
   "execution_count": null,
   "id": "8fbd1bdc-aaa7-4446-a03b-27bea240873f",
   "metadata": {},
   "outputs": [],
   "source": [
    "# look at the histograms of all numeric columns\n"
   ]
  },
  {
   "cell_type": "code",
   "execution_count": null,
   "id": "6e3cfebb-6ed6-4a70-a410-b329cf8e42cb",
   "metadata": {},
   "outputs": [],
   "source": [
    "# look at the histogram of the number of snoozes\n",
    "import seaborn as sns\n"
   ]
  },
  {
   "cell_type": "code",
   "execution_count": null,
   "id": "5ed11daf-6cef-48c1-92ca-8411854a4b72",
   "metadata": {},
   "outputs": [],
   "source": [
    "# look at the boxplot of the number of snoozes\n"
   ]
  },
  {
   "cell_type": "code",
   "execution_count": null,
   "id": "b5c5c1af-5a50-46e3-9197-5f16f3bae06c",
   "metadata": {},
   "outputs": [],
   "source": [
    "# look into number of snoozes\n"
   ]
  },
  {
   "cell_type": "code",
   "execution_count": null,
   "id": "7ca67a20-ec2b-4a37-83c8-c5066b12ebfd",
   "metadata": {},
   "outputs": [],
   "source": [
    "# let's only remove the extreme outlier\n"
   ]
  },
  {
   "cell_type": "markdown",
   "id": "249874e4-6ba9-479c-8e8f-5d1e2a9f084a",
   "metadata": {},
   "source": [
    "## 6. Data Issues Check"
   ]
  },
  {
   "cell_type": "markdown",
   "id": "37e59b39-b048-4eeb-945b-99732b913cd1",
   "metadata": {},
   "source": [
    "* Quickly explore the updated DataFrame. How do things look now after handling the data issues compared to the original DataFrame?"
   ]
  },
  {
   "cell_type": "code",
   "execution_count": null,
   "id": "a1e3d28f-4661-43b4-8541-366244696bdf",
   "metadata": {},
   "outputs": [],
   "source": [
    "# check for missing values\n"
   ]
  },
  {
   "cell_type": "code",
   "execution_count": null,
   "id": "f2082526-a8fc-42fa-a701-d142e7169bcb",
   "metadata": {},
   "outputs": [],
   "source": [
    "# check for inconsistent text\n"
   ]
  },
  {
   "cell_type": "code",
   "execution_count": null,
   "id": "ca0c12a9-48d7-496b-9415-117efbbe220d",
   "metadata": {},
   "outputs": [],
   "source": [
    "# check for duplicate values\n"
   ]
  },
  {
   "cell_type": "code",
   "execution_count": null,
   "id": "d7936cec-4b0b-4340-865e-03e72dc0ee3d",
   "metadata": {},
   "outputs": [],
   "source": [
    "# check for outliers\n"
   ]
  },
  {
   "cell_type": "code",
   "execution_count": null,
   "id": "aaa079a5-f5bb-41f4-8893-c35a245ea6b8",
   "metadata": {},
   "outputs": [],
   "source": [
    "# first round of data cleaning is complete!\n"
   ]
  },
  {
   "cell_type": "markdown",
   "id": "df0dad9b-286a-476a-b0a8-17d301341ba5",
   "metadata": {},
   "source": [
    "## 7. Create Columns From Numeric Data"
   ]
  },
  {
   "cell_type": "markdown",
   "id": "e8bced00-e11a-42fb-b308-68ec167871de",
   "metadata": {},
   "source": [
    "* Read in data from the Excel spreadsheet (Pen Sales Data.xlsx) and put into a Pandas DataFrame\n",
    "* Check the data type of each column\n",
    "* Create a numeric column using arithmetic\n",
    "* Create a numeric column using conditional logic"
   ]
  },
  {
   "cell_type": "code",
   "execution_count": null,
   "id": "5f53b2d0-ac4b-4aa2-b2b3-043c9ad8579f",
   "metadata": {},
   "outputs": [],
   "source": [
    "import pandas as pd"
   ]
  },
  {
   "cell_type": "code",
   "execution_count": null,
   "id": "920dd704-0e53-446c-a00c-b24ab68d1f2e",
   "metadata": {},
   "outputs": [],
   "source": [
    "# read in data\n"
   ]
  },
  {
   "cell_type": "code",
   "execution_count": null,
   "id": "c8672701-254d-436b-baac-cf7b7eef0bc5",
   "metadata": {},
   "outputs": [],
   "source": [
    "# check the data types\n"
   ]
  },
  {
   "cell_type": "code",
   "execution_count": null,
   "id": "56a8536c-5d05-4ade-a554-d916b248dfee",
   "metadata": {},
   "outputs": [],
   "source": [
    "# create a “Total Spend” column that includes both the pen cost and shipping cost for each sale\n"
   ]
  },
  {
   "cell_type": "code",
   "execution_count": null,
   "id": "12e843df-679e-440e-9bb4-8e84cb8a9510",
   "metadata": {},
   "outputs": [],
   "source": [
    "# create a “Free Shipping” column that says yes if the sale included free shipping, and no otherwise\n",
    "import numpy as np\n"
   ]
  },
  {
   "cell_type": "markdown",
   "id": "434d2f7a-c29a-4e9a-9cb2-a85543698ec6",
   "metadata": {},
   "source": [
    "## 8. Create Columns From DateTime Data"
   ]
  },
  {
   "cell_type": "markdown",
   "id": "c3773924-5962-40f2-9fea-b0ad2fbef5ed",
   "metadata": {},
   "source": [
    "* Calculate the difference between two datetime columns and save it as a new column\n",
    "* Take the average of a column"
   ]
  },
  {
   "cell_type": "code",
   "execution_count": null,
   "id": "3ba6733c-0b1f-4f73-a4a5-12cddb37578b",
   "metadata": {},
   "outputs": [],
   "source": [
    "# Calculate the number of days between the purchase and delivery date for each sale\n",
    "# Save it as a new column called “Delivery Time”\n"
   ]
  },
  {
   "cell_type": "code",
   "execution_count": null,
   "id": "30cd2ecf-8e47-471a-ac54-44de811f4604",
   "metadata": {},
   "outputs": [],
   "source": [
    "# What were the average days from purchase to delivery?\n"
   ]
  },
  {
   "cell_type": "markdown",
   "id": "33b06d17-85b0-4867-88f3-7f502645bf99",
   "metadata": {},
   "source": [
    "## 9. Create Columns From Text Data"
   ]
  },
  {
   "cell_type": "markdown",
   "id": "eb4e0533-ad6a-4c3c-ae98-7d123dfff89e",
   "metadata": {},
   "source": [
    "* Split one column into multiple columns\n",
    "* Create a Boolean column (True / False) to show whether a text field contains particular words"
   ]
  },
  {
   "cell_type": "code",
   "execution_count": null,
   "id": "51b58662-8eba-4d2d-a009-19bcf7919c4f",
   "metadata": {},
   "outputs": [],
   "source": [
    "# Split the reviews on the “|” character to create two new columns: “User Name” and “Review Text”\n",
    "# split a column into multiple columns\n"
   ]
  },
  {
   "cell_type": "code",
   "execution_count": null,
   "id": "5389ac11-09a5-42e0-95b5-fe2730e1384d",
   "metadata": {},
   "outputs": [],
   "source": [
    "# put columns back into original dataframe\n"
   ]
  },
  {
   "cell_type": "code",
   "execution_count": null,
   "id": "04c97299-2f73-4361-a029-f0f37794e562",
   "metadata": {},
   "outputs": [],
   "source": [
    "# Create a “Leak or Spill” column that flags the reviews that mention either “leak” or “spill”\n"
   ]
  }
 ],
 "metadata": {
  "kernelspec": {
   "display_name": "Python 3 (ipykernel)",
   "language": "python",
   "name": "python3"
  },
  "language_info": {
   "codemirror_mode": {
    "name": "ipython",
    "version": 3
   },
   "file_extension": ".py",
   "mimetype": "text/x-python",
   "name": "python",
   "nbconvert_exporter": "python",
   "pygments_lexer": "ipython3",
   "version": "3.12.4"
  }
 },
 "nbformat": 4,
 "nbformat_minor": 5
}

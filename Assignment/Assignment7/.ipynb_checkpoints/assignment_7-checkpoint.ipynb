{
 "cells": [
  {
   "cell_type": "markdown",
   "id": "3b8c7b29-28e9-4525-a3e1-b21ae756372a",
   "metadata": {},
   "source": [
    "## Data Prep:\n",
    "\n",
    "1. Read in the data and apply your data prep function to it."
   ]
  },
  {
   "cell_type": "code",
   "execution_count": 10,
   "id": "a1d86cfc-22f7-4001-926c-0534c94d5ad4",
   "metadata": {},
   "outputs": [],
   "source": [
    "import pandas as pd\n",
    "import numpy as np\n",
    "import seaborn as sns\n",
    "import matplotlib.pyplot as plt"
   ]
  },
  {
   "cell_type": "code",
   "execution_count": 12,
   "id": "735fdce1-808f-45b1-b409-11a75340ca3e",
   "metadata": {},
   "outputs": [],
   "source": [
    "def income_model_prep(data):\n",
    "    from sklearn.model_selection import train_test_split\n",
    "    data = pd.get_dummies(\n",
    "        data.assign(\n",
    "            target = np.where(data[\"SalStat\"] == \" less than or equal to 50,000\", 0, 1),\n",
    "            nativecountry = data[\"nativecountry\"].replace({\" Holand-Netherlands\": \" Germany\"}),\n",
    "            occupation = data[\"occupation\"].replace({\" Armed-Forces\": \" ?\"}),\n",
    "            JobType = data[\"JobType\"].replace({\" Never-worked\": \" Without-pay\"}),\n",
    "        ).drop(\"SalStat\", axis=1), \n",
    "        drop_first=True\n",
    "    )\n",
    "    X = data.drop(\"target\", axis=1)\n",
    "    y = data[\"target\"]\n",
    "    X_train, X_test, y_train, y_test = train_test_split(X, y, test_size=0.2, random_state=0)\n",
    "    return X_train, X_test, y_train, y_test"
   ]
  },
  {
   "cell_type": "code",
   "execution_count": 14,
   "id": "ad16d8c5-131e-48ac-b80a-9b72a6e2258e",
   "metadata": {},
   "outputs": [],
   "source": [
    "income = pd.read_csv(\"income.csv\")\n",
    "\n",
    "X_train, X_test, y_train, y_test = income_model_prep(income)"
   ]
  },
  {
   "cell_type": "markdown",
   "id": "523cd2f0-da14-4d0c-921b-14b28dc9963f",
   "metadata": {},
   "source": [
    "## KNN:"
   ]
  },
  {
   "cell_type": "markdown",
   "id": "23252979-a1d3-4e56-ac84-e7ca02118d11",
   "metadata": {},
   "source": [
    "### Q1.\n",
    "1. Scale your feature data frames\n",
    "2. Fit a KNN model with k = 5, using the features `age` and `hoursperweek`\n",
    "3. Print the model accuracy score and confusion matrix for both the training and test data\n",
    "4. Using the test data, create a scatterplot with `age` in the x-axis, `hoursperweek` in the y-axis, and color each point with the predicted class."
   ]
  },
  {
   "cell_type": "code",
   "execution_count": 20,
   "id": "c9ba28e3-5ef3-4bc4-a8f0-53a2f9bf4d3e",
   "metadata": {},
   "outputs": [],
   "source": [
    "from sklearn.preprocessing import StandardScaler\n",
    "\n",
    "std = StandardScaler()\n",
    "\n",
    "X_train_std = std.fit_transform(X_train)\n",
    "X_test_std = std.transform(X_test)"
   ]
  },
  {
   "cell_type": "code",
   "execution_count": 22,
   "id": "a2b23bb2-e8af-4c01-b551-0f67d2bc98e0",
   "metadata": {},
   "outputs": [
    {
     "data": {
      "text/html": [
       "<style>#sk-container-id-1 {\n",
       "  /* Definition of color scheme common for light and dark mode */\n",
       "  --sklearn-color-text: black;\n",
       "  --sklearn-color-line: gray;\n",
       "  /* Definition of color scheme for unfitted estimators */\n",
       "  --sklearn-color-unfitted-level-0: #fff5e6;\n",
       "  --sklearn-color-unfitted-level-1: #f6e4d2;\n",
       "  --sklearn-color-unfitted-level-2: #ffe0b3;\n",
       "  --sklearn-color-unfitted-level-3: chocolate;\n",
       "  /* Definition of color scheme for fitted estimators */\n",
       "  --sklearn-color-fitted-level-0: #f0f8ff;\n",
       "  --sklearn-color-fitted-level-1: #d4ebff;\n",
       "  --sklearn-color-fitted-level-2: #b3dbfd;\n",
       "  --sklearn-color-fitted-level-3: cornflowerblue;\n",
       "\n",
       "  /* Specific color for light theme */\n",
       "  --sklearn-color-text-on-default-background: var(--sg-text-color, var(--theme-code-foreground, var(--jp-content-font-color1, black)));\n",
       "  --sklearn-color-background: var(--sg-background-color, var(--theme-background, var(--jp-layout-color0, white)));\n",
       "  --sklearn-color-border-box: var(--sg-text-color, var(--theme-code-foreground, var(--jp-content-font-color1, black)));\n",
       "  --sklearn-color-icon: #696969;\n",
       "\n",
       "  @media (prefers-color-scheme: dark) {\n",
       "    /* Redefinition of color scheme for dark theme */\n",
       "    --sklearn-color-text-on-default-background: var(--sg-text-color, var(--theme-code-foreground, var(--jp-content-font-color1, white)));\n",
       "    --sklearn-color-background: var(--sg-background-color, var(--theme-background, var(--jp-layout-color0, #111)));\n",
       "    --sklearn-color-border-box: var(--sg-text-color, var(--theme-code-foreground, var(--jp-content-font-color1, white)));\n",
       "    --sklearn-color-icon: #878787;\n",
       "  }\n",
       "}\n",
       "\n",
       "#sk-container-id-1 {\n",
       "  color: var(--sklearn-color-text);\n",
       "}\n",
       "\n",
       "#sk-container-id-1 pre {\n",
       "  padding: 0;\n",
       "}\n",
       "\n",
       "#sk-container-id-1 input.sk-hidden--visually {\n",
       "  border: 0;\n",
       "  clip: rect(1px 1px 1px 1px);\n",
       "  clip: rect(1px, 1px, 1px, 1px);\n",
       "  height: 1px;\n",
       "  margin: -1px;\n",
       "  overflow: hidden;\n",
       "  padding: 0;\n",
       "  position: absolute;\n",
       "  width: 1px;\n",
       "}\n",
       "\n",
       "#sk-container-id-1 div.sk-dashed-wrapped {\n",
       "  border: 1px dashed var(--sklearn-color-line);\n",
       "  margin: 0 0.4em 0.5em 0.4em;\n",
       "  box-sizing: border-box;\n",
       "  padding-bottom: 0.4em;\n",
       "  background-color: var(--sklearn-color-background);\n",
       "}\n",
       "\n",
       "#sk-container-id-1 div.sk-container {\n",
       "  /* jupyter's `normalize.less` sets `[hidden] { display: none; }`\n",
       "     but bootstrap.min.css set `[hidden] { display: none !important; }`\n",
       "     so we also need the `!important` here to be able to override the\n",
       "     default hidden behavior on the sphinx rendered scikit-learn.org.\n",
       "     See: https://github.com/scikit-learn/scikit-learn/issues/21755 */\n",
       "  display: inline-block !important;\n",
       "  position: relative;\n",
       "}\n",
       "\n",
       "#sk-container-id-1 div.sk-text-repr-fallback {\n",
       "  display: none;\n",
       "}\n",
       "\n",
       "div.sk-parallel-item,\n",
       "div.sk-serial,\n",
       "div.sk-item {\n",
       "  /* draw centered vertical line to link estimators */\n",
       "  background-image: linear-gradient(var(--sklearn-color-text-on-default-background), var(--sklearn-color-text-on-default-background));\n",
       "  background-size: 2px 100%;\n",
       "  background-repeat: no-repeat;\n",
       "  background-position: center center;\n",
       "}\n",
       "\n",
       "/* Parallel-specific style estimator block */\n",
       "\n",
       "#sk-container-id-1 div.sk-parallel-item::after {\n",
       "  content: \"\";\n",
       "  width: 100%;\n",
       "  border-bottom: 2px solid var(--sklearn-color-text-on-default-background);\n",
       "  flex-grow: 1;\n",
       "}\n",
       "\n",
       "#sk-container-id-1 div.sk-parallel {\n",
       "  display: flex;\n",
       "  align-items: stretch;\n",
       "  justify-content: center;\n",
       "  background-color: var(--sklearn-color-background);\n",
       "  position: relative;\n",
       "}\n",
       "\n",
       "#sk-container-id-1 div.sk-parallel-item {\n",
       "  display: flex;\n",
       "  flex-direction: column;\n",
       "}\n",
       "\n",
       "#sk-container-id-1 div.sk-parallel-item:first-child::after {\n",
       "  align-self: flex-end;\n",
       "  width: 50%;\n",
       "}\n",
       "\n",
       "#sk-container-id-1 div.sk-parallel-item:last-child::after {\n",
       "  align-self: flex-start;\n",
       "  width: 50%;\n",
       "}\n",
       "\n",
       "#sk-container-id-1 div.sk-parallel-item:only-child::after {\n",
       "  width: 0;\n",
       "}\n",
       "\n",
       "/* Serial-specific style estimator block */\n",
       "\n",
       "#sk-container-id-1 div.sk-serial {\n",
       "  display: flex;\n",
       "  flex-direction: column;\n",
       "  align-items: center;\n",
       "  background-color: var(--sklearn-color-background);\n",
       "  padding-right: 1em;\n",
       "  padding-left: 1em;\n",
       "}\n",
       "\n",
       "\n",
       "/* Toggleable style: style used for estimator/Pipeline/ColumnTransformer box that is\n",
       "clickable and can be expanded/collapsed.\n",
       "- Pipeline and ColumnTransformer use this feature and define the default style\n",
       "- Estimators will overwrite some part of the style using the `sk-estimator` class\n",
       "*/\n",
       "\n",
       "/* Pipeline and ColumnTransformer style (default) */\n",
       "\n",
       "#sk-container-id-1 div.sk-toggleable {\n",
       "  /* Default theme specific background. It is overwritten whether we have a\n",
       "  specific estimator or a Pipeline/ColumnTransformer */\n",
       "  background-color: var(--sklearn-color-background);\n",
       "}\n",
       "\n",
       "/* Toggleable label */\n",
       "#sk-container-id-1 label.sk-toggleable__label {\n",
       "  cursor: pointer;\n",
       "  display: block;\n",
       "  width: 100%;\n",
       "  margin-bottom: 0;\n",
       "  padding: 0.5em;\n",
       "  box-sizing: border-box;\n",
       "  text-align: center;\n",
       "}\n",
       "\n",
       "#sk-container-id-1 label.sk-toggleable__label-arrow:before {\n",
       "  /* Arrow on the left of the label */\n",
       "  content: \"▸\";\n",
       "  float: left;\n",
       "  margin-right: 0.25em;\n",
       "  color: var(--sklearn-color-icon);\n",
       "}\n",
       "\n",
       "#sk-container-id-1 label.sk-toggleable__label-arrow:hover:before {\n",
       "  color: var(--sklearn-color-text);\n",
       "}\n",
       "\n",
       "/* Toggleable content - dropdown */\n",
       "\n",
       "#sk-container-id-1 div.sk-toggleable__content {\n",
       "  max-height: 0;\n",
       "  max-width: 0;\n",
       "  overflow: hidden;\n",
       "  text-align: left;\n",
       "  /* unfitted */\n",
       "  background-color: var(--sklearn-color-unfitted-level-0);\n",
       "}\n",
       "\n",
       "#sk-container-id-1 div.sk-toggleable__content.fitted {\n",
       "  /* fitted */\n",
       "  background-color: var(--sklearn-color-fitted-level-0);\n",
       "}\n",
       "\n",
       "#sk-container-id-1 div.sk-toggleable__content pre {\n",
       "  margin: 0.2em;\n",
       "  border-radius: 0.25em;\n",
       "  color: var(--sklearn-color-text);\n",
       "  /* unfitted */\n",
       "  background-color: var(--sklearn-color-unfitted-level-0);\n",
       "}\n",
       "\n",
       "#sk-container-id-1 div.sk-toggleable__content.fitted pre {\n",
       "  /* unfitted */\n",
       "  background-color: var(--sklearn-color-fitted-level-0);\n",
       "}\n",
       "\n",
       "#sk-container-id-1 input.sk-toggleable__control:checked~div.sk-toggleable__content {\n",
       "  /* Expand drop-down */\n",
       "  max-height: 200px;\n",
       "  max-width: 100%;\n",
       "  overflow: auto;\n",
       "}\n",
       "\n",
       "#sk-container-id-1 input.sk-toggleable__control:checked~label.sk-toggleable__label-arrow:before {\n",
       "  content: \"▾\";\n",
       "}\n",
       "\n",
       "/* Pipeline/ColumnTransformer-specific style */\n",
       "\n",
       "#sk-container-id-1 div.sk-label input.sk-toggleable__control:checked~label.sk-toggleable__label {\n",
       "  color: var(--sklearn-color-text);\n",
       "  background-color: var(--sklearn-color-unfitted-level-2);\n",
       "}\n",
       "\n",
       "#sk-container-id-1 div.sk-label.fitted input.sk-toggleable__control:checked~label.sk-toggleable__label {\n",
       "  background-color: var(--sklearn-color-fitted-level-2);\n",
       "}\n",
       "\n",
       "/* Estimator-specific style */\n",
       "\n",
       "/* Colorize estimator box */\n",
       "#sk-container-id-1 div.sk-estimator input.sk-toggleable__control:checked~label.sk-toggleable__label {\n",
       "  /* unfitted */\n",
       "  background-color: var(--sklearn-color-unfitted-level-2);\n",
       "}\n",
       "\n",
       "#sk-container-id-1 div.sk-estimator.fitted input.sk-toggleable__control:checked~label.sk-toggleable__label {\n",
       "  /* fitted */\n",
       "  background-color: var(--sklearn-color-fitted-level-2);\n",
       "}\n",
       "\n",
       "#sk-container-id-1 div.sk-label label.sk-toggleable__label,\n",
       "#sk-container-id-1 div.sk-label label {\n",
       "  /* The background is the default theme color */\n",
       "  color: var(--sklearn-color-text-on-default-background);\n",
       "}\n",
       "\n",
       "/* On hover, darken the color of the background */\n",
       "#sk-container-id-1 div.sk-label:hover label.sk-toggleable__label {\n",
       "  color: var(--sklearn-color-text);\n",
       "  background-color: var(--sklearn-color-unfitted-level-2);\n",
       "}\n",
       "\n",
       "/* Label box, darken color on hover, fitted */\n",
       "#sk-container-id-1 div.sk-label.fitted:hover label.sk-toggleable__label.fitted {\n",
       "  color: var(--sklearn-color-text);\n",
       "  background-color: var(--sklearn-color-fitted-level-2);\n",
       "}\n",
       "\n",
       "/* Estimator label */\n",
       "\n",
       "#sk-container-id-1 div.sk-label label {\n",
       "  font-family: monospace;\n",
       "  font-weight: bold;\n",
       "  display: inline-block;\n",
       "  line-height: 1.2em;\n",
       "}\n",
       "\n",
       "#sk-container-id-1 div.sk-label-container {\n",
       "  text-align: center;\n",
       "}\n",
       "\n",
       "/* Estimator-specific */\n",
       "#sk-container-id-1 div.sk-estimator {\n",
       "  font-family: monospace;\n",
       "  border: 1px dotted var(--sklearn-color-border-box);\n",
       "  border-radius: 0.25em;\n",
       "  box-sizing: border-box;\n",
       "  margin-bottom: 0.5em;\n",
       "  /* unfitted */\n",
       "  background-color: var(--sklearn-color-unfitted-level-0);\n",
       "}\n",
       "\n",
       "#sk-container-id-1 div.sk-estimator.fitted {\n",
       "  /* fitted */\n",
       "  background-color: var(--sklearn-color-fitted-level-0);\n",
       "}\n",
       "\n",
       "/* on hover */\n",
       "#sk-container-id-1 div.sk-estimator:hover {\n",
       "  /* unfitted */\n",
       "  background-color: var(--sklearn-color-unfitted-level-2);\n",
       "}\n",
       "\n",
       "#sk-container-id-1 div.sk-estimator.fitted:hover {\n",
       "  /* fitted */\n",
       "  background-color: var(--sklearn-color-fitted-level-2);\n",
       "}\n",
       "\n",
       "/* Specification for estimator info (e.g. \"i\" and \"?\") */\n",
       "\n",
       "/* Common style for \"i\" and \"?\" */\n",
       "\n",
       ".sk-estimator-doc-link,\n",
       "a:link.sk-estimator-doc-link,\n",
       "a:visited.sk-estimator-doc-link {\n",
       "  float: right;\n",
       "  font-size: smaller;\n",
       "  line-height: 1em;\n",
       "  font-family: monospace;\n",
       "  background-color: var(--sklearn-color-background);\n",
       "  border-radius: 1em;\n",
       "  height: 1em;\n",
       "  width: 1em;\n",
       "  text-decoration: none !important;\n",
       "  margin-left: 1ex;\n",
       "  /* unfitted */\n",
       "  border: var(--sklearn-color-unfitted-level-1) 1pt solid;\n",
       "  color: var(--sklearn-color-unfitted-level-1);\n",
       "}\n",
       "\n",
       ".sk-estimator-doc-link.fitted,\n",
       "a:link.sk-estimator-doc-link.fitted,\n",
       "a:visited.sk-estimator-doc-link.fitted {\n",
       "  /* fitted */\n",
       "  border: var(--sklearn-color-fitted-level-1) 1pt solid;\n",
       "  color: var(--sklearn-color-fitted-level-1);\n",
       "}\n",
       "\n",
       "/* On hover */\n",
       "div.sk-estimator:hover .sk-estimator-doc-link:hover,\n",
       ".sk-estimator-doc-link:hover,\n",
       "div.sk-label-container:hover .sk-estimator-doc-link:hover,\n",
       ".sk-estimator-doc-link:hover {\n",
       "  /* unfitted */\n",
       "  background-color: var(--sklearn-color-unfitted-level-3);\n",
       "  color: var(--sklearn-color-background);\n",
       "  text-decoration: none;\n",
       "}\n",
       "\n",
       "div.sk-estimator.fitted:hover .sk-estimator-doc-link.fitted:hover,\n",
       ".sk-estimator-doc-link.fitted:hover,\n",
       "div.sk-label-container:hover .sk-estimator-doc-link.fitted:hover,\n",
       ".sk-estimator-doc-link.fitted:hover {\n",
       "  /* fitted */\n",
       "  background-color: var(--sklearn-color-fitted-level-3);\n",
       "  color: var(--sklearn-color-background);\n",
       "  text-decoration: none;\n",
       "}\n",
       "\n",
       "/* Span, style for the box shown on hovering the info icon */\n",
       ".sk-estimator-doc-link span {\n",
       "  display: none;\n",
       "  z-index: 9999;\n",
       "  position: relative;\n",
       "  font-weight: normal;\n",
       "  right: .2ex;\n",
       "  padding: .5ex;\n",
       "  margin: .5ex;\n",
       "  width: min-content;\n",
       "  min-width: 20ex;\n",
       "  max-width: 50ex;\n",
       "  color: var(--sklearn-color-text);\n",
       "  box-shadow: 2pt 2pt 4pt #999;\n",
       "  /* unfitted */\n",
       "  background: var(--sklearn-color-unfitted-level-0);\n",
       "  border: .5pt solid var(--sklearn-color-unfitted-level-3);\n",
       "}\n",
       "\n",
       ".sk-estimator-doc-link.fitted span {\n",
       "  /* fitted */\n",
       "  background: var(--sklearn-color-fitted-level-0);\n",
       "  border: var(--sklearn-color-fitted-level-3);\n",
       "}\n",
       "\n",
       ".sk-estimator-doc-link:hover span {\n",
       "  display: block;\n",
       "}\n",
       "\n",
       "/* \"?\"-specific style due to the `<a>` HTML tag */\n",
       "\n",
       "#sk-container-id-1 a.estimator_doc_link {\n",
       "  float: right;\n",
       "  font-size: 1rem;\n",
       "  line-height: 1em;\n",
       "  font-family: monospace;\n",
       "  background-color: var(--sklearn-color-background);\n",
       "  border-radius: 1rem;\n",
       "  height: 1rem;\n",
       "  width: 1rem;\n",
       "  text-decoration: none;\n",
       "  /* unfitted */\n",
       "  color: var(--sklearn-color-unfitted-level-1);\n",
       "  border: var(--sklearn-color-unfitted-level-1) 1pt solid;\n",
       "}\n",
       "\n",
       "#sk-container-id-1 a.estimator_doc_link.fitted {\n",
       "  /* fitted */\n",
       "  border: var(--sklearn-color-fitted-level-1) 1pt solid;\n",
       "  color: var(--sklearn-color-fitted-level-1);\n",
       "}\n",
       "\n",
       "/* On hover */\n",
       "#sk-container-id-1 a.estimator_doc_link:hover {\n",
       "  /* unfitted */\n",
       "  background-color: var(--sklearn-color-unfitted-level-3);\n",
       "  color: var(--sklearn-color-background);\n",
       "  text-decoration: none;\n",
       "}\n",
       "\n",
       "#sk-container-id-1 a.estimator_doc_link.fitted:hover {\n",
       "  /* fitted */\n",
       "  background-color: var(--sklearn-color-fitted-level-3);\n",
       "}\n",
       "</style><div id=\"sk-container-id-1\" class=\"sk-top-container\"><div class=\"sk-text-repr-fallback\"><pre>KNeighborsClassifier()</pre><b>In a Jupyter environment, please rerun this cell to show the HTML representation or trust the notebook. <br />On GitHub, the HTML representation is unable to render, please try loading this page with nbviewer.org.</b></div><div class=\"sk-container\" hidden><div class=\"sk-item\"><div class=\"sk-estimator fitted sk-toggleable\"><input class=\"sk-toggleable__control sk-hidden--visually\" id=\"sk-estimator-id-1\" type=\"checkbox\" checked><label for=\"sk-estimator-id-1\" class=\"sk-toggleable__label fitted sk-toggleable__label-arrow fitted\">&nbsp;&nbsp;KNeighborsClassifier<a class=\"sk-estimator-doc-link fitted\" rel=\"noreferrer\" target=\"_blank\" href=\"https://scikit-learn.org/1.4/modules/generated/sklearn.neighbors.KNeighborsClassifier.html\">?<span>Documentation for KNeighborsClassifier</span></a><span class=\"sk-estimator-doc-link fitted\">i<span>Fitted</span></span></label><div class=\"sk-toggleable__content fitted\"><pre>KNeighborsClassifier()</pre></div> </div></div></div></div>"
      ],
      "text/plain": [
       "KNeighborsClassifier()"
      ]
     },
     "execution_count": 22,
     "metadata": {},
     "output_type": "execute_result"
    }
   ],
   "source": [
    "from sklearn.neighbors import KNeighborsClassifier\n",
    "\n",
    "k = 5\n",
    "knn = KNeighborsClassifier(n_neighbors=k)\n",
    "knn.fit(X_train, y_train)"
   ]
  },
  {
   "cell_type": "code",
   "execution_count": 30,
   "id": "a5cc2ab7-e8f7-43dc-a8c1-1916ff9bb25f",
   "metadata": {},
   "outputs": [
    {
     "name": "stderr",
     "output_type": "stream",
     "text": [
      "/opt/anaconda3/lib/python3.12/site-packages/sklearn/base.py:493: UserWarning: X does not have valid feature names, but KNeighborsClassifier was fitted with feature names\n",
      "  warnings.warn(\n"
     ]
    },
    {
     "name": "stdout",
     "output_type": "stream",
     "text": [
      "Train Accuracy: 0.7584238917989211\n"
     ]
    },
    {
     "name": "stderr",
     "output_type": "stream",
     "text": [
      "/opt/anaconda3/lib/python3.12/site-packages/sklearn/base.py:493: UserWarning: X does not have valid feature names, but KNeighborsClassifier was fitted with feature names\n",
      "  warnings.warn(\n"
     ]
    },
    {
     "name": "stdout",
     "output_type": "stream",
     "text": [
      "Test Accuracy: 0.7631332082551595\n"
     ]
    }
   ],
   "source": [
    "from sklearn.metrics import accuracy_score, confusion_matrix\n",
    "\n",
    "print(f\"Train Accuracy: {accuracy_score(y_train, knn.predict(X_train_std))}\")\n",
    "print(f\"Test Accuracy: {accuracy_score(y_test, knn.predict(X_test_std))}\")"
   ]
  },
  {
   "cell_type": "code",
   "execution_count": 32,
   "id": "203d73b1-7bd6-4880-ad88-7a51723dd40b",
   "metadata": {},
   "outputs": [
    {
     "name": "stderr",
     "output_type": "stream",
     "text": [
      "/opt/anaconda3/lib/python3.12/site-packages/sklearn/base.py:493: UserWarning: X does not have valid feature names, but KNeighborsClassifier was fitted with feature names\n",
      "  warnings.warn(\n"
     ]
    },
    {
     "name": "stdout",
     "output_type": "stream",
     "text": [
      "[[19402     0]\n",
      " [ 6180     0]]\n"
     ]
    },
    {
     "name": "stderr",
     "output_type": "stream",
     "text": [
      "/opt/anaconda3/lib/python3.12/site-packages/sklearn/base.py:493: UserWarning: X does not have valid feature names, but KNeighborsClassifier was fitted with feature names\n",
      "  warnings.warn(\n"
     ]
    },
    {
     "name": "stdout",
     "output_type": "stream",
     "text": [
      "[[4881    0]\n",
      " [1515    0]]\n"
     ]
    }
   ],
   "source": [
    "print(confusion_matrix(y_train, knn.predict(X_train_std)))\n",
    "print(confusion_matrix(y_test, knn.predict(X_test_std)))"
   ]
  },
  {
   "cell_type": "code",
   "execution_count": 34,
   "id": "f6c29a80-3a0e-418f-aa86-0811cc57eec8",
   "metadata": {},
   "outputs": [
    {
     "name": "stderr",
     "output_type": "stream",
     "text": [
      "/opt/anaconda3/lib/python3.12/site-packages/sklearn/base.py:493: UserWarning: X does not have valid feature names, but KNeighborsClassifier was fitted with feature names\n",
      "  warnings.warn(\n"
     ]
    },
    {
     "data": {
      "image/png": "[encoded data removed]",
      "text/plain": [
       "<Figure size 640x480 with 1 Axes>"
      ]
     },
     "metadata": {},
     "output_type": "display_data"
    }
   ],
   "source": [
    "import seaborn as sns\n",
    "import matplotlib.pyplot as plt\n",
    "\n",
    "# Scatter plot of two features from the standardized test set\n",
    "sns.scatterplot(\n",
    "    x=X_test_std[:, 0],  # First feature (e.g., first column)\n",
    "    y=X_test_std[:, 1],  # Second feature (e.g., second column)\n",
    "    hue=knn.predict(X_test_std),  # Predictions as the color-coded hue\n",
    "    palette=\"viridis\"\n",
    ")\n",
    "\n",
    "plt.xlabel(\"Feature 1 (Standardized)\")\n",
    "plt.ylabel(\"Feature 2 (Standardized)\")\n",
    "plt.title(\"Scatter Plot with KNN Predictions\")\n",
    "plt.legend(title=\"Predicted Class\")\n",
    "plt.show()"
   ]
  },
  {
   "cell_type": "markdown",
   "id": "07adc062-2f92-4f45-bff1-be74786046b8",
   "metadata": {},
   "source": [
    "### Q2.\n",
    "\n",
    "1. Fit a KNN with all features and k=5. Print train and test accuracy.\n",
    "2. Use GridSearchCV to find the optimal value for k, then print test accuracy and the confusion matrix."
   ]
  },
  {
   "cell_type": "code",
   "execution_count": null,
   "id": "d939da3a-c2f8-41dd-8608-72149b5c96f6",
   "metadata": {},
   "outputs": [],
   "source": [
    "from sklearn.preprocessing import StandardScaler\n",
    "\n",
    "X_train_std = std.fit_transform()\n",
    "X_test_std = std.transform()"
   ]
  },
  {
   "cell_type": "code",
   "execution_count": null,
   "id": "7f535e4d-e6c7-42f0-97dd-6af0c9000767",
   "metadata": {},
   "outputs": [],
   "source": [
    "from sklearn.neighbors import KNeighborsClassifier\n",
    "\n",
    "k = \n",
    "knn = KNeighborsClassifier(n_neighbors=)\n",
    "knn.fit(, )"
   ]
  },
  {
   "cell_type": "code",
   "execution_count": null,
   "id": "23ba039e-f638-4381-af83-b0a331f43c4e",
   "metadata": {},
   "outputs": [],
   "source": [
    "print(f\"Train Accuracy: {accuracy_score(, knn.predict())}\")\n",
    "print(f\"Test Accuracy: {accuracy_score(, knn.predict())}\")"
   ]
  },
  {
   "cell_type": "code",
   "execution_count": null,
   "id": "ab741b66-94a5-4217-9149-7e42500b306f",
   "metadata": {},
   "outputs": [],
   "source": [
    "from sklearn.model_selection import GridSearchCV\n",
    "\n",
    "parameters = {\"n_neighbors\": range(1, 50)}\n",
    "\n",
    "gridsearch = GridSearchCV(KNeighborsClassifier(), parameters)\n",
    "\n",
    "gridsearch.fit(, )\n",
    "\n",
    "gridsearch.best_params_"
   ]
  },
  {
   "cell_type": "code",
   "execution_count": null,
   "id": "dbaf8388-8287-42cd-9247-22f5b375770e",
   "metadata": {},
   "outputs": [],
   "source": [
    "k = \n",
    "knn = KNeighborsClassifier(n_neighbors=)\n",
    "knn.fit(, )"
   ]
  },
  {
   "cell_type": "code",
   "execution_count": null,
   "id": "94e22b38-2a55-4388-a839-d3bfbd667a0c",
   "metadata": {},
   "outputs": [],
   "source": [
    "print(f\"Train Accuracy: {accuracy_score(, knn.predict())}\")\n",
    "print(f\"Test Accuracy: {accuracy_score(, knn.predict())}\")"
   ]
  },
  {
   "cell_type": "code",
   "execution_count": null,
   "id": "e4483bf0-f003-452a-b737-ef7bbfed9fb3",
   "metadata": {},
   "outputs": [],
   "source": [
    "print(confusion_matrix(, knn.predict()))"
   ]
  },
  {
   "cell_type": "markdown",
   "id": "e3e44116-3a1b-483e-9d73-46afbcd63e93",
   "metadata": {},
   "source": [
    "## Logistic Regression"
   ]
  },
  {
   "cell_type": "markdown",
   "id": "3db9e596-656f-4fae-b986-de5aad3b44a5",
   "metadata": {},
   "source": [
    "## Q1.\n",
    "\n",
    "1. Fit a logistic regression to predict income class using just the `age` and `hoursperweek` variables as features.\n",
    "2. Take some time to interpet the impact of age on the probability someone makes over 50k. What is the impact of a one year increase in age?\n",
    "3. Plot age vs. predicted probability."
   ]
  },
  {
   "cell_type": "code",
   "execution_count": null,
   "id": "30c6d6ef-8702-4a6b-8814-4adcede4b4c6",
   "metadata": {},
   "outputs": [],
   "source": [
    "from sklearn.linear_model import LogisticRegression\n",
    "\n",
    "logreg = LogisticRegression()\n",
    "\n",
    "lr = logreg.fit(, )\n",
    "\n",
    "print(f\"Train Accuracy: {lr.score(, )}\")\n",
    "print(f\"Test Accuracy: {lr.score(, )}\")"
   ]
  },
  {
   "cell_type": "code",
   "execution_count": null,
   "id": "9a0aa681-b22f-4036-9a0f-32c165703173",
   "metadata": {},
   "outputs": [],
   "source": [
    "from sklearn.metrics import confusion_matrix\n",
    "\n",
    "confusion_matrix(, lr.predict())"
   ]
  },
  {
   "cell_type": "code",
   "execution_count": null,
   "id": "4f411de0-5613-45ef-b1ea-4e9a410d2b89",
   "metadata": {},
   "outputs": [],
   "source": [
    "np.exp()"
   ]
  },
  {
   "cell_type": "code",
   "execution_count": null,
   "id": "0183a0c9-6164-4a18-baf5-131402c0966f",
   "metadata": {},
   "outputs": [],
   "source": [
    "import seaborn as sns\n",
    "\n",
    "sns.scatterplot(\n",
    "    x=, \n",
    "    y=,\n",
    "    hue=X_test[\"hoursperweek\"]\n",
    ");"
   ]
  },
  {
   "cell_type": "markdown",
   "id": "7f514e5a-b96f-4982-bb08-bb5784aba208",
   "metadata": {},
   "source": [
    "## Q2.\n",
    "\n",
    "1. Fit a Regression using all available features - remove features if it appears there is overfitting.\n",
    "\n",
    "2. Tune the regularization paramters once you've decided on a set of features."
   ]
  },
  {
   "cell_type": "code",
   "execution_count": null,
   "id": "36562a00-b428-43a1-b990-94f1d5596c23",
   "metadata": {},
   "outputs": [],
   "source": [
    "logreg = LogisticRegression(max_iter=1000)\n",
    "\n",
    "lr = logreg.fit(, )\n",
    "\n",
    "print(f\"Train Accuracy: {lr.score(, )}\")\n",
    "print(f\"Test Accuracy: {lr.score(, )}\")"
   ]
  },
  {
   "cell_type": "code",
   "execution_count": null,
   "id": "b955e8dc-bd15-4b24-ab1d-97e93274f943",
   "metadata": {},
   "outputs": [],
   "source": [
    "from sklearn.preprocessing import StandardScaler\n",
    "\n",
    "std = StandardScaler()\n",
    "\n",
    "X_train_std = std.fit_transform()\n",
    "X_test_std = std.transform()"
   ]
  },
  {
   "cell_type": "code",
   "execution_count": null,
   "id": "5283474b-ffc4-4b30-9c1c-037c3451006f",
   "metadata": {},
   "outputs": [],
   "source": [
    "from sklearn.model_selection import GridSearchCV\n",
    "\n",
    "parameters = {\n",
    "    \"C\": np.linspace(.05, .15, 10),\n",
    "    \"penalty\": [\"l1\", \"l2\"]\n",
    "}\n",
    "\n",
    "gridsearch = GridSearchCV(LogisticRegression(solver=\"saga\", max_iter=1000), parameters)\n",
    "\n",
    "gridsearch.fit(, )\n",
    "\n",
    "gridsearch.best_params_"
   ]
  },
  {
   "cell_type": "code",
   "execution_count": null,
   "id": "6a1a83b7-c4e3-40aa-88a2-dbc78ce468a3",
   "metadata": {},
   "outputs": [],
   "source": [
    "logreg = LogisticRegression(C=, penalty=, solver=\"saga\", max_iter=1000)\n",
    "\n",
    "lr = logreg.fit(, )\n",
    "\n",
    "print(f\"Train Accuracy: {lr.score(, )}\")\n",
    "print(f\"Test Accuracy: {lr.score(, )}\")"
   ]
  },
  {
   "cell_type": "code",
   "execution_count": null,
   "id": "312bcb40-5694-41f2-8cc1-548c0bda438d",
   "metadata": {},
   "outputs": [],
   "source": [
    "confusion_matrix(,lr.predict( ))"
   ]
  },
  {
   "cell_type": "markdown",
   "id": "4b1b81fd-42ff-450a-8967-2fa3fe153e2e",
   "metadata": {},
   "source": [
    "## Confusion Matrix Metrics"
   ]
  },
  {
   "cell_type": "markdown",
   "id": "e3fdef05-bcb0-4e85-bcc5-ee7df3a5cd12",
   "metadata": {},
   "source": [
    "### Q1.\n",
    "\n",
    "1. Generate a confusion matrix as well as accuracy, precision, recall and f1 scores for the model below"
   ]
  },
  {
   "cell_type": "code",
   "execution_count": null,
   "id": "f6cd06d1-8dbf-4066-9e98-cd25b9510072",
   "metadata": {},
   "outputs": [],
   "source": [
    "from sklearn.linear_model import LogisticRegression\n",
    "\n",
    "logreg = LogisticRegression(max_iter=1000)\n",
    "\n",
    "lr = logreg.fit(, )"
   ]
  },
  {
   "cell_type": "code",
   "execution_count": null,
   "id": "d20da965-6885-4826-8d37-a7c079efbba4",
   "metadata": {},
   "outputs": [],
   "source": [
    "from sklearn.metrics import confusion_matrix, accuracy_score, precision_score, recall_score, f1_score\n",
    "\n",
    "confusion_matrix(, lr.predict())"
   ]
  },
  {
   "cell_type": "code",
   "execution_count": null,
   "id": "f07e6003-3469-4994-a685-0ecee3046ea9",
   "metadata": {},
   "outputs": [],
   "source": [
    "preds = lr.predict()\n",
    "\n",
    "print(f\"Accuracy: {accuracy_score(y_test, preds)}\")\n",
    "print(f\"Precision: {precision_score(y_test, preds)}\")\n",
    "print(f\"Recall: {recall_score(y_test, preds)}\")\n",
    "print(f\"F1: {f1_score(y_test, preds)}\")"
   ]
  },
  {
   "cell_type": "markdown",
   "id": "a1cbf2df-6f84-4ae6-a9ac-28e5e528ed98",
   "metadata": {},
   "source": [
    "## Q2.\n",
    "\n",
    "1. Plot the precison and recall curves for your model. Plot F1 vs. the Threshold - where is F1 maximized?\n",
    "2. Report accuracy, precision, recall, and F1 at the threshold determined above.\n",
    "3. Plot an ROC curve for your model and calculate the AUC score. "
   ]
  },
  {
   "cell_type": "code",
   "execution_count": null,
   "id": "919e9c13-466b-44ac-bfc5-2b329b175766",
   "metadata": {},
   "outputs": [],
   "source": [
    "from sklearn.metrics import precision_recall_curve\n",
    "import matplotlib.pyplot as plt\n",
    "\n",
    "p_curve, r_curve, t_curve = precision_recall_curve(, lr.predict_proba()[:,1])\n",
    "\n",
    "plt.plot(t_curve, p_curve[:-1], label='Precision')\n",
    "plt.plot(t_curve, r_curve[:-1], label='Recall')\n",
    "plt.xlabel('Prediction Threshold')\n",
    "plt.ylabel('Scores')\n",
    "plt.legend()\n",
    "plt.title('Precision & Recall Curves')\n",
    "plt.show()"
   ]
  },
  {
   "cell_type": "code",
   "execution_count": null,
   "id": "5f42b062-cb97-4dc8-87d1-f691d2ed186b",
   "metadata": {},
   "outputs": [],
   "source": [
    "# Alternate View\n",
    "\n",
    "plt.plot(p_curve[:-1],r_curve[:-1], label='Precision-Recall Curve')\n",
    "plt.xlabel('Precision')\n",
    "plt.ylabel('Recall')\n",
    "plt.legend()\n",
    "plt.title('Precision-Recall Curve')\n",
    "plt.show()"
   ]
  },
  {
   "cell_type": "code",
   "execution_count": null,
   "id": "76877ca0-e028-440e-9886-e98bd94d191d",
   "metadata": {},
   "outputs": [],
   "source": [
    "from sklearn.metrics import f1_score\n",
    "\n",
    "f1 = []\n",
    "\n",
    "thresholds = np.linspace(0, 1, 101)\n",
    "\n",
    "for thresh in thresholds:\n",
    "    y_pred =(lr.predict_proba()[:,1]>thresh)\n",
    "    f1.append(f1_score(, ))\n",
    "    \n",
    "sns.lineplot(x=thresholds, y=f1);"
   ]
  },
  {
   "cell_type": "code",
   "execution_count": null,
   "id": "9f1afa20-39d9-47ce-a2e6-b185849dd68f",
   "metadata": {},
   "outputs": [],
   "source": [
    "thresh = thresholds[f1.index(max(f1))]\n",
    "\n",
    "thresh"
   ]
  },
  {
   "cell_type": "code",
   "execution_count": null,
   "id": "b44d2b86-8135-44a0-ac97-39d6a410702d",
   "metadata": {},
   "outputs": [],
   "source": [
    "preds = lr.predict_proba()[:, 1] > thresh\n",
    "\n",
    "print(f\"Accuracy: {accuracy_score(y_test, preds)}\")\n",
    "print(f\"Precision: {precision_score(y_test, preds)}\")\n",
    "print(f\"Recall: {recall_score(y_test, preds)}\")\n",
    "print(f\"F1: {f1_score(y_test, preds)}\")"
   ]
  },
  {
   "cell_type": "code",
   "execution_count": null,
   "id": "bebd8eb5-f38a-48a7-be7f-ae248e4824b6",
   "metadata": {},
   "outputs": [],
   "source": [
    "from sklearn.metrics import roc_curve, auc\n",
    "    \n",
    "# Predict probabilities for the positive class\n",
    "y_probs = lr.predict_proba(X_train)[:, 1]\n",
    "\n",
    "# Calculate the ROC curve\n",
    "fpr, tpr, thresholds = roc_curve(y_train, y_probs)\n",
    "\n",
    "# Calculate the AUC (Area Under the Curve)\n",
    "auc_score = auc(fpr, tpr)\n",
    "\n",
    "# Plot the ROC curve\n",
    "plt.plot(fpr, tpr, label=f'Logistic Regression (AUC = {auc_score:.2f})')\n",
    "\n",
    "# Draw Random Guess\n",
    "plt.plot([0, 1], [0, 1], 'k--', label='Random Guess (AUC = 0.50)')\n",
    "\n",
    "# Modify Formatting\n",
    "plt.xlabel('False Positive Rate')\n",
    "plt.ylabel('True Positive Rate')\n",
    "plt.title('ROC Curves for Different Models')\n",
    "plt.legend()\n",
    "plt.show()"
   ]
  },
  {
   "cell_type": "markdown",
   "id": "c3c69f09-8dd6-4c51-b094-bf1e7945df80",
   "metadata": {},
   "source": [
    "## Sampling Methods (solution)"
   ]
  },
  {
   "cell_type": "markdown",
   "id": "73625da8-07e0-45f8-a828-e80088996382",
   "metadata": {},
   "source": [
    "### Q1.\n",
    "\n",
    "The following steps can be done one by one or in a single cell.\n",
    "\n",
    "1. Undersample the data to a 2:1 ratio of 0s to 1s and fit a logistic regression - generate a confusion matrix and calculate common evaluation metrics (Accuracy, Precision Recall, F1). \n",
    "\n",
    "2. Oversample the data using random oversampling.Create 4x the the current number of 1s. and fit a logistic regression - generate a confusion matrix and calculate common evaluation metrics. \n",
    "\n",
    "3. Use SMOTE to oversample the data. Create 4x the the current number of 1s. Fit a logistic regression and generate a confusion matrix, as well as calculate common evaluation metrics. \n",
    "\n",
    "4. Which model sampling approach best for this data? Pick the one that gave the best performance at the default threshold, then tune the threshold and report optimized F1 score."
   ]
  },
  {
   "cell_type": "code",
   "execution_count": null,
   "id": "52a176e2-01f0-4b00-8147-797b30873b19",
   "metadata": {},
   "outputs": [],
   "source": [
    "from sklearn.model_selection import train_test_split\n",
    "from sklearn.linear_model import LogisticRegression\n",
    "from sklearn.metrics import f1_score\n",
    "\n",
    "lr = LogisticRegression(max_iter=1000)\n",
    "\n",
    "lr.fit(X_train, y_train)\n",
    "\n",
    "print(f\"Accuracy: {lr.score(X_test, y_test)}\")\n",
    "print(f\"F1: {f1_score(y_test, lr.predict(X_test))}\")"
   ]
  },
  {
   "cell_type": "code",
   "execution_count": null,
   "id": "c668e522-5074-4ec1-9a08-09edcaed8c81",
   "metadata": {},
   "outputs": [],
   "source": [
    "import imblearn.over_sampling as OS\n",
    "import imblearn.under_sampling as US\n",
    "\n",
    "logreg = LogisticRegression(max_iter=1000)\n",
    "\n",
    "lr = logreg.fit(X_train, y_train)\n",
    "\n",
    "# randomly undersample negative samples: \n",
    "RUS = US.RandomUnderSampler(\n",
    "                   sampling_strategy = 1 / 2,\n",
    "                   random_state=2023\n",
    ")\n",
    "\n",
    "X_train_us, y_train_us = RUS.fit_resample(X_train, y_train)\n",
    "\n",
    "lr_us = logreg.fit(X_train_us, y_train_us)\n",
    "\n",
    "# Oversampling\n",
    "# create 4x as many positive samples\n",
    "\n",
    "n_pos = y_train.sum()\n",
    "n_neg = len(y_train) - n_pos\n",
    "ratio = {1 : n_pos * 4, 0 : n_neg}\n",
    "\n",
    "# randomly oversample positives\n",
    "ROS = OS.RandomOverSampler(\n",
    "    sampling_strategy = ratio,\n",
    "    random_state=2023\n",
    ")\n",
    "\n",
    "X_train_os, y_train_os = ROS.fit_resample(X_train, y_train)\n",
    "\n",
    "lr_os = logreg.fit(X_train_os, y_train_os)\n",
    "\n",
    "\n",
    "# SMOTE oversampling for positives\n",
    "smt = OS.SMOTE(\n",
    "    sampling_strategy = ratio,\n",
    "    random_state=2023\n",
    ")\n",
    "\n",
    "X_train_smt, y_train_smt = smt.fit_resample(X_train, y_train)\n",
    "\n",
    "lr_smt = logreg.fit(X_train_smt, y_train_smt)\n",
    "\n",
    "\n",
    "\n",
    "# Training Accuracy\n",
    "\n",
    "print(f\"Normal Accuracy: {lr.score(X_train, y_train)}\")\n",
    "print(f\"Undersample Accuracy: {lr_us.score(X_train_us, y_train_us)}\")\n",
    "print(f\"Oversample Accuracy: {lr_os.score(X_train_os, y_train_os)}\")\n",
    "print(f\"SMOTE Accuracy: {lr_smt.score(X_train_smt, y_train_smt)}\")"
   ]
  },
  {
   "cell_type": "code",
   "execution_count": null,
   "id": "d8ece11f-1999-49ba-9c45-fd1a91b03460",
   "metadata": {},
   "outputs": [],
   "source": [
    "from sklearn.metrics import precision_score, recall_score, f1_score\n",
    "\n",
    "print(f\"Normal Precision: {precision_score(y_train, lr.predict(X_train))}\")\n",
    "print(f\"Undersample Precision: {precision_score(y_train_us, lr_us.predict(X_train_us))}\")\n",
    "print(f\"Oversample Precision: {precision_score(y_train_os, lr_os.predict(X_train_os))}\")\n",
    "print(f\"SMOTE Precision: {precision_score(y_train_smt, lr_smt.predict(X_train_smt))}\")"
   ]
  },
  {
   "cell_type": "code",
   "execution_count": null,
   "id": "cbf36f6c-0cee-4f93-826e-8a3b1ec0f05e",
   "metadata": {},
   "outputs": [],
   "source": [
    "print(f\"Normal Recall: {recall_score(y_train, lr.predict(X_train))}\")\n",
    "print(f\"Undersample Recall: {recall_score(y_train_us, lr_us.predict(X_train_us))}\")\n",
    "print(f\"Oversample Recall: {recall_score(y_train_os, lr_os.predict(X_train_os))}\")\n",
    "print(f\"SMOTE Recall: {recall_score(y_train_smt, lr_smt.predict(X_train_smt))}\")"
   ]
  },
  {
   "cell_type": "code",
   "execution_count": null,
   "id": "c08ed754-3ba1-4d7c-a4dc-823f430d0f3e",
   "metadata": {},
   "outputs": [],
   "source": [
    "print(f\"Normal F1: {f1_score(y_train, lr.predict(X_train))}\")\n",
    "print(f\"Undersample F1: {f1_score(y_train_us, lr_us.predict(X_train_us))}\")\n",
    "print(f\"Oversample F1: {f1_score(y_train_os, lr_os.predict(X_train_os))}\")\n",
    "print(f\"SMOTE F1: {f1_score(y_train_smt, lr_smt.predict(X_train_smt))}\")"
   ]
  },
  {
   "cell_type": "code",
   "execution_count": null,
   "id": "f7678be2-2cb7-40fc-8b76-4ae083fe0d1f",
   "metadata": {},
   "outputs": [],
   "source": [
    "from sklearn.metrics import precision_recall_curve\n",
    "from sklearn.model_selection import train_test_split\n",
    "\n",
    "p_curve, r_curve, t_curve = precision_recall_curve(y_train_smt, lr_smt.predict_proba(X_train_smt)[:,1])\n",
    "\n",
    "import matplotlib.pyplot as plt\n",
    "\n",
    "plt.plot(t_curve, p_curve[:-1], label='Precision')\n",
    "plt.plot(t_curve, r_curve[:-1], label='Recall')\n",
    "plt.xlabel('Threshold')\n",
    "plt.ylabel('Score')\n",
    "plt.legend()\n",
    "plt.title('Precision & Recall vs. Threshold')\n",
    "plt.show()"
   ]
  },
  {
   "cell_type": "code",
   "execution_count": null,
   "id": "b0c34f78-35fe-4434-ab9e-51e53598c9e7",
   "metadata": {},
   "outputs": [],
   "source": [
    "from sklearn.metrics import f1_score\n",
    "\n",
    "f1 = []\n",
    "\n",
    "thresholds = np.linspace(0, 1, 101)\n",
    "\n",
    "for thresh in thresholds:\n",
    "    y_pred =(lr_smt.predict_proba(X_train_smt)[:,1]>thresh)\n",
    "    f1.append(f1_score(y_train_smt, y_pred))\n",
    "    \n",
    "sns.lineplot(x=thresholds, y=f1);"
   ]
  },
  {
   "cell_type": "code",
   "execution_count": null,
   "id": "b0137030-2ba0-4d1f-b202-3d338138e677",
   "metadata": {},
   "outputs": [],
   "source": [
    "thresh = thresholds[f1.index(max(f1))]\n",
    "\n",
    "thresh"
   ]
  },
  {
   "cell_type": "code",
   "execution_count": null,
   "id": "e016edbe-1cbc-4cbb-9348-43d2047bf860",
   "metadata": {},
   "outputs": [],
   "source": [
    "print(f\"SMOTE F1: {f1_score(y_train_smt, lr_smt.predict_proba(X_train_smt)[:, 1] > thresh)}\")"
   ]
  },
  {
   "cell_type": "markdown",
   "id": "801132b6-342c-4670-9940-0d30d79f8a19",
   "metadata": {},
   "source": [
    "### Q2\n",
    "\n",
    "1. Fit a regression with standard, balanced and 4:1 (minority vs majority) class weights. Calculate the AUC for each.\n",
    "2. For the weighting that had the best AUC, tune the threshold to maximize F1 score."
   ]
  },
  {
   "cell_type": "code",
   "execution_count": null,
   "id": "a848dbd1-54fe-4fa7-a1e1-7a1c3dc31b4a",
   "metadata": {},
   "outputs": [],
   "source": [
    "lr = LogisticRegression(max_iter=1000)\n",
    "\n",
    "lr_balanced = LogisticRegression(class_weight = \"balanced\", max_iter=1000)\n",
    "\n",
    "lr_4x = LogisticRegression(class_weight = {1:4, 0:1}, max_iter=1000)"
   ]
  },
  {
   "cell_type": "code",
   "execution_count": null,
   "id": "c812b333-92f0-4c2b-8ded-117461f62f79",
   "metadata": {},
   "outputs": [],
   "source": [
    "# equally weighted model (default) \n",
    "lr.fit(X_train, y_train)\n",
    "\n",
    "# multiplies minority by common:rare ratio\n",
    "lr_balanced.fit(X_train, y_train)\n",
    "\n",
    "# 4x weight (4x minority)\n",
    "lr_4x.fit(X_train, y_train)"
   ]
  },
  {
   "cell_type": "code",
   "execution_count": null,
   "id": "2cb7c520-80e2-44bd-bf63-15fe2ddf41c7",
   "metadata": {},
   "outputs": [],
   "source": [
    "lr_score = lr.score(X_test, y_test)\n",
    "lr_balanced_score = lr_balanced.score(X_test, y_test)\n",
    "lr_4x_score = lr_4x.score(X_test, y_test)\n",
    "\n",
    "print(f\"Standard Weight score: {lr_score}\")\n",
    "print(f\"Balanced Weight score: {lr_balanced_score}\")\n",
    "print(f\"4x Weight score: {lr_4x_score}\")"
   ]
  },
  {
   "cell_type": "code",
   "execution_count": null,
   "id": "341d66b2-c861-4d2e-b046-d229fead580b",
   "metadata": {},
   "outputs": [],
   "source": [
    "from sklearn.metrics import roc_curve, auc\n",
    "\n",
    "y_probs = lr.predict_proba(X_train)[:, 1]\n",
    "fpr, tpr, thresholds = roc_curve(y_train, y_probs)\n",
    "auc_score = auc(fpr, tpr)\n",
    "\n",
    "print(f\"Standard Weight AUC: {auc_score}\")\n",
    "\n",
    "y_probs = lr_balanced.predict_proba(X_train)[:, 1]\n",
    "fpr, tpr, thresholds = roc_curve(y_train, y_probs)\n",
    "auc_score = auc(fpr, tpr)\n",
    "\n",
    "print(f\"Balanced Weight AUC: {auc_score}\")\n",
    "\n",
    "y_probs = lr_4x.predict_proba(X_train)[:, 1]\n",
    "fpr, tpr, thresholds = roc_curve(y_train, y_probs)\n",
    "auc_score = auc(fpr, tpr)\n",
    "\n",
    "print(f\"4x Weight AUC: {auc_score}\")"
   ]
  },
  {
   "cell_type": "code",
   "execution_count": null,
   "id": "024c53e8-a889-416b-867e-5d4573f00534",
   "metadata": {},
   "outputs": [],
   "source": [
    "from sklearn.metrics import f1_score\n",
    "\n",
    "f1 = []\n",
    "\n",
    "thresholds = np.linspace(0, 1, 101)\n",
    "\n",
    "for thresh in thresholds:\n",
    "    y_pred =(lr_4x.predict_proba(X_train)[:,1]>thresh)\n",
    "    f1.append(f1_score(y_train, y_pred))\n",
    "    \n",
    "sns.lineplot(x=thresholds, y=f1);"
   ]
  },
  {
   "cell_type": "code",
   "execution_count": null,
   "id": "c808c306-4db8-428d-a14d-71e969b39592",
   "metadata": {},
   "outputs": [],
   "source": [
    "thresh = thresholds[f1.index(max(f1))]\n",
    "\n",
    "thresh"
   ]
  },
  {
   "cell_type": "code",
   "execution_count": null,
   "id": "32b1a1e1-f4b1-4122-a1a6-69e97301a416",
   "metadata": {},
   "outputs": [],
   "source": [
    "print(f\"4x F1: {f1_score(y_train, lr_4x.predict_proba(X_train)[:, 1] > thresh)}\")"
   ]
  },
  {
   "cell_type": "code",
   "execution_count": null,
   "id": "c2a6327d-aef8-4269-8c63-5bc893409461",
   "metadata": {},
   "outputs": [],
   "source": [
    "from sklearn.metrics import precision_score,recall_score,f1_score\n",
    "\n",
    "\n",
    "print(f\"F1: {f1_score(y_train, lr.predict(X_train))}\")\n",
    "print(f\"F1 Balanced: {f1_score(y_train, lr_balanced.predict(X_train))}\")\n",
    "print(f\"F1 4x: {f1_score(y_train, lr_4x.predict(X_train))}\")"
   ]
  }
 ],
 "metadata": {
  "kernelspec": {
   "display_name": "Python 3 (ipykernel)",
   "language": "python",
   "name": "python3"
  },
  "language_info": {
   "codemirror_mode": {
    "name": "ipython",
    "version": 3
   },
   "file_extension": ".py",
   "mimetype": "text/x-python",
   "name": "python",
   "nbconvert_exporter": "python",
   "pygments_lexer": "ipython3",
   "version": "3.12.4"
  }
 },
 "nbformat": 4,
 "nbformat_minor": 5
}

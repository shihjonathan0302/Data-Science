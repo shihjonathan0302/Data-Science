{
 "cells": [
  {
   "cell_type": "markdown",
   "id": "0f5fc8cf-7e80-4ece-8ad3-81b920515832",
   "metadata": {},
   "source": [
    "# Conditional Logic"
   ]
  },
  {
   "cell_type": "markdown",
   "id": "1ebfb45a-3598-4431-aff1-0e344d263696",
   "metadata": {},
   "source": [
    "### Inventory Logic (inventory_logic.ipynb)\n",
    "\n",
    "I need you to create some logic that returns Boolean values depending on Inventory levels and other factors.\n",
    "\n",
    "Our current inventory level is 5 units."
   ]
  },
  {
   "cell_type": "code",
   "execution_count": 217,
   "id": "35ca4e1d-4ef0-4421-b3d1-6b756202ca5e",
   "metadata": {},
   "outputs": [],
   "source": [
    "inventory_count = 5\n"
   ]
  },
  {
   "cell_type": "markdown",
   "id": "d82bf516-f01e-45b6-a51a-3a6a598b2e18",
   "metadata": {},
   "source": [
    "### Do we have any stock?\n",
    "\n",
    "Write logic that returns True if we have 0 units of inventory."
   ]
  },
  {
   "cell_type": "code",
   "execution_count": 220,
   "id": "594f5ebf-a2d5-4a8e-81ce-a2eabe685862",
   "metadata": {},
   "outputs": [
    {
     "data": {
      "text/plain": [
       "False"
      ]
     },
     "execution_count": 220,
     "metadata": {},
     "output_type": "execute_result"
    }
   ],
   "source": [
    "inventory_count == 0"
   ]
  },
  {
   "cell_type": "markdown",
   "id": "ef55d1ed-e6a9-4738-8247-81f3c3b03f8a",
   "metadata": {},
   "source": [
    "### Do we have a safe level of inventory?\n",
    "\n",
    "Write logic that returns True if we have more than five units of inventory."
   ]
  },
  {
   "cell_type": "code",
   "execution_count": 222,
   "id": "0905c9e9-1539-4890-afa8-c18d0e765bcf",
   "metadata": {},
   "outputs": [
    {
     "data": {
      "text/plain": [
       "False"
      ]
     },
     "execution_count": 222,
     "metadata": {},
     "output_type": "execute_result"
    }
   ],
   "source": [
    "inventory_count > 5"
   ]
  },
  {
   "cell_type": "markdown",
   "id": "f9295c3e-e211-45d8-8e0a-c6464dcdf973",
   "metadata": {},
   "source": [
    "### Display price if we have more than five units of inventory\n",
    "\n",
    "Now, write logic that displays the price of our product if we have more than five units of inventory, and 0.0 if not.\n",
    "\n",
    "Our current price is 99.99."
   ]
  },
  {
   "cell_type": "code",
   "execution_count": 224,
   "id": "7e865aaa-63f2-4b19-aad3-dcc1f6272a8b",
   "metadata": {},
   "outputs": [
    {
     "name": "stdout",
     "output_type": "stream",
     "text": [
      "0.0\n"
     ]
    }
   ],
   "source": [
    "inventory_count = 5\n",
    "price = 99.99\n",
    "if inventory_count > 5:\n",
    "    print (price)\n",
    "else:\n",
    "    print (0.0)"
   ]
  },
  {
   "cell_type": "markdown",
   "id": "9d4f4fa0-8f3f-4c8a-9b3c-dbf1a9d3d5fc",
   "metadata": {},
   "source": [
    "### Discount Sale Item Flag\n",
    "\n",
    "Now write logic that returns True if inventory is greater than 0 and the product price is less than 100 dollars."
   ]
  },
  {
   "cell_type": "code",
   "execution_count": 226,
   "id": "3835b558-35b0-4e3f-9790-779faa579260",
   "metadata": {},
   "outputs": [
    {
     "data": {
      "text/plain": [
       "True"
      ]
     },
     "execution_count": 226,
     "metadata": {},
     "output_type": "execute_result"
    }
   ],
   "source": [
    "price=  99.99\n",
    "inventory_count >= 0 and price<= 100"
   ]
  },
  {
   "cell_type": "markdown",
   "id": "27839d34-82d3-43ca-8d33-37469aa874fc",
   "metadata": {},
   "source": [
    "### Special Customer Flag\n",
    "\n",
    "Finally, we need to create logic that returns True if inventory is greater than 0, or the customer's name is Chris AND the product is named 'super_snowboard'."
   ]
  },
  {
   "cell_type": "code",
   "execution_count": 229,
   "id": "caf74a07-92a5-4ad8-8161-7958eaf4cdee",
   "metadata": {},
   "outputs": [
    {
     "data": {
      "text/plain": [
       "True"
      ]
     },
     "execution_count": 229,
     "metadata": {},
     "output_type": "execute_result"
    }
   ],
   "source": [
    "customer_name = 'Chris'\n",
    "inventory_count = 0\n",
    "product = 'super_snowboard'\n",
    "\n",
    "(inventory_count >= 0 or customer_name == 'Chris') and product == 'super_snowboard'"
   ]
  },
  {
   "cell_type": "markdown",
   "id": "d513893a-b08c-46a5-ae78-0cb8f9c92079",
   "metadata": {},
   "source": [
    "### Inventory Message (inventory_query.ipynb)\n",
    "\n",
    "Let's add and out of stock flag to our products. \n",
    " \n",
    "* If inventory is negative or 0, print 'OUT OF STOCK'. \n",
    "* If inventory is greater than 0, and less than or equal to 5, print 'Low Stock'. \n",
    "* If inventory is anything else, print 'In Stock'"
   ]
  },
  {
   "cell_type": "code",
   "execution_count": 30,
   "id": "088e07da-2fc0-4361-a6d1-5357eb600ec7",
   "metadata": {},
   "outputs": [
    {
     "name": "stdout",
     "output_type": "stream",
     "text": [
      "Low Stock\n"
     ]
    }
   ],
   "source": [
    "inventory = 3\n",
    "\n",
    "if inventory <= 0:\n",
    "    print ('OUT OF STOCK')\n",
    "elif inventory > 0:\n",
    "    print ('Low Stock')\n",
    "else: \n",
    "    print ('In Stock')"
   ]
  },
  {
   "cell_type": "markdown",
   "id": "ebbbfc30-868f-4c8b-bcd2-3587876b46fd",
   "metadata": {},
   "source": [
    "### Inventory Message - VIP Request (inventory_query2.ipynb)\n",
    "\n",
    "Hi there, modify the previous inventory logic to handle a special customer.\n",
    "\n",
    "* Print 'Out of Stock' if the inventory is less than or equal to zero, unless our customer's name is Chris.\n",
    "\n",
    "    * If inventory is less than or equal to zero, we can give our customer named Chris the display model. \n",
    "\n",
    "\n",
    "\n",
    "* Modify the logic below to print the following message if the new logic is met:\n",
    "\n",
    "    * 'You can have the display model, sir'\n",
    "\n",
    "\n",
    "I've pasted the current inventory logic and some test values below. Make sure to test a few different values for each variable."
   ]
  },
  {
   "cell_type": "code",
   "execution_count": 32,
   "id": "6bb437fc-364d-400d-953d-a36afe381f93",
   "metadata": {},
   "outputs": [
    {
     "name": "stdout",
     "output_type": "stream",
     "text": [
      "Out of Stock\n"
     ]
    }
   ],
   "source": [
    "inventory = 0\n",
    "customer_name = 'Chris'\n",
    "\n",
    "if inventory <= 0:\n",
    "    print('Out of Stock')\n",
    "elif inventory <= 5:\n",
    "    print('Low Stock')\n",
    "else:\n",
    "    print('In Stock')\n"
   ]
  },
  {
   "cell_type": "markdown",
   "id": "8eb5dbe5-eaf6-4983-b9a1-dbbc27a29a94",
   "metadata": {},
   "source": [
    "### With Nested Logic\n"
   ]
  },
  {
   "cell_type": "code",
   "execution_count": 40,
   "id": "cc396c5c-b22b-46ef-92ff-4e3e8213862f",
   "metadata": {},
   "outputs": [
    {
     "name": "stdout",
     "output_type": "stream",
     "text": [
      "You can have the displsy model, sir\n"
     ]
    }
   ],
   "source": [
    "inventory = 0\n",
    "customer_name = 'Chris'\n",
    "\n",
    "if inventory <= 0:\n",
    "    if customer_name != 'Chris':\n",
    "        print ('Out of Stock')\n",
    "    else:\n",
    "        print ('You can have the displsy model, sir')\n",
    "else:\n",
    "    print ('You can have the display model, sir')\n"
   ]
  },
  {
   "cell_type": "markdown",
   "id": "a9fbf0a7-2c0f-4155-b9ef-0e571ec03987",
   "metadata": {},
   "source": [
    "### Without Nested Logic"
   ]
  },
  {
   "cell_type": "code",
   "execution_count": null,
   "id": "d5950ae0-218a-4dd4-a903-2a5f6c50c058",
   "metadata": {},
   "outputs": [],
   "source": [
    "inventory = 0\n",
    "customer_name = 'Chris'\n"
   ]
  },
  {
   "cell_type": "markdown",
   "id": "8eb62633-101a-4ac6-ad8d-71b96b74732e",
   "metadata": {},
   "source": [
    "#"
   ]
  },
  {
   "cell_type": "markdown",
   "id": "b2cb5004-5036-4a39-ba67-95f8687b70c7",
   "metadata": {},
   "source": [
    "# Sequences"
   ]
  },
  {
   "cell_type": "markdown",
   "id": "01649e2d-ac14-40b3-a60e-a12cc7a705ab",
   "metadata": {},
   "source": [
    "### Create a List the customers that made purchases on black friday (black_friday_customers.ipynb)\n",
    "\n",
    "The customers that made purchases on Black Friday were:\n",
    "\n",
    "C00001, C00003, C00004, C00005 C00006, C00007, C00018, C00010, C00013, C00014, C00015, C00016 and C00029\n",
    "\n",
    "Call your list `customer_list`."
   ]
  },
  {
   "cell_type": "code",
   "execution_count": 42,
   "id": "faeb0d41-7ed5-4467-8ffd-e5eefe26442b",
   "metadata": {},
   "outputs": [
    {
     "name": "stdout",
     "output_type": "stream",
     "text": [
      "['C00001', 'C00003', 'C00004', 'C00005', 'C00006', 'C00007', 'C00018', 'C00010', 'C00013', 'C00014', 'C00015', 'C00016', 'C00029']\n"
     ]
    }
   ],
   "source": [
    "customer_list = ['C00001', 'C00003', 'C00004', 'C00005', 'C00006', 'C00007', 'C00018', 'C00010', 'C00013', 'C00014', 'C00015', 'C00016', 'C00029']\n",
    "\n",
    "print (customer_list)"
   ]
  },
  {
   "cell_type": "markdown",
   "id": "64b6be9e-54ba-4075-9a96-b04d87e0172c",
   "metadata": {},
   "source": [
    "### Did C00009 make a purchase?\n",
    "\n",
    "This customer said they made a purchase we're not seeing it in our data. If they did, we need to record the revenue.\n",
    "\n",
    "Write code that returns 99.99 if C00009 is in the list. If not, return 0.0."
   ]
  },
  {
   "cell_type": "code",
   "execution_count": 44,
   "id": "bed34185-8b9f-407e-b643-9c9367265b38",
   "metadata": {},
   "outputs": [
    {
     "name": "stdout",
     "output_type": "stream",
     "text": [
      "0.0\n"
     ]
    }
   ],
   "source": [
    "if 'C00009' in customer_list:\n",
    "    print ('99.00')\n",
    "else:\n",
    "    print ('0.0')"
   ]
  },
  {
   "cell_type": "markdown",
   "id": "fe21fa2e-d87a-4861-9824-721c066c0073",
   "metadata": {},
   "source": [
    "### Market Research Samples\n",
    "\n",
    "1. Using slicing, create a list containing the fifth and sixth customer in the list called `fifth_sixth`.\n"
   ]
  },
  {
   "cell_type": "code",
   "execution_count": 53,
   "id": "225e8b77-e178-4d76-9056-69818dac3eb2",
   "metadata": {},
   "outputs": [
    {
     "data": {
      "text/plain": [
       "['C00006', 'C00007']"
      ]
     },
     "execution_count": 53,
     "metadata": {},
     "output_type": "execute_result"
    }
   ],
   "source": [
    "fifth_sixth = customer_list[4:6]\n",
    "\n",
    "fifth_sixth"
   ]
  },
  {
   "cell_type": "markdown",
   "id": "6c84e099-2fc7-45f2-af90-a3b9c952bde4",
   "metadata": {},
   "source": [
    "2. Create a list called `every_third` that contains every third customer in the list (1st, 4rd, 7th, and so on...)."
   ]
  },
  {
   "cell_type": "code",
   "execution_count": 57,
   "id": "8f3a03b1-98ce-4087-a1a2-84b46452dad7",
   "metadata": {},
   "outputs": [
    {
     "data": {
      "text/plain": [
       "['C00001', 'C00005', 'C00018', 'C00014', 'C00029']"
      ]
     },
     "execution_count": 57,
     "metadata": {},
     "output_type": "execute_result"
    }
   ],
   "source": [
    "every_third = customer_list[::3]\n",
    "\n",
    "every_third"
   ]
  },
  {
   "cell_type": "markdown",
   "id": "b9ec4277-3d91-437b-996b-c3fab59d8869",
   "metadata": {},
   "source": [
    "3. Finally, using slicing, create a list with the last two customers in our dataset, called `last_two`."
   ]
  },
  {
   "cell_type": "code",
   "execution_count": 63,
   "id": "814407ef-cf90-4ce7-8885-4ce71399b793",
   "metadata": {},
   "outputs": [
    {
     "data": {
      "text/plain": [
       "['C00016', 'C00029']"
      ]
     },
     "execution_count": 63,
     "metadata": {},
     "output_type": "execute_result"
    }
   ],
   "source": [
    "last_two = customer_list[-2:]\n",
    "\n",
    "last_two"
   ]
  },
  {
   "cell_type": "markdown",
   "id": "6f360428-b4d0-4be4-9eb1-77a24763323c",
   "metadata": {},
   "source": [
    "### Updated Customer Lists (updated_customer_lists.ipynb)\n",
    "\n",
    "Hi there, we need to add customer 'C00009' to `customer_list`, we just found their receipt in the warehouse.\n",
    "\n",
    "I've included the original `customer_list` below."
   ]
  },
  {
   "cell_type": "code",
   "execution_count": 67,
   "id": "2c0f5de6-86d9-476f-be7b-05db20541259",
   "metadata": {},
   "outputs": [],
   "source": [
    "customer_list = [\n",
    "    'C00001', 'C00003', 'C00004','C00005', 'C00006', \n",
    "    'C00007', 'C00008', 'C00010', 'C00013', 'C00014', \n",
    "    'C00015', 'C00016', 'C00020'\n",
    "]"
   ]
  },
  {
   "cell_type": "code",
   "execution_count": 69,
   "id": "80b995aa-6c22-456f-8e4b-7136789cbdc8",
   "metadata": {},
   "outputs": [
    {
     "data": {
      "text/plain": [
       "['C00001',\n",
       " 'C00003',\n",
       " 'C00004',\n",
       " 'C00005',\n",
       " 'C00006',\n",
       " 'C00007',\n",
       " 'C00008',\n",
       " 'C00010',\n",
       " 'C00013',\n",
       " 'C00014',\n",
       " 'C00015',\n",
       " 'C00016',\n",
       " 'C00020',\n",
       " 'C00009']"
      ]
     },
     "execution_count": 69,
     "metadata": {},
     "output_type": "execute_result"
    }
   ],
   "source": [
    "customer_list.append('C00009')\n",
    "\n",
    "customer_list\n",
    "                     "
   ]
  },
  {
   "cell_type": "markdown",
   "id": "c1274206-9c42-4083-83b7-35345a29d642",
   "metadata": {},
   "source": [
    "### Adding Saturday Customers\n",
    "\n",
    "Add the customers from `saturday_list` to `customer_list` below."
   ]
  },
  {
   "cell_type": "code",
   "execution_count": 77,
   "id": "f76cbb22-a62a-41e3-8d84-7b4fe71736ab",
   "metadata": {},
   "outputs": [],
   "source": [
    "saturday_list = [\n",
    "    'C00004', 'C00017', 'C00019', 'C00002', 'C00008',\n",
    "    'C00021', 'C00022'\n",
    "]"
   ]
  },
  {
   "cell_type": "code",
   "execution_count": 81,
   "id": "280d7ba9-affa-42ac-bb08-2f4a380e8777",
   "metadata": {},
   "outputs": [
    {
     "name": "stdout",
     "output_type": "stream",
     "text": [
      "['C00004', 'C00017', 'C00019', 'C00002', 'C00008', 'C00021', 'C00022', 'C00001', 'C00003', 'C00004', 'C00005', 'C00006', 'C00007', 'C00008', 'C00010', 'C00013', 'C00014', 'C00015', 'C00016', 'C00020', 'C00009']\n"
     ]
    }
   ],
   "source": [
    "all_customers = saturday_list + customer_list\n",
    "\n",
    "print(all_customers)"
   ]
  },
  {
   "cell_type": "markdown",
   "id": "ceade252-f183-4468-b5cc-5fba6d91a0bb",
   "metadata": {},
   "source": [
    "### Updated Customer Lists (Final Update) (updated_updated_customer_lists.ipynb)\n",
    "\n",
    "We now need to remove the Saturday customers from the list. \n",
    "\n",
    "I've included the full `customer_list` below.\n",
    "\n",
    "The Saturday customers are the final seven customers in `customer_list`. "
   ]
  },
  {
   "cell_type": "code",
   "execution_count": 163,
   "id": "c390c996-fa1c-4439-b1fa-efb80001102b",
   "metadata": {},
   "outputs": [],
   "source": [
    "# run this cell to create the list\n",
    "customer_list = [\n",
    "    'C00001', 'C00003', 'C00004', 'C00005', 'C00006',\n",
    "    'C00007', 'C00008', 'C00009', 'C00010', 'C00013', \n",
    "    'C00014', 'C00015', 'C00016', 'C00020', 'C00004', \n",
    "    'C00017', 'C00019', 'C00002', 'C00008', 'C00021',\n",
    "    'C00022'\n",
    "]\n"
   ]
  },
  {
   "cell_type": "code",
   "execution_count": 165,
   "id": "45a0fdb4-6197-461a-89c8-e9cc8e9a126e",
   "metadata": {},
   "outputs": [
    {
     "name": "stdout",
     "output_type": "stream",
     "text": [
      "['C00001', 'C00003', 'C00004', 'C00005', 'C00006', 'C00007', 'C00008', 'C00009', 'C00010', 'C00013', 'C00014', 'C00015', 'C00016', 'C00020']\n"
     ]
    }
   ],
   "source": [
    "del customer_list[-7::]\n",
    "\n",
    "print(customer_list)"
   ]
  },
  {
   "cell_type": "markdown",
   "id": "fbe884b6-ce89-46ee-8d1d-8e611dda91ec",
   "metadata": {},
   "source": [
    "### Delete a friend\n",
    "\n",
    "Please remove customer 'C00004' from the reduced list you just created. This is a friend of the owner and shouldn't be recorded as a sale."
   ]
  },
  {
   "cell_type": "code",
   "execution_count": 168,
   "id": "909964bd-37b1-487e-bc66-864fe98e3cb3",
   "metadata": {},
   "outputs": [
    {
     "data": {
      "text/plain": [
       "['C00001',\n",
       " 'C00003',\n",
       " 'C00005',\n",
       " 'C00006',\n",
       " 'C00007',\n",
       " 'C00008',\n",
       " 'C00009',\n",
       " 'C00010',\n",
       " 'C00013',\n",
       " 'C00014',\n",
       " 'C00015',\n",
       " 'C00016',\n",
       " 'C00020']"
      ]
     },
     "execution_count": 168,
     "metadata": {},
     "output_type": "execute_result"
    }
   ],
   "source": [
    "customer_list.remove('C00004')\n",
    "\n",
    "customer_list"
   ]
  },
  {
   "cell_type": "markdown",
   "id": "827aac2d-fb77-43f9-8b62-4b96504ec840",
   "metadata": {},
   "source": [
    "### Black Friday Data (customer_transactions.ipynb)\n",
    "\n",
    "We've compiled lists of the black friday `customer_ids` and `subtotals`, the amount before tax, below"
   ]
  },
  {
   "cell_type": "code",
   "execution_count": 201,
   "id": "488076d8-439b-4af0-9947-37835ce73673",
   "metadata": {},
   "outputs": [],
   "source": [
    "customer_ids = [\n",
    "    'C00004', 'C00007', 'C00015', 'C00016', 'C00020',\n",
    "    'C00010', 'C00006', 'C00001', 'C00003', 'C00014',\n",
    "    'C00001', 'C00001', 'C00005', 'C00008', 'C00013',\n",
    "    'C00004', 'C00017', 'C00019', 'C00002', 'C00008',\n",
    "    'C00021', 'C00022', 'C00006', 'C00018', 'C00018',\n",
    "    'C00010', 'C00016'\n",
    "]\n",
    "\n",
    "subtotals = [\n",
    "    15.98, 899.97, 799.97, 117.96, 5.99,\n",
    "    599.99, 24.99, 1799.94, 99.99, 254.95,\n",
    "    29.98, 99.99, 25.98, 649.98, 89.99,\n",
    "    119.99, 599.99, 649.98, 24.99, 99.99,\n",
    "    99.99, 5.99, 24.99, 999.96, 99.99,\n",
    "    399.97, 89.99\n",
    "]"
   ]
  },
  {
   "cell_type": "markdown",
   "id": "c7d44913-2a8a-45a0-9b4d-66d45a30cb3a",
   "metadata": {},
   "source": [
    "### Calculate the Average Transaction\n",
    "\n",
    "Calculate the average value of the transactions in the list  `subtotals`.\n",
    "\n",
    "We don't have an average function, so we might need to use sum() and len() to do so. "
   ]
  },
  {
   "cell_type": "code",
   "execution_count": 204,
   "id": "dfbf7062-a768-40e0-b2fb-a25e7bd5f016",
   "metadata": {},
   "outputs": [
    {
     "data": {
      "text/plain": [
       "323.3877777777777"
      ]
     },
     "execution_count": 204,
     "metadata": {},
     "output_type": "execute_result"
    }
   ],
   "source": [
    "sum (subtotals)/ len (subtotals)\n"
   ]
  },
  {
   "cell_type": "markdown",
   "id": "e7da4037-f8d2-4895-9ea8-b4eb0af06af3",
   "metadata": {},
   "source": [
    "### Customer Deep Dive\n",
    "\n",
    "How many transactions did customer C00010 make?"
   ]
  },
  {
   "cell_type": "code",
   "execution_count": 207,
   "id": "da1be732-ef68-4ca2-97dd-3007d7dc3ad6",
   "metadata": {},
   "outputs": [
    {
     "data": {
      "text/plain": [
       "2"
      ]
     },
     "execution_count": 207,
     "metadata": {},
     "output_type": "execute_result"
    }
   ],
   "source": [
    "customer_ids.count('C00010')"
   ]
  },
  {
   "cell_type": "markdown",
   "id": "aab4d629-22bb-44e7-98ea-c7a4d00de28f",
   "metadata": {},
   "source": [
    "What is the index of customer C00010's first transaction?"
   ]
  },
  {
   "cell_type": "code",
   "execution_count": 210,
   "id": "0db7d4ba-70df-4864-82e3-d25ab0456042",
   "metadata": {},
   "outputs": [
    {
     "data": {
      "text/plain": [
       "5"
      ]
     },
     "execution_count": 210,
     "metadata": {},
     "output_type": "execute_result"
    }
   ],
   "source": [
    "customer_ids.index('C00010')"
   ]
  },
  {
   "cell_type": "markdown",
   "id": "9f88050b-69d4-43ca-a646-235466a318da",
   "metadata": {},
   "source": [
    "What is the revenue of C00010's first transaction? \n",
    "\n",
    "We will need to index `subtotals` using the index returned in the last question."
   ]
  },
  {
   "cell_type": "code",
   "execution_count": 231,
   "id": "89022e8a-3864-40cb-b758-1db52d8dcff0",
   "metadata": {},
   "outputs": [
    {
     "data": {
      "text/plain": [
       "599.99"
      ]
     },
     "execution_count": 231,
     "metadata": {},
     "output_type": "execute_result"
    }
   ],
   "source": [
    "subtotals[5]"
   ]
  },
  {
   "cell_type": "markdown",
   "id": "027702ae-f5bb-4155-89f9-cbdaed6cc7e6",
   "metadata": {},
   "source": [
    "### Print a sorted list of customer ID's.\n",
    "\n",
    "We want to scan this to see if any of our loyal customers didn't make a purchase.\n",
    "\n",
    "Don't change `customer_ids` when you sort!"
   ]
  },
  {
   "cell_type": "code",
   "execution_count": 233,
   "id": "c6a2aeb3-b917-4f42-83c2-90fc06735550",
   "metadata": {},
   "outputs": [
    {
     "data": {
      "text/plain": [
       "['C00001',\n",
       " 'C00001',\n",
       " 'C00001',\n",
       " 'C00002',\n",
       " 'C00003',\n",
       " 'C00004',\n",
       " 'C00004',\n",
       " 'C00005',\n",
       " 'C00006',\n",
       " 'C00006',\n",
       " 'C00007',\n",
       " 'C00008',\n",
       " 'C00008',\n",
       " 'C00010',\n",
       " 'C00010',\n",
       " 'C00013',\n",
       " 'C00014',\n",
       " 'C00015',\n",
       " 'C00016',\n",
       " 'C00016',\n",
       " 'C00017',\n",
       " 'C00018',\n",
       " 'C00018',\n",
       " 'C00019',\n",
       " 'C00020',\n",
       " 'C00021',\n",
       " 'C00022']"
      ]
     },
     "execution_count": 233,
     "metadata": {},
     "output_type": "execute_result"
    }
   ],
   "source": [
    "sorted(customer_ids)"
   ]
  },
  {
   "cell_type": "markdown",
   "id": "f8b247dc-13e6-4f76-8f81-fd134aebd3ac",
   "metadata": {},
   "source": [
    "### Multi Order Customers (multi_order_customers.ipynb)\n",
    "\n",
    "We want to understand our multi order customers. \n",
    "\n",
    "Below are lists of transactions made by our companies that made multiple orders this weekend."
   ]
  },
  {
   "cell_type": "code",
   "execution_count": 236,
   "id": "45d1bcca-bf38-434c-99eb-45bb1c6b540b",
   "metadata": {},
   "outputs": [],
   "source": [
    "orders_c00001 = [1799.94, 29.98, 99.99]\n",
    "orders_c00004 = [15.98, 119.99]\n",
    "orders_c00006 = [24.99, 24.99]\n",
    "orders_c00008 = [649.99, 99.99]\n",
    "orders_c00010 = [599.99, 399.97]"
   ]
  },
  {
   "cell_type": "markdown",
   "id": "131af254-4c61-4b1f-95a3-56c477279fb7",
   "metadata": {},
   "source": [
    "### VIP List \n",
    "\n",
    "Create a nested list where each element is one of the customer transaction lists above, called `vip_list`\n"
   ]
  },
  {
   "cell_type": "code",
   "execution_count": 269,
   "id": "86ebb68b-5e34-408a-87bd-a083dbb339e9",
   "metadata": {},
   "outputs": [
    {
     "data": {
      "text/plain": [
       "[[1799.94, 29.98, 99.99],\n",
       " [15.98, 119.99],\n",
       " [24.99, 24.99],\n",
       " [649.99, 99.99],\n",
       " [599.99, 399.97]]"
      ]
     },
     "execution_count": 269,
     "metadata": {},
     "output_type": "execute_result"
    }
   ],
   "source": [
    "vip_list = [(orders_c00001), (orders_c00004), (orders_c00006), (orders_c00008), (orders_c00010)]\n",
    "\n",
    "vip_list"
   ]
  },
  {
   "cell_type": "markdown",
   "id": "239e4c94-a0cb-445e-b773-17e28fc7392e",
   "metadata": {},
   "source": [
    "Some of us are curious about customer C00001, given that they made three transactions.\n",
    "\n",
    "Report the second and third transactions they made."
   ]
  },
  {
   "cell_type": "code",
   "execution_count": 272,
   "id": "db76f4de-e02d-4be9-b7dc-7ef2272957d4",
   "metadata": {},
   "outputs": [
    {
     "data": {
      "text/plain": [
       "[29.98, 99.99]"
      ]
     },
     "execution_count": 272,
     "metadata": {},
     "output_type": "execute_result"
    }
   ],
   "source": [
    "vip_list[0][1:3]"
   ]
  },
  {
   "cell_type": "markdown",
   "id": "8eb92a01-05fd-452c-b856-03f841473b85",
   "metadata": {},
   "source": [
    "### Revenue Adjusted List\n",
    "\n",
    "We need to make a copy of our `vip_list`. We need to change an entire list inside that we DON'T want reflected in `vip_list`. \n",
    "\n",
    "Call the copy `revenue_adjusted_list`."
   ]
  },
  {
   "cell_type": "code",
   "execution_count": 293,
   "id": "95d7d8e1-2513-47f7-b15d-ca15e7dd3ec3",
   "metadata": {
    "scrolled": true
   },
   "outputs": [
    {
     "data": {
      "text/plain": [
       "[[1799.94, 29.98, 99.99],\n",
       " [15.98, 119.99],\n",
       " [24.99, 24.99],\n",
       " [649.99, 99.99],\n",
       " [599.99, 399.97]]"
      ]
     },
     "execution_count": 293,
     "metadata": {},
     "output_type": "execute_result"
    }
   ],
   "source": [
    "from copy import deepcopy\n",
    "revenue_adjusted_list = deepcopy(vip_list)\n",
    "\n",
    "revenue_adjusted_list"
   ]
  },
  {
   "cell_type": "markdown",
   "id": "15ae1bda-d1b4-4d22-b200-139d4d50abee",
   "metadata": {},
   "source": [
    "Once you have your copy, change both of customer C00004's transaction values to 0.0.\n",
    "\n",
    "These were gifts and shouldn't be recorded as revenue. Make sure to confirm `vip_list` hasn't changed!"
   ]
  },
  {
   "cell_type": "code",
   "execution_count": 310,
   "id": "3a6c49e5-438e-4ecb-aa69-60e8af71cbb4",
   "metadata": {
    "scrolled": true
   },
   "outputs": [
    {
     "data": {
      "text/plain": [
       "[[1799.94, 29.98, 99.99],\n",
       " [0.0, 0.0],\n",
       " [24.99, 24.99],\n",
       " [649.99, 99.99],\n",
       " [599.99, 399.97]]"
      ]
     },
     "execution_count": 310,
     "metadata": {},
     "output_type": "execute_result"
    }
   ],
   "source": [
    "revenue_adjusted_list[1] = [0.0, 0.0]\n",
    "\n",
    "revenue_adjusted_list"
   ]
  },
  {
   "cell_type": "code",
   "execution_count": 312,
   "id": "9834a774-c9d4-44df-b2f8-2844bfc448f0",
   "metadata": {},
   "outputs": [
    {
     "data": {
      "text/plain": [
       "[[1799.94, 29.98, 99.99],\n",
       " [15.98, 119.99],\n",
       " [24.99, 24.99],\n",
       " [649.99, 99.99],\n",
       " [599.99, 399.97]]"
      ]
     },
     "execution_count": 312,
     "metadata": {},
     "output_type": "execute_result"
    }
   ],
   "source": [
    "# our original list should be unchanged\n",
    "vip_list"
   ]
  },
  {
   "cell_type": "markdown",
   "id": "a8aa96a7-e32d-4135-b1ec-12e5e320f45d",
   "metadata": {},
   "source": [
    "### Sales Tax (sales_tax.ipynb)\n",
    "\n",
    "We need to calculate the sales taxes for our customer that made three transactions in `multi_order_customers` below.\n",
    "\n",
    "(The customer that made three transactions was customer C00001). Run this cell to create the list."
   ]
  },
  {
   "cell_type": "code",
   "execution_count": 316,
   "id": "8237f7b2-ab60-40ab-9580-56d06c567345",
   "metadata": {},
   "outputs": [],
   "source": [
    "multi_order_customers = [\n",
    "    [1799.94, 29.98, 99.99],\n",
    "    [15.98, 119.99],\n",
    "    [24.99, 24.99],\n",
    "    [649.99, 99.99],\n",
    "    [599.99, 399.97]\n",
    "]"
   ]
  },
  {
   "cell_type": "markdown",
   "id": "d6a65088-9c6d-434f-8257-ca3cce0b9a47",
   "metadata": {},
   "source": [
    "Create a tuple from the first element in the `multi_order_customers`.\n",
    "\n",
    "Unpack this tuple into the variables `transaction1`, `transaction2`, and `transaction3`.\n",
    "\n",
    "Once you've have separated the transactions, calculate the tax of .08 rounded to 2 decimals and print it."
   ]
  },
  {
   "cell_type": "code",
   "execution_count": 322,
   "id": "f74febd1-6b43-48b3-9b61-107ec1c021eb",
   "metadata": {},
   "outputs": [
    {
     "data": {
      "text/plain": [
       "(144.0, 2.4, 8.0)"
      ]
     },
     "execution_count": 322,
     "metadata": {},
     "output_type": "execute_result"
    }
   ],
   "source": [
    "transaction1 = round(1799.94*0.08, 2)\n",
    "transaction2 = round(29.98*0.08, 2)\n",
    "transaction3 = round(99.99*0.08, 2)\n",
    "\n",
    "transaction1, transaction2, transaction3"
   ]
  },
  {
   "cell_type": "markdown",
   "id": "b4261b16-ac32-4176-a2b1-c295830b01f2",
   "metadata": {},
   "source": [
    "### Customer Promos (customer_promo_generator.ipynb)\n",
    "\n",
    "We're working on some fun promotional giveaways for our next big sale.\n",
    "\n",
    "We want to generate a few different sequences of lucky numbers - customers who get lucky will receive a keychain, coffee mug, or beanie!\n",
    "\n",
    "Coffee mugs will be given to even numbered vistors in our first 10 visitors, please generate a sequence of even integers between 1 and 10."
   ]
  },
  {
   "cell_type": "code",
   "execution_count": 358,
   "id": "5f0bde51-0169-4492-bdcc-fa4f22abf27b",
   "metadata": {},
   "outputs": [
    {
     "name": "stdout",
     "output_type": "stream",
     "text": [
      "[2, 4, 6, 8, 10]\n"
     ]
    }
   ],
   "source": [
    "example_range = range(1,11)\n",
    "even_integers = [i for i in example_range if i % 2 == 0]\n",
    "\n",
    "print(even_integers)"
   ]
  },
  {
   "cell_type": "markdown",
   "id": "3977c786-77c1-446a-a1ec-bd7d6082a89c",
   "metadata": {},
   "source": [
    "Now generate a sequence of odd integers from 1 and 10. They'll get keychains."
   ]
  },
  {
   "cell_type": "code",
   "execution_count": 360,
   "id": "4009e779-603c-4511-8e0f-cdc40f095d7b",
   "metadata": {},
   "outputs": [
    {
     "name": "stdout",
     "output_type": "stream",
     "text": [
      "[1, 3, 5, 7, 9]\n"
     ]
    }
   ],
   "source": [
    "example_range = range(1, 11)\n",
    "odd_integers = [i for i in example_range if i % 2 != 0]\n",
    "\n",
    "print(odd_integers)"
   ]
  },
  {
   "cell_type": "markdown",
   "id": "11854369-3834-4937-a4c2-afaf49449f97",
   "metadata": {},
   "source": [
    "Finally, every 7th customer in our first 100 vistors will receive a beanie.\n",
    "\n",
    "Generate a sequence of integers containing multiples of 7 from 1 to 100. "
   ]
  },
  {
   "cell_type": "code",
   "execution_count": 364,
   "id": "b1856c40-df1a-4a63-a91b-027f04dcb1a6",
   "metadata": {},
   "outputs": [
    {
     "name": "stdout",
     "output_type": "stream",
     "text": [
      "[7, 14, 21, 28, 35, 42, 49, 56, 63, 70, 77, 84, 91, 98]\n"
     ]
    }
   ],
   "source": [
    "example_range = range(1, 101)\n",
    "seventh_integers = [i for i in example_range if i % 7 == 0]\n",
    "\n",
    "print(seventh_integers)\n"
   ]
  },
  {
   "cell_type": "markdown",
   "id": "54c6446a-343a-4311-a950-071d77992db0",
   "metadata": {},
   "source": [
    "# Loop"
   ]
  },
  {
   "cell_type": "markdown",
   "id": "d720c9dc-61da-4b45-b323-00529a6cff47",
   "metadata": {},
   "source": [
    "### Applying Sales Tax (taxable_transactions.ipynb)\n",
    "\n",
    "Last weekend our system went down and we didn't have a calculator on site, so we told customers we'd charge them for tax later. \n",
    "\n",
    "The transactions are below."
   ]
  },
  {
   "cell_type": "code",
   "execution_count": 367,
   "id": "63475292-5fcb-4ae7-8ca0-55b216c3be42",
   "metadata": {},
   "outputs": [],
   "source": [
    "subtotals = [15.98, 899.97, 799.97, 117.96, 5.99, 599.99, 24.99, 1799.94, 99.99]"
   ]
  },
  {
   "cell_type": "markdown",
   "id": "61085c1b-dbb1-48f9-8c00-10c262644bb4",
   "metadata": {},
   "source": [
    "Can you apply sales tax to all of the transactions?\n",
    "\n",
    "The tax rate is 8%. \n",
    "\n",
    "Once we've calculated the taxes, we'll need to add them to their subtotals and calculate the the total invoice value.\n",
    "\n",
    "Your code should produce two lists.\n",
    "\n",
    "* `taxes`:The first should be a list of the tax amounts on each transaction, rounded to the nearest .01.\n",
    "\n",
    "* `totals`: The second should be a list where each element is subtotal[i] + tax[i]"
   ]
  },
  {
   "cell_type": "code",
   "execution_count": 385,
   "id": "3c6da217-b652-4653-ade2-3b5caf4d1d83",
   "metadata": {},
   "outputs": [
    {
     "name": "stdout",
     "output_type": "stream",
     "text": [
      "[1.28, 72.0, 64.0, 9.44, 0.48, 48.0, 2.0, 144.0, 8.0]\n",
      "[17.26, 971.97, 863.97, 127.4, 6.47, 647.99, 26.99, 1943.94, 107.99]\n"
     ]
    }
   ],
   "source": [
    "taxes = []\n",
    "totals = []\n",
    "\n",
    "# This is code Stuart used to calculate the tax and total\n",
    "# for a single subtotal, can you put them in a loop?\n",
    "\n",
    "for i in range(len(subtotals)):\n",
    "    taxes.append(round(subtotals[i] * 0.08, 2))\n",
    "for i in range(len(subtotals)):\n",
    "    totals.append(round(subtotals[i] + taxes[i], 2))\n",
    "    \n",
    "#total = round(subtotal + tax, 2)\n",
    "\n",
    "print(taxes)\n",
    "print(totals)\n"
   ]
  },
  {
   "cell_type": "markdown",
   "id": "519d5245-0042-4dc8-bd22-dff80695c11b",
   "metadata": {},
   "source": [
    "### Sales Tax by State (taxable_transactions2.ipynb)\n",
    "\n",
    "We forgot to account for the fact that different states have different tax rates, so we need to modify our loop we just built. \n",
    "\n",
    "We have a list containing the location of each purchase. The transaction `subtotal[i]` took place at `locations[i]`.\n"
   ]
  },
  {
   "cell_type": "code",
   "execution_count": 413,
   "id": "fc00cc6f-7b20-4b78-802d-8e12e882da14",
   "metadata": {},
   "outputs": [],
   "source": [
    "subtotals = [\n",
    "    15.98, 899.97, 799.97, 117.96, 5.99, \n",
    "    599.99, 24.99, 1799.94, 99.99\n",
    "]"
   ]
  },
  {
   "cell_type": "code",
   "execution_count": 415,
   "id": "f84b5c0c-448d-4c6a-ba73-510bb7ce9e46",
   "metadata": {},
   "outputs": [],
   "source": [
    "location = [\n",
    "    'Sun Valley', 'Stowe', 'Mammoth', 'Stowe', 'Sun Valley', \n",
    "    'Mammoth', 'Mammoth', 'Mammoth', 'Sun Valley'\n",
    "]"
   ]
  },
  {
   "cell_type": "markdown",
   "id": "58c22d6c-72d3-4930-91b5-8d42712ee1bc",
   "metadata": {},
   "source": [
    "The following tax rates should be applied for each location:\n",
    "\n",
    "* Sun Valley: 8%\n",
    "* Stowe: 6%\n",
    "* Mammoth: 7.75%"
   ]
  },
  {
   "cell_type": "code",
   "execution_count": 418,
   "id": "7102ec8d-b777-4edd-8ddf-c838abfa78b9",
   "metadata": {},
   "outputs": [
    {
     "name": "stdout",
     "output_type": "stream",
     "text": [
      "[1.28, 54.0, 62.0, 7.08, 0.48, 46.5, 1.94, 139.5, 8.0]\n",
      "[17.26, 953.97, 861.97, 125.04, 6.47, 646.49, 26.93, 1939.44, 107.99]\n"
     ]
    }
   ],
   "source": [
    "taxes = []\n",
    "totals = []\n",
    "\n",
    "for i, subtotal in enumerate(subtotals): \n",
    "    if location[i] == 'Sun Valley':\n",
    "        tax = round(subtotal * 0.08, 2)\n",
    "    elif location[i] == 'Stowe':\n",
    "        tax = round(subtotal * 0.06, 2)\n",
    "    else:\n",
    "        tax = round(subtotal * 0.0775, 2)\n",
    "        \n",
    "    total = round(subtotal + tax, 2)\n",
    "    taxes.append(tax)\n",
    "    totals.append(total)\n",
    "\n",
    "print(taxes)\n",
    "print(totals)"
   ]
  },
  {
   "cell_type": "markdown",
   "id": "7e450524-b5b3-4ea3-8eba-43eeeaa3c7ae",
   "metadata": {},
   "source": [
    "### Calculate Projected Inventory for Each Month (inventory_logic.ipynb)\n",
    "\n",
    "We currently have 686 pairs of skis in inventory, and sell 84 each month.\n",
    "\n",
    "Write a program that keeps track of monthly inventory, by subtracting 84 pairs of skis from inventory each month. \n",
    "\n",
    "Your program should print 'At the end of month x, we have y pairs of inventory', where x is the number of months that has gone by and y is the remaining inventory at that month.\n",
    "\n",
    "If inventory goes negative, your program should stop running.\n"
   ]
  },
  {
   "cell_type": "code",
   "execution_count": 430,
   "id": "e7385b97-f963-40eb-911c-17a83517724f",
   "metadata": {},
   "outputs": [
    {
     "name": "stdout",
     "output_type": "stream",
     "text": [
      "At the end month of 1:, we have 602 pairs of inventory\n",
      "At the end month of 2:, we have 518 pairs of inventory\n",
      "At the end month of 3:, we have 434 pairs of inventory\n",
      "At the end month of 4:, we have 350 pairs of inventory\n",
      "At the end month of 5:, we have 266 pairs of inventory\n",
      "At the end month of 6:, we have 182 pairs of inventory\n",
      "At the end month of 7:, we have 98 pairs of inventory\n",
      "At the end month of 8:, we have 14 pairs of inventory\n",
      "At the end month of 9:, we have -70 pairs of inventory\n"
     ]
    }
   ],
   "source": [
    "current_inventory = 686\n",
    "monthly_sales = 84\n",
    "month = 0\n",
    "\n",
    "while current_inventory > 0:\n",
    "    current_inventory -= monthly_sales\n",
    "    month += 1\n",
    "    print(f'At the end month of {month}:' + f', we have {current_inventory} pairs of inventory')\n"
   ]
  },
  {
   "cell_type": "markdown",
   "id": "dbb00001-9283-4b02-ab78-d830352bbccf",
   "metadata": {},
   "source": [
    "### Apply Discounts for Multi-Order Customers (multi_order_discounts.ipynb)\n",
    "\n",
    "We need to apply a 10% discount to every transaction in the list below.\n",
    "\n",
    "Assign the discounted transactions to a new list: `discounted_prices`."
   ]
  },
  {
   "cell_type": "code",
   "execution_count": 432,
   "id": "62a23b0a-2cc8-4df5-8ba5-b81759e55a9a",
   "metadata": {},
   "outputs": [
    {
     "data": {
      "text/plain": [
       "[[1799.94, 29.98, 99.99],\n",
       " [15.98, 119.99],\n",
       " [24.99, 24.99],\n",
       " [649.99, 99.99],\n",
       " [599.99, 399.97]]"
      ]
     },
     "execution_count": 432,
     "metadata": {},
     "output_type": "execute_result"
    }
   ],
   "source": [
    "orders_c00001 = [1799.94, 29.98, 99.99]\n",
    "orders_c00004 = [15.98, 119.99]\n",
    "orders_c00006 = [24.99, 24.99]\n",
    "orders_c00008 = [649.99, 99.99]\n",
    "orders_c00010 = [599.99, 399.97]\n",
    "\n",
    "multi_order_customers = [\n",
    "    [1799.94, 29.98, 99.99],\n",
    "    [15.98, 119.99],\n",
    "    [24.99, 24.99],\n",
    "    [649.99, 99.99],\n",
    "    [599.99, 399.97]\n",
    "]\n",
    "\n",
    "multi_order_customers"
   ]
  },
  {
   "cell_type": "code",
   "execution_count": 442,
   "id": "74eb77c7-2fe7-47cf-8a28-3a26b3a19b68",
   "metadata": {},
   "outputs": [
    {
     "data": {
      "text/plain": [
       "[[1619.95, 26.98, 89.99],\n",
       " [14.38, 107.99],\n",
       " [22.49, 22.49],\n",
       " [584.99, 89.99],\n",
       " [539.99, 359.97]]"
      ]
     },
     "execution_count": 442,
     "metadata": {},
     "output_type": "execute_result"
    }
   ],
   "source": [
    "discounted_prices = []\n",
    "\n",
    "for customer_orders in multi_order_customers:\n",
    "    discounted_order = [round(price * 0.90, 2) for price in customer_orders]\n",
    "    discounted_prices.append(discounted_order)\n",
    "\n",
    "discounted_prices\n"
   ]
  },
  {
   "cell_type": "markdown",
   "id": "4b36c86b-6cd4-4f19-8643-f01ae8a9d07c",
   "metadata": {},
   "source": [
    "### Improved Affordability Calculator. (Improved_affordability_calculator.ipynb)\n",
    "\n",
    "We need to make sure our affordability calculator can handle many data types without stopping - our data is VERY messy. We need to make the following changes to the code below:\n",
    "\n",
    "\n",
    "* Make sure it converts the string in the list below into a float. Print a warning that this was string data. Then process as usual.\n",
    "\n",
    "* Also, have the loop skip any instances of None data type.\n",
    "\n",
    "* Then, remove the generic except statement to avoid processing errors.\n",
    "\n",
    "* Finally, change the hard coded value 50 into a variable so we can change this value based on each customer's budget."
   ]
  },
  {
   "cell_type": "code",
   "execution_count": 446,
   "id": "2042b478-c2e2-4287-ada8-9f5db4404ce4",
   "metadata": {},
   "outputs": [
    {
     "name": "stdout",
     "output_type": "stream",
     "text": [
      "I can buy 8.0 of these.\n",
      "I can buy 2.0 of these.\n",
      "I can buy 2.0 of these.\n",
      "This product is free, I can take as many as I like.\n",
      "string data detected\n",
      "I can buy 0.0 of these.\n",
      "I can buy 0.0 of these.\n"
     ]
    }
   ],
   "source": [
    "price_list = [5.99, None, 19.99, 24.99, 0, '74.99', 99.99]\n",
    "\n",
    "# Create Budget Variable\n",
    "budget = 50\n",
    "\n",
    "for price in price_list:\n",
    "    if price is None:  # is keyword to test for none\n",
    "        continue\n",
    "    try:\n",
    "        affordable_quantity = budget // price\n",
    "        print(f\"I can buy {affordable_quantity} of these.\")\n",
    "    # If we get a ZeroDivisionError, print a special message\n",
    "    except ZeroDivisionError:\n",
    "        print(\"This product is free, I can take as many as I like.\")\n",
    "    # If TypeError, try converting to float\n",
    "    except TypeError:\n",
    "        affordable_quantity = budget // float(price)\n",
    "        print('string data detected')  ## let user know improper data detected\n",
    "        print(f\"I can buy {affordable_quantity} of these.\")"
   ]
  },
  {
   "cell_type": "code",
   "execution_count": null,
   "id": "4c5a9e6f-17bc-41ce-ba8b-a624d4e3f051",
   "metadata": {},
   "outputs": [],
   "source": []
  }
 ],
 "metadata": {
  "kernelspec": {
   "display_name": "Python 3 (ipykernel)",
   "language": "python",
   "name": "python3"
  },
  "language_info": {
   "codemirror_mode": {
    "name": "ipython",
    "version": 3
   },
   "file_extension": ".py",
   "mimetype": "text/x-python",
   "name": "python",
   "nbconvert_exporter": "python",
   "pygments_lexer": "ipython3",
   "version": "3.12.4"
  }
 },
 "nbformat": 4,
 "nbformat_minor": 5
}

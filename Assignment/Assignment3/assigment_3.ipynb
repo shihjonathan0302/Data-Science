{
 "cells": [
  {
   "cell_type": "markdown",
   "id": "f0314247-99d5-4587-86e2-fa066a54eadd",
   "metadata": {},
   "source": [
    "# Dictionaries & Sets"
   ]
  },
  {
   "cell_type": "markdown",
   "id": "ae12d481-338f-45d7-820c-8825be5681b9",
   "metadata": {},
   "source": [
    "### Q1. Snack Dictionary (snack_dictionary.ipynb)\n",
    "\n",
    "Hey, the current snack dictionary is below - thanks for your help with this!\n",
    "\n",
    "Run this first cell to create the `snacks` dictionary."
   ]
  },
  {
   "cell_type": "code",
   "execution_count": 11,
   "id": "15560158-b08e-4d51-9f18-5f1eade85fd2",
   "metadata": {},
   "outputs": [],
   "source": [
    "snacks = {\n",
    "    'Sally': 'Popcorn',\n",
    "    'Ricard': 'Chocolate Ice Cream',\n",
    "    'Stuart': 'Apple Pie',\n",
    "    'Jerry': 'Raisins',\n",
    "    'Sierra': 'Peanut Butter Cookies'\n",
    "}"
   ]
  },
  {
   "cell_type": "markdown",
   "id": "0a7535bd-c63b-489f-bc90-4d3670d93bbb",
   "metadata": {},
   "source": [
    "Can you lookup Stuart's favorite snack?"
   ]
  },
  {
   "cell_type": "code",
   "execution_count": 14,
   "id": "460aeab8-535c-4169-b9fd-344370581ca8",
   "metadata": {},
   "outputs": [
    {
     "data": {
      "text/plain": [
       "'Apple Pie'"
      ]
     },
     "execution_count": 14,
     "metadata": {},
     "output_type": "execute_result"
    }
   ],
   "source": [
    "snacks['Stuart']"
   ]
  },
  {
   "cell_type": "markdown",
   "id": "bd6b45c8-d438-4e3a-8b1b-46056ec6b711",
   "metadata": {},
   "source": [
    "Cool, that's one of my favorites too!\n",
    "\n",
    "Can you make the following changes do the dictionary?\n",
    "\n",
    "* Add me - 'Alfie', and my favorite snack, 'Cheese and Crackers'.\n",
    "* Change Jerry's favorite snack to 'Fig Bars'\n",
    "* Finally, remove Sierra, she never worked here, not sure how she got on the list."
   ]
  },
  {
   "cell_type": "code",
   "execution_count": 17,
   "id": "39b647ac-ccd5-44f5-97df-74b7e5614dc2",
   "metadata": {},
   "outputs": [
    {
     "data": {
      "text/plain": [
       "{'Sally': 'Popcorn',\n",
       " 'Ricard': 'Chocolate Ice Cream',\n",
       " 'Stuart': 'Apple Pie',\n",
       " 'Jerry': ['Fig Bars'],\n",
       " 'Alfie': ['Cheese and Crackers']}"
      ]
     },
     "execution_count": 17,
     "metadata": {},
     "output_type": "execute_result"
    }
   ],
   "source": [
    "snacks['Alfie'] = ['Cheese and Crackers']\n",
    "snacks['Jerry'] = ['Fig Bars']\n",
    "del snacks['Sierra']\n",
    "\n",
    "snacks"
   ]
  },
  {
   "cell_type": "markdown",
   "id": "3b7f57f2-5eb8-4520-9121-decb4f852fb1",
   "metadata": {},
   "source": [
    "### Q2. Inventory Status (inventory_status.ipynb)\n",
    "\n",
    "Our products and inventory levels are in the lists below.\n",
    "\n",
    "Run the cell below to create the lists."
   ]
  },
  {
   "cell_type": "code",
   "execution_count": 20,
   "id": "2c96d1e2-62e1-49d9-908c-b39fd9951744",
   "metadata": {},
   "outputs": [],
   "source": [
    "items = ['skis', 'snowboard', 'goggles', 'boots']\n",
    "inventory = [10, 0, 0, 7] "
   ]
  },
  {
   "cell_type": "markdown",
   "id": "f95b3939-0baf-40c2-b72a-1e3f6a8829bb",
   "metadata": {},
   "source": [
    "### Inventory Status Dictionary\n",
    "\n",
    "Can you create a dictionary that:\n",
    "\n",
    "* Stores item name as keys\n",
    "* Values are 'sold out' if inventory is 0, and 'in stock' if not?\n",
    "\n",
    "Don't create this by writing out all the key value pairs!\n",
    "\n",
    "Thanks!"
   ]
  },
  {
   "cell_type": "code",
   "execution_count": 47,
   "id": "bafb0291-c170-4364-b26a-6562b1c02abf",
   "metadata": {
    "scrolled": true
   },
   "outputs": [
    {
     "data": {
      "text/plain": [
       "{'skis': 'In Stock',\n",
       " 'snowboard': 'Sold Out',\n",
       " 'goggles': 'Sold Out',\n",
       " 'boots': 'In Stock'}"
      ]
     },
     "execution_count": 47,
     "metadata": {},
     "output_type": "execute_result"
    }
   ],
   "source": [
    "inventory_status = {}\n",
    "\n",
    "for i in range(len(items)):\n",
    "    if inventory[i] == 0:\n",
    "        inventory_status[items[i]] = 'Sold Out'\n",
    "    else:\n",
    "        inventory_status[items[i]]= 'In Stock'\n",
    "\n",
    "inventory_status"
   ]
  },
  {
   "cell_type": "markdown",
   "id": "80fdaeeb-86c3-4dec-8584-87c3b6be3af7",
   "metadata": {},
   "source": [
    "### Q3. Help with European Data (european_planning.ipynb)"
   ]
  },
  {
   "cell_type": "markdown",
   "id": "de9008a1-d097-4144-a65f-fd899596bfd0",
   "metadata": {},
   "source": [
    "Below is our product dictionary, `item_dict`. We need to use it to get some data for our European team.\n",
    "\n",
    "Run the cell below to create the dictionary."
   ]
  },
  {
   "cell_type": "code",
   "execution_count": 113,
   "id": "a9411f27-dc2b-4130-b817-245021f79d6f",
   "metadata": {},
   "outputs": [],
   "source": [
    "item_dict = {\n",
    "    10001: ('Coffee', 5.99, 'beverage', ['250mL']),\n",
    "    10002: ('Beanie', 9.99, 'clothing', ['Child', 'Adult']),\n",
    "    10003: ('Gloves', 19.99, 'clothing', ['Child', 'Adult']),\n",
    "    10004: ('Sweatshirt', 24.99, 'clothing', ['XS', 'S', 'M', 'L', 'XL', 'XXL']),\n",
    "    10005: ('Helmet', 99.99, 'safety', ['Child', 'Adult']),\n",
    "    10006: ('Snow Pants', 79.99, 'clothing', ['XS', 'S', 'M', 'L', 'XL', 'XXL']),\n",
    "    10007: ('Coat', 119.99, 'clothing', ['S', 'M', 'L']),\n",
    "    10008: ('Ski Poles', 99.99, 'hardware', ['S', 'M', 'L']),\n",
    "    10009: ('Ski Boots', 199.99, 'hardware', [5, 6, 7, 8, 9, 10, 11])\n",
    "}"
   ]
  },
  {
   "cell_type": "markdown",
   "id": "b18c95de-2174-4ff4-8af7-d7778f215866",
   "metadata": {},
   "source": [
    "### Size Counts\n",
    "\n",
    "First I need a dictionary with the item numbers in `item_dict` as keys, and the number of sizes available for each item as the values. Sizes are stored in lists at the end of each 'row' of data. Key 10001 has a list with one size, 250ml at the end."
   ]
  },
  {
   "cell_type": "code",
   "execution_count": 116,
   "id": "9f3945e9-a6b5-4c42-94f5-3b75d0063b0e",
   "metadata": {
    "scrolled": true
   },
   "outputs": [
    {
     "data": {
      "text/plain": [
       "{10001: 1,\n",
       " 10002: 2,\n",
       " 10003: 2,\n",
       " 10004: 6,\n",
       " 10005: 2,\n",
       " 10006: 6,\n",
       " 10007: 3,\n",
       " 10008: 3,\n",
       " 10009: 7}"
      ]
     },
     "execution_count": 116,
     "metadata": {},
     "output_type": "execute_result"
    }
   ],
   "source": [
    "size_counts = {}\n",
    "\n",
    "for num, item_data in item_dict.items():\n",
    "    size_counts[num] = len(item_data[-1])\n",
    "    \n",
    "size_counts"
   ]
  },
  {
   "cell_type": "markdown",
   "id": "2f0303e9-9986-4f2f-9685-90db66353e8d",
   "metadata": {},
   "source": [
    "### New Size Options\n",
    "\n",
    "Now that you've done that, we need to add two products to `size_counts`:\n",
    "\n",
    "* Item 10010 has 4 sizes.\n",
    "* Item 10011 has 7 possible sizes."
   ]
  },
  {
   "cell_type": "code",
   "execution_count": 119,
   "id": "aaf65e83-18fc-41cb-ac83-a67adfde6696",
   "metadata": {},
   "outputs": [
    {
     "data": {
      "text/plain": [
       "{10001: 1,\n",
       " 10002: 2,\n",
       " 10003: 2,\n",
       " 10004: 6,\n",
       " 10005: 2,\n",
       " 10006: 6,\n",
       " 10007: 3,\n",
       " 10008: 3,\n",
       " 10009: 7,\n",
       " 10010: 4,\n",
       " 10011: 7}"
      ]
     },
     "execution_count": 119,
     "metadata": {},
     "output_type": "execute_result"
    }
   ],
   "source": [
    "new_items = {10010: 4, 10011: 7}\n",
    "\n",
    "size_counts.update(new_items)\n",
    "size_counts"
   ]
  },
  {
   "cell_type": "markdown",
   "id": "d89b8caf-d891-45fd-bae6-7d75af6a88de",
   "metadata": {},
   "source": [
    "### Euro Pricing\n",
    "\n",
    "Finally, pull the prices out of `item_dict` and create a list with converted Euro pricing. Use an exchange rate of .88."
   ]
  },
  {
   "cell_type": "code",
   "execution_count": 140,
   "id": "506e79db-5e33-4c14-9c29-131978fc12d1",
   "metadata": {},
   "outputs": [
    {
     "data": {
      "text/plain": [
       "[5.27, 8.79, 17.59, 21.99, 87.99, 70.39, 105.59, 87.99, 175.99]"
      ]
     },
     "execution_count": 140,
     "metadata": {},
     "output_type": "execute_result"
    }
   ],
   "source": [
    "exchange_rate = .88\n",
    "euro_prices = []\n",
    "\n",
    "for item_price in item_dict.values():\n",
    "    euro_price = round(item_price[1] * 0.88, 2)\n",
    "    euro_prices.append(euro_price)\n",
    "\n",
    "euro_prices"
   ]
  },
  {
   "cell_type": "markdown",
   "id": "f05c80b2-e3ee-453d-a0aa-916a0a6d11f0",
   "metadata": {},
   "source": [
    "### Q4. European Item Dictionary (european_dictionary.ipynb)\n",
    "\n",
    "Hi there, we need to create a European price dictionary. \n",
    "\n",
    "The data is stored in the lists below. Run the cell below to create the lists you need."
   ]
  },
  {
   "cell_type": "code",
   "execution_count": 142,
   "id": "c8c682d0-b83c-4b5f-8cc7-a024bbf48cb5",
   "metadata": {},
   "outputs": [],
   "source": [
    "# Data for dictionary \n",
    "\n",
    "item_ids = [\n",
    "    10001, 10002, 10003, 10004, 10005, \n",
    "    10006, 10007, 10008, 10009\n",
    "]\n",
    "\n",
    "item_names = [\n",
    "    \"Coffee\", \"Beanie\", \"Gloves\", \"Sweatshirt\", \"Helmet\",\n",
    "    \"Snow Pants\", \"Coat\", \"Ski Poles\", \"Ski Boots\"\n",
    "]\n",
    "\n",
    "euro_prices = [\n",
    "    5.27, 8.79, 17.59, 21.99, 87.99, \n",
    "    70.39, 105.59, 87.99, 175.99\n",
    "]\n",
    "\n",
    "item_category = [\n",
    "    \"beverage\", \"clothing\", \"clothing\", \"clothing\", \"safety\",\n",
    "    \"clothing\", \"clothing\", \"hardware\", \"hardware\",\n",
    "]\n",
    "\n",
    "sizes = [\n",
    "    [\"250mL\"],\n",
    "    [\"Child\", \"Adult\"],\n",
    "    [\"Child\", \"Adult\"],\n",
    "    [\"XS\", \"S\", \"M\", \"L\", \"XL\", \"XXL\"],\n",
    "    [\"Child\", \"Adult\"],\n",
    "    [\"XS\", \"S\", \"M\", \"L\", \"XL\", \"XXL\"],\n",
    "    [\"S\", \"M\", \"L\"],\n",
    "    [\"S\", \"M\", \"L\"],\n",
    "    [5, 6, 7, 8, 9, 10, 11],\n",
    "]"
   ]
  },
  {
   "cell_type": "markdown",
   "id": "e2e7e683-d968-4a4d-97d8-e9e9740ed7bd",
   "metadata": {},
   "source": [
    "Create a dictionary with the `item_ids` as keys and the rest of the data the values. \n",
    "\n",
    "We want the values to be in the order of `item_names`,`euro_prices`, `item_category`, `sizes`."
   ]
  },
  {
   "cell_type": "code",
   "execution_count": 155,
   "id": "c3e045a3-c315-4dcd-88ad-8068cf6298de",
   "metadata": {},
   "outputs": [
    {
     "data": {
      "text/plain": [
       "{10001: ('Coffee', 5.27, 'beverage', ['250mL']),\n",
       " 10002: ('Beanie', 8.79, 'clothing', ['Child', 'Adult']),\n",
       " 10003: ('Gloves', 17.59, 'clothing', ['Child', 'Adult']),\n",
       " 10004: ('Sweatshirt', 21.99, 'clothing', ['XS', 'S', 'M', 'L', 'XL', 'XXL']),\n",
       " 10005: ('Helmet', 87.99, 'safety', ['Child', 'Adult']),\n",
       " 10006: ('Snow Pants', 70.39, 'clothing', ['XS', 'S', 'M', 'L', 'XL', 'XXL']),\n",
       " 10007: ('Coat', 105.59, 'clothing', ['S', 'M', 'L']),\n",
       " 10008: ('Ski Poles', 87.99, 'hardware', ['S', 'M', 'L']),\n",
       " 10009: ('Ski Boots', 175.99, 'hardware', [5, 6, 7, 8, 9, 10, 11])}"
      ]
     },
     "execution_count": 155,
     "metadata": {},
     "output_type": "execute_result"
    }
   ],
   "source": [
    "item_dict = {\n",
    "    item_id: (name, price, category, size) \n",
    "             for item_id, name, price, category, size in zip(item_ids, item_names, euro_prices, item_category, sizes)\n",
    "}\n",
    "\n",
    "item_dict"
   ]
  },
  {
   "cell_type": "markdown",
   "id": "685c2ae8-66c8-4437-a0a4-25db87d975ba",
   "metadata": {},
   "source": [
    "### Q5. New European Dictionary (modified_european_dictionary.ipynb)\n",
    "\n",
    "Hi There, We have an new structure for our European data - a nested dictionary. \n",
    "\n",
    "Can you help me retieve some information?\n",
    "\n",
    "Run the top two cells to create the data."
   ]
  },
  {
   "cell_type": "code",
   "execution_count": 189,
   "id": "538fee6d-a0e5-4f7b-b810-1a6d8e18e3b8",
   "metadata": {},
   "outputs": [],
   "source": [
    "item_ids = [\n",
    "    10001, 10002, 10003, 10004, 10005, \n",
    "    10006, 10007, 10008, 10009\n",
    "]\n",
    "\n",
    "item_names = [\n",
    "    \"Coffee\", \"Beanie\", \"Gloves\", \"Sweatshirt\", \"Helmet\",\n",
    "    \"Snow Pants\", \"Coat\", \"Ski Poles\", \"Ski Boots\"\n",
    "]\n",
    "\n",
    "euro_prices = [\n",
    "    5.27, 8.79, 17.59, 21.99, 87.99, \n",
    "    70.39, 105.59, 87.99, 175.99\n",
    "]\n",
    "\n",
    "item_category = [\n",
    "    \"beverage\", \"clothing\", \"clothing\", \"clothing\", \"safety\",\n",
    "    \"clothing\", \"clothing\", \"hardware\", \"hardware\",\n",
    "]\n",
    "\n",
    "sizes = [\n",
    "    [\"250mL\"],\n",
    "    [\"Child\", \"Adult\"],\n",
    "    [\"Child\", \"Adult\"],\n",
    "    [\"XS\", \"S\", \"M\", \"L\", \"XL\", \"XXL\"],\n",
    "    [\"Child\", \"Adult\"],\n",
    "    [\"XS\", \"S\", \"M\", \"L\", \"XL\", \"XXL\"],\n",
    "    [\"S\", \"M\", \"L\"],\n",
    "    [\"S\", \"M\", \"L\"],\n",
    "    [5, 6, 7, 8, 9, 10, 11],\n",
    "    [\"S\", \"M\", \"L\"],\n",
    "    [5, 6, 7, 8, 9, 10, 11],\n",
    "    [\"NA\"],\n",
    "    [\"S\", \"M\", \"L\", \"Powder\"],\n",
    "]"
   ]
  },
  {
   "cell_type": "code",
   "execution_count": 191,
   "id": "09c47dd2-02e8-4f2f-bb9d-551880be8d96",
   "metadata": {},
   "outputs": [
    {
     "data": {
      "text/plain": [
       "{10001: {'name': 'Coffee',\n",
       "  'price': 5.27,\n",
       "  'category': 'beverage',\n",
       "  'sizes': ['250mL']},\n",
       " 10002: {'name': 'Beanie',\n",
       "  'price': 8.79,\n",
       "  'category': 'clothing',\n",
       "  'sizes': ['Child', 'Adult']},\n",
       " 10003: {'name': 'Gloves',\n",
       "  'price': 17.59,\n",
       "  'category': 'clothing',\n",
       "  'sizes': ['Child', 'Adult']},\n",
       " 10004: {'name': 'Sweatshirt',\n",
       "  'price': 21.99,\n",
       "  'category': 'clothing',\n",
       "  'sizes': ['XS', 'S', 'M', 'L', 'XL', 'XXL']},\n",
       " 10005: {'name': 'Helmet',\n",
       "  'price': 87.99,\n",
       "  'category': 'safety',\n",
       "  'sizes': ['Child', 'Adult']},\n",
       " 10006: {'name': 'Snow Pants',\n",
       "  'price': 70.39,\n",
       "  'category': 'clothing',\n",
       "  'sizes': ['XS', 'S', 'M', 'L', 'XL', 'XXL']},\n",
       " 10007: {'name': 'Coat',\n",
       "  'price': 105.59,\n",
       "  'category': 'clothing',\n",
       "  'sizes': ['S', 'M', 'L']},\n",
       " 10008: {'name': 'Ski Poles',\n",
       "  'price': 87.99,\n",
       "  'category': 'hardware',\n",
       "  'sizes': ['S', 'M', 'L']},\n",
       " 10009: {'name': 'Ski Boots',\n",
       "  'price': 175.99,\n",
       "  'category': 'hardware',\n",
       "  'sizes': [5, 6, 7, 8, 9, 10, 11]}}"
      ]
     },
     "execution_count": 191,
     "metadata": {},
     "output_type": "execute_result"
    }
   ],
   "source": [
    "euro_data = {\n",
    "    item_id: {\"name\": name, \"price\": price, \"category\": category, \"sizes\": sizes}\n",
    "    for item_id, name, price, category, sizes in zip(\n",
    "        item_ids, item_names, euro_prices, item_category, sizes\n",
    "    )\n",
    "}\n",
    "\n",
    "euro_data"
   ]
  },
  {
   "cell_type": "markdown",
   "id": "82db2925-8612-434c-a4bd-e7075cb9c429",
   "metadata": {},
   "source": [
    "### Lookup Data\n",
    "\n",
    "Can you check the price for item 10009? I want to make sure we loaded the data correctly."
   ]
  },
  {
   "cell_type": "code",
   "execution_count": 194,
   "id": "e6a6b7a3-1a59-4648-9369-49125c59ede6",
   "metadata": {},
   "outputs": [
    {
     "data": {
      "text/plain": [
       "175.99"
      ]
     },
     "execution_count": 194,
     "metadata": {},
     "output_type": "execute_result"
    }
   ],
   "source": [
    "euro_data[10009]['price']"
   ]
  },
  {
   "cell_type": "markdown",
   "id": "3dc4e82f-ad97-485e-b350-1faf27668bcd",
   "metadata": {},
   "source": [
    "### European Sizes\n",
    "\n",
    "Now can you change the size for the boots (item 10009) to European shoe sizing? \n",
    "\n",
    "The European sizes are in a list below."
   ]
  },
  {
   "cell_type": "code",
   "execution_count": 197,
   "id": "a812b28c-67a1-4eef-8aa9-8dc631285404",
   "metadata": {},
   "outputs": [],
   "source": [
    "boot_sizes = [37, 38, 39.5, 40.5, 41.5, 43.5, 44.5, 46.5]"
   ]
  },
  {
   "cell_type": "code",
   "execution_count": 199,
   "id": "ba18579b-402b-49bf-98aa-395228d3567a",
   "metadata": {},
   "outputs": [
    {
     "data": {
      "text/plain": [
       "('Ski Boots', 175.99, 'hardware', [37, 38, 39.5, 40.5, 41.5, 43.5, 44.5, 46.5])"
      ]
     },
     "execution_count": 199,
     "metadata": {},
     "output_type": "execute_result"
    }
   ],
   "source": [
    "item_dict.update({\n",
    "    10009: (item_dict[10009][0],  \n",
    "            item_dict[10009][1], \n",
    "            item_dict[10009][2],  \n",
    "            boot_sizes)           \n",
    "})\n",
    "\n",
    "item_dict[10009]"
   ]
  },
  {
   "cell_type": "markdown",
   "id": "d3d0de67-a501-4957-af96-a1a4cd824fbb",
   "metadata": {},
   "source": [
    "### Size Dictionary\n",
    "\n",
    "Thanks for you help. The last thing I need is a dictionary with item names as keys, and sizes (keep them in a list) as the values."
   ]
  },
  {
   "cell_type": "code",
   "execution_count": 202,
   "id": "d745b700-bb8a-48e3-94d0-cdffe80e0727",
   "metadata": {},
   "outputs": [],
   "source": [
    "product_sizes = {}"
   ]
  },
  {
   "cell_type": "code",
   "execution_count": 204,
   "id": "f2695c3a-481d-4a8a-8dfa-462c5c95e734",
   "metadata": {},
   "outputs": [
    {
     "data": {
      "text/plain": [
       "{'Coffee': ['250mL'],\n",
       " 'Beanie': ['Child', 'Adult'],\n",
       " 'Gloves': ['Child', 'Adult'],\n",
       " 'Sweatshirt': ['XS', 'S', 'M', 'L', 'XL', 'XXL'],\n",
       " 'Helmet': ['Child', 'Adult'],\n",
       " 'Snow Pants': ['XS', 'S', 'M', 'L', 'XL', 'XXL'],\n",
       " 'Coat': ['S', 'M', 'L'],\n",
       " 'Ski Poles': ['S', 'M', 'L'],\n",
       " 'Ski Boots': [5, 6, 7, 8, 9, 10, 11]}"
      ]
     },
     "execution_count": 204,
     "metadata": {},
     "output_type": "execute_result"
    }
   ],
   "source": [
    "product_sizes = {\n",
    "    name: (size) \n",
    "        for name, size in zip(item_names, sizes)\n",
    "    \n",
    "}\n",
    "\n",
    "product_sizes"
   ]
  },
  {
   "cell_type": "markdown",
   "id": "b57798ac-d30f-4b8b-9519-23ded3ea81db",
   "metadata": {},
   "source": [
    "### Q6. Product Category Analysis (product_categories.ipynb)\n",
    "\n",
    "Hi There,\n",
    "\n",
    "I've supplied the code to create our European item dictionary below.\n",
    "\n",
    "Run the top cell first to create the data."
   ]
  },
  {
   "cell_type": "code",
   "execution_count": 207,
   "id": "6177fe3c-a971-477f-85d5-dd861a14c7e2",
   "metadata": {},
   "outputs": [],
   "source": [
    "item_ids = [\n",
    "    10001, 10002, 10003, 10004, 10005, \n",
    "    10006, 10007, 10008, 10009\n",
    "]\n",
    "\n",
    "item_names = [\n",
    "    \"Coffee\", \"Beanie\", \"Gloves\", \"Sweatshirt\", \"Helmet\",\n",
    "    \"Snow Pants\", \"Coat\", \"Ski Poles\", \"Ski Boots\"\n",
    "]\n",
    "\n",
    "euro_prices = [\n",
    "    5.27, 8.79, 17.59, 21.99, 87.99, \n",
    "    70.39, 105.59, 87.99, 175.99\n",
    "]\n",
    "\n",
    "item_category = [\n",
    "    \"beverage\", \"clothing\", \"clothing\", \"clothing\", \"safety\",\n",
    "    \"clothing\", \"clothing\", \"hardware\", \"hardware\",\n",
    "]\n",
    "\n",
    "sizes = [\n",
    "    [\"250mL\"],\n",
    "    [\"Child\", \"Adult\"],\n",
    "    [\"Child\", \"Adult\"],\n",
    "    [\"XS\", \"S\", \"M\", \"L\", \"XL\", \"XXL\"],\n",
    "    [\"Child\", \"Adult\"],\n",
    "    [\"XS\", \"S\", \"M\", \"L\", \"XL\", \"XXL\"],\n",
    "    [\"S\", \"M\", \"L\"],\n",
    "    [\"S\", \"M\", \"L\"],\n",
    "    [5, 6, 7, 8, 9, 10, 11],\n",
    "    [\"S\", \"M\", \"L\"],\n",
    "    [5, 6, 7, 8, 9, 10, 11],\n",
    "    [\"NA\"],\n",
    "    [\"S\", \"M\", \"L\", \"Powder\"],\n",
    "]"
   ]
  },
  {
   "cell_type": "markdown",
   "id": "d3da9ddd-26fd-43e7-82e7-5db6347b0810",
   "metadata": {},
   "source": [
    "### Unique Categories\n",
    "\n",
    "Can you collect the unique item categories from the dictionary `euro_items`? \n",
    "\n",
    "It's the first step in my analysis."
   ]
  },
  {
   "cell_type": "code",
   "execution_count": 215,
   "id": "4c360ea7-41ef-441d-9fea-a3e088b14cb1",
   "metadata": {},
   "outputs": [
    {
     "data": {
      "text/plain": [
       "{'beverage', 'clothing', 'hardware', 'safety'}"
      ]
     },
     "execution_count": 215,
     "metadata": {},
     "output_type": "execute_result"
    }
   ],
   "source": [
    "unique_categories = set(item_category)\n",
    "\n",
    "unique_categories"
   ]
  },
  {
   "cell_type": "markdown",
   "id": "b47835d4-76c5-4435-b86b-2e44aadee79b",
   "metadata": {},
   "source": [
    "### How many categories are there?\n",
    "\n",
    "Now that you have that, how many categories are there?"
   ]
  },
  {
   "cell_type": "code",
   "execution_count": 218,
   "id": "e6945926-38be-4cde-bd17-60755b07f732",
   "metadata": {},
   "outputs": [
    {
     "data": {
      "text/plain": [
       "4"
      ]
     },
     "execution_count": 218,
     "metadata": {},
     "output_type": "execute_result"
    }
   ],
   "source": [
    "len(unique_categories)"
   ]
  },
  {
   "cell_type": "markdown",
   "id": "2405b20b-b8b6-4070-a0ef-bc47b5918820",
   "metadata": {},
   "source": [
    "### Is 'outdoor' in our set of categories?\n",
    "\n",
    "Outdoor equipment is popular in Europe - can you see if we've added items from that category based on the unique categories you created? "
   ]
  },
  {
   "cell_type": "code",
   "execution_count": 221,
   "id": "92cd3fcc-8013-4eb2-a214-0c367582af87",
   "metadata": {},
   "outputs": [
    {
     "data": {
      "text/plain": [
       "False"
      ]
     },
     "execution_count": 221,
     "metadata": {},
     "output_type": "execute_result"
    }
   ],
   "source": [
    "'outdoor' in unique_categories"
   ]
  },
  {
   "cell_type": "markdown",
   "id": "f4a5106b-0158-4584-88a4-0efbb19d2c42",
   "metadata": {},
   "source": [
    "### Q7. Weekend Sales Follow-Up Analysis (weekend_sale_followup.ipynb)\n",
    "\n",
    "Hey there, \n",
    "\n",
    "There are three lists below representing the customers who made purchases on Friday, Saturday, and Sunday.\n",
    "\n",
    "We want to target customers who made purchases on Friday and either Saturday or Sunday with follow up promotions.\n",
    "\n",
    "Run the cell below to create the customer lists."
   ]
  },
  {
   "cell_type": "code",
   "execution_count": 223,
   "id": "b6126513-f479-4cea-996a-af466e311d6f",
   "metadata": {},
   "outputs": [],
   "source": [
    "friday_customers = [\n",
    "    'C00004', 'C00007', 'C00015', 'C00016', 'C00020',\n",
    "    'C00010', 'C00006', 'C00001', 'C00003', 'C00014',\n",
    "    'C00001', 'C00001', 'C00005', 'C00008', 'C00013'\n",
    "]\n",
    "\n",
    "saturday_customers = [\n",
    "    'C00004', 'C00017', 'C00019', 'C00002', 'C00008',\n",
    "    'C00021', 'C00022'\n",
    "]\n",
    "\n",
    "sunday_customers = ['C00006', 'C00018', 'C00018', 'C00010', 'C00016']"
   ]
  },
  {
   "cell_type": "markdown",
   "id": "d6b148b4-2c8e-4a49-a7c5-5b7f2e755a68",
   "metadata": {},
   "source": [
    "#### Collect Unique Weekend Customers\n",
    "\n",
    "First, can you gather all the unique customers from the weekend (`saturday_customers` and `sunday_customers`)? Create a set called `weekend_set` to store them."
   ]
  },
  {
   "cell_type": "code",
   "execution_count": 241,
   "id": "1be69fad-021f-4dd3-8e9a-94a322e4c4b2",
   "metadata": {},
   "outputs": [
    {
     "data": {
      "text/plain": [
       "{'C00002',\n",
       " 'C00004',\n",
       " 'C00006',\n",
       " 'C00008',\n",
       " 'C00010',\n",
       " 'C00016',\n",
       " 'C00017',\n",
       " 'C00018',\n",
       " 'C00019',\n",
       " 'C00021',\n",
       " 'C00022'}"
      ]
     },
     "execution_count": 241,
     "metadata": {},
     "output_type": "execute_result"
    }
   ],
   "source": [
    "saturday_set = set(saturday_customers)\n",
    "sunday_set = set(sunday_customers)\n",
    "\n",
    "weekend_set = saturday_set.union(sunday_set)\n",
    "weekend_set"
   ]
  },
  {
   "cell_type": "markdown",
   "id": "32794747-c310-4559-8226-5e95c9df2ce1",
   "metadata": {},
   "source": [
    "#### Friday Customers Who Came Back During the Weekend\n",
    "\n",
    "Now that you've got that, can you see which customers made a purchase on Friday AND made a purchase during the weekend?\n",
    "\n"
   ]
  },
  {
   "cell_type": "code",
   "execution_count": 246,
   "id": "1b200f48-015c-4561-b077-4b2c972627f9",
   "metadata": {},
   "outputs": [
    {
     "data": {
      "text/plain": [
       "{'C00004', 'C00006', 'C00008', 'C00010', 'C00016'}"
      ]
     },
     "execution_count": 246,
     "metadata": {},
     "output_type": "execute_result"
    }
   ],
   "source": [
    "friday_set = set(friday_customers)\n",
    "friday_set.intersection(weekend_set)"
   ]
  },
  {
   "cell_type": "markdown",
   "id": "4921af88-8286-4aea-8d8f-ade6082c8b43",
   "metadata": {},
   "source": [
    "# Functions"
   ]
  },
  {
   "cell_type": "markdown",
   "id": "b8351be0-df80-4ccf-983b-fed5eb8b12fa",
   "metadata": {},
   "source": [
    "### Q8. Tax Calculator (tax_calculator_function.ipynb)\n",
    "\n",
    "Write a function that takes a subtotal and a tax rate and returns the total invoice amount.\n",
    "\n",
    "* Tax is equal to subtotal multiplied by the tax rate.\n",
    "* The total is equal to subtotal plus tax."
   ]
  },
  {
   "cell_type": "code",
   "execution_count": 249,
   "id": "0bea034d-d449-4b67-ab6a-edae141eca9c",
   "metadata": {},
   "outputs": [],
   "source": [
    "def tax_calculator(value1, value2):\n",
    "    tax = value1 * value2\n",
    "    total = value1 + tax\n",
    "    return total"
   ]
  },
  {
   "cell_type": "code",
   "execution_count": 253,
   "id": "cf015d9e-6853-4289-bc00-19caecfaffc3",
   "metadata": {},
   "outputs": [
    {
     "data": {
      "text/plain": [
       "109.0"
      ]
     },
     "execution_count": 253,
     "metadata": {},
     "output_type": "execute_result"
    }
   ],
   "source": [
    "tax_calculator(100, .09)"
   ]
  },
  {
   "cell_type": "markdown",
   "id": "a68fdb13-a30f-4a13-af4c-4082310fdc37",
   "metadata": {},
   "source": [
    "### Q9. Modified Tax Calculator (modified_tax_calculator.ipynb)\n",
    "\n",
    "Since the tax calculator we made was primarily for our Stowe employees, let's modify the tax calculator below to have a default tax rate of 6%. \n",
    "\n",
    "Also, we want the output of the function to return a list containing the subtotal, tax, and totals."
   ]
  },
  {
   "cell_type": "code",
   "execution_count": 263,
   "id": "60bc0d51-c7a0-4cd8-94cd-5c496d204f99",
   "metadata": {},
   "outputs": [],
   "source": [
    "def tax_calculator(value1):\n",
    "    tax = value1 * 0.06\n",
    "    total = value1 + tax\n",
    "    return value1, tax, total"
   ]
  },
  {
   "cell_type": "code",
   "execution_count": 265,
   "id": "3cd76e7a-f794-4942-aeaa-f777ac0b8d70",
   "metadata": {},
   "outputs": [
    {
     "data": {
      "text/plain": [
       "(100, 6.0, 106.0)"
      ]
     },
     "execution_count": 265,
     "metadata": {},
     "output_type": "execute_result"
    }
   ],
   "source": [
    "tax_calculator(100)"
   ]
  },
  {
   "cell_type": "markdown",
   "id": "a069aedf-aa84-45d0-9722-45bfdf355101",
   "metadata": {},
   "source": [
    "### Q10. Using the tax calculator! (applied_tax_calculator.ipynb)\n",
    "\n",
    "Now that we have a working tax calculator, we need to put it to work.\n",
    "\n",
    "First, import the tax calculator."
   ]
  },
  {
   "cell_type": "code",
   "execution_count": 294,
   "id": "1bd87415-670c-437d-911a-a06e9e8d2b40",
   "metadata": {},
   "outputs": [
    {
     "name": "stdout",
     "output_type": "stream",
     "text": [
      "Overwriting saved_functions.py\n"
     ]
    }
   ],
   "source": [
    "%%writefile saved_functions.py\n",
    "\n",
    "def tax_calculator(value1):\n",
    "    tax = round(value1 * 0.06, 2)\n",
    "    total = round(value1 + tax, 2)\n",
    "    return value1, tax, total"
   ]
  },
  {
   "cell_type": "markdown",
   "id": "08388ea5-b564-4b26-9454-64223c4c6555",
   "metadata": {},
   "source": [
    "#### Processing Transactions\n",
    "\n",
    "Apply the tax calculator to the list of subtotals below.\n",
    "\n",
    "We want to store all of the results in a single list, so each list returned from the tax calculator should be a list stored in a list called `full_transactions`. Use the default tax rate for each transaction."
   ]
  },
  {
   "cell_type": "code",
   "execution_count": 297,
   "id": "cbfe966b-aae3-4e01-b9d7-9dc20af6aa56",
   "metadata": {},
   "outputs": [
    {
     "data": {
      "text/plain": [
       "[(15.98, 0.9588, 16.9388),\n",
       " (899.97, 53.9982, 953.9682),\n",
       " (799.97, 47.9982, 847.9682),\n",
       " (117.96, 7.0775999999999994, 125.0376),\n",
       " (5.99, 0.3594, 6.3494),\n",
       " (599.99, 35.9994, 635.9894)]"
      ]
     },
     "execution_count": 297,
     "metadata": {},
     "output_type": "execute_result"
    }
   ],
   "source": [
    "subtotals = [15.98, 899.97, 799.97, 117.96, 5.99, 599.99]\n",
    "import saved_functions\n",
    "\n",
    "full_transactions = []\n",
    "for subtotal in subtotals:\n",
    "    transaction = saved_functions.tax_calculator(subtotal)\n",
    "    full_transactions.append(transaction)\n",
    "\n",
    "full_transactions"
   ]
  },
  {
   "cell_type": "markdown",
   "id": "2e8f88aa-4bf6-4795-aa5e-d3bc1e03f50d",
   "metadata": {},
   "source": [
    "#### Transaction Dictionary\n",
    "\n",
    "Great! Now that you've done that, combine the transactions with the customer_ids below into a dictionary.\n",
    "\n",
    "We want the customer_ids as keys, and the transactions as values."
   ]
  },
  {
   "cell_type": "code",
   "execution_count": 309,
   "id": "0441d8ec-3373-4f37-bb36-4fab7bd5369e",
   "metadata": {},
   "outputs": [
    {
     "data": {
      "text/plain": [
       "{'C00004': (15.98, 0.9588, 16.9388),\n",
       " 'C00007': (899.97, 53.9982, 953.9682),\n",
       " 'C00015': (799.97, 47.9982, 847.9682),\n",
       " 'C00016': (117.96, 7.0775999999999994, 125.0376),\n",
       " 'C00020': (5.99, 0.3594, 6.3494),\n",
       " 'C00010': (599.99, 35.9994, 635.9894)}"
      ]
     },
     "execution_count": 309,
     "metadata": {},
     "output_type": "execute_result"
    }
   ],
   "source": [
    "customer_ids = ['C00004', 'C00007', 'C00015', 'C00016', 'C00020', 'C00010']\n",
    "\n",
    "customer_dict = {\n",
    "    id: (transaction) \n",
    "        for id, transaction in zip(customer_ids, full_transactions)\n",
    "} \n",
    "\n",
    "customer_dict"
   ]
  },
  {
   "cell_type": "markdown",
   "id": "5113b422-b883-4835-afeb-77369ecb346b",
   "metadata": {},
   "source": [
    "### Q11. Mapping the tax calculator (mapping_the_calculator.ipynb)\n",
    "\n",
    "Now that we've successfully got our tax calculator working, can you apply it to the subtotals below?\n",
    "\n",
    "Should be quick! Thanks!\n",
    "\n",
    "P.S. Don't use a loop!"
   ]
  },
  {
   "cell_type": "code",
   "execution_count": 311,
   "id": "72cafb73-33e6-45f3-a8cc-8a47758adb07",
   "metadata": {},
   "outputs": [],
   "source": [
    "subtotals = [1799.94, 99.99, 254.95, 29.98, 99.99]"
   ]
  },
  {
   "cell_type": "code",
   "execution_count": 319,
   "id": "3169c930-a11c-402d-ae1a-677f7df83b62",
   "metadata": {},
   "outputs": [
    {
     "data": {
      "text/plain": [
       "[(1799.94, 107.9964, 1907.9364),\n",
       " (99.99, 5.9994, 105.98939999999999),\n",
       " (254.95, 15.296999999999999, 270.247),\n",
       " (29.98, 1.7988, 31.7788),\n",
       " (99.99, 5.9994, 105.98939999999999)]"
      ]
     },
     "execution_count": 319,
     "metadata": {},
     "output_type": "execute_result"
    }
   ],
   "source": [
    "list(map(tax_calculator, subtotals))"
   ]
  },
  {
   "cell_type": "markdown",
   "id": "232ca6cc-b07e-4a99-9fb1-9670ef4a2672",
   "metadata": {},
   "source": [
    "### Q12. Apply A Special Discount (discount_orders.ipynb)\n",
    "\n",
    "\n",
    "We need to apply a discount for customers who purchased more than 500 dollars worth of product – they’re starting to complain it hasn’t been applied. They need to get 10% off on their orders.\n",
    "\n",
    "\n",
    "Can you quickly apply a discount? Store the new prices in a list called `discounted_subtotals`."
   ]
  },
  {
   "cell_type": "code",
   "execution_count": 321,
   "id": "838e5db4-cb43-4a54-b06d-fcde2b4fff7f",
   "metadata": {},
   "outputs": [],
   "source": [
    "subtotals = [15.98, 899.97, 799.97, 117.96, 5.99, 599.99]"
   ]
  },
  {
   "cell_type": "code",
   "execution_count": 331,
   "id": "17403f9f-1cea-4727-9ab8-8862455fd58b",
   "metadata": {},
   "outputs": [
    {
     "data": {
      "text/plain": [
       "[15.98, 809.97, 719.97, 117.96, 5.99, 539.99]"
      ]
     },
     "execution_count": 331,
     "metadata": {},
     "output_type": "execute_result"
    }
   ],
   "source": [
    "discount = 0.9\n",
    "\n",
    "discounted_subtotals = map(lambda x: round(x * discount, 2) if x > 500 else x, subtotals)\n",
    "\n",
    "list(discounted_subtotals)"
   ]
  },
  {
   "cell_type": "markdown",
   "id": "cb3306b0-6249-424d-96f3-7143b96a4148",
   "metadata": {},
   "source": [
    "### Q13. Total Cost of European Items (cost_of_european_items.ipynb)\n",
    "\n",
    "Below is the code to recreate our European item dictionary.\n",
    "\n",
    "Run the cells below, then follow the instructions below."
   ]
  },
  {
   "cell_type": "code",
   "execution_count": 334,
   "id": "51446bf8-16de-4582-92e2-e0dbb74f854c",
   "metadata": {},
   "outputs": [],
   "source": [
    "# Data for dictionary - run this cell and the followwing to create it\n",
    "\n",
    "item_ids = [\n",
    "    10001, 10002, 10003, 10004, 10005, \n",
    "    10006, 10007, 10008, 10009\n",
    "]\n",
    "\n",
    "item_names = [\n",
    "    \"Coffee\", \"Beanie\", \"Gloves\", \"Sweatshirt\", \"Helmet\",\n",
    "    \"Snow Pants\", \"Coat\", \"Ski Poles\", \"Ski Boots\"\n",
    "]\n",
    "\n",
    "euro_prices = [\n",
    "    5.27, 8.79, 17.59, 21.99, 87.99, \n",
    "    70.39, 105.59, 87.99, 175.99\n",
    "]\n",
    "\n",
    "item_category = [\n",
    "    \"beverage\", \"clothing\", \"clothing\", \"clothing\", \"safety\",\n",
    "    \"clothing\", \"clothing\", \"hardware\", \"hardware\",\n",
    "]\n",
    "\n",
    "sizes = [\n",
    "    [\"250mL\"],\n",
    "    [\"Child\", \"Adult\"],\n",
    "    [\"Child\", \"Adult\"],\n",
    "    [\"XS\", \"S\", \"M\", \"L\", \"XL\", \"XXL\"],\n",
    "    [\"Child\", \"Adult\"],\n",
    "    [\"XS\", \"S\", \"M\", \"L\", \"XL\", \"XXL\"],\n",
    "    [\"S\", \"M\", \"L\"],\n",
    "    [\"S\", \"M\", \"L\"],\n",
    "    [5, 6, 7, 8, 9, 10, 11],\n",
    "    [\"S\", \"M\", \"L\"],\n",
    "    [5, 6, 7, 8, 9, 10, 11],\n",
    "    [\"NA\"],\n",
    "    [\"S\", \"M\", \"L\", \"Powder\"],\n",
    "]"
   ]
  },
  {
   "cell_type": "code",
   "execution_count": 338,
   "id": "dd029297-c305-4b42-a192-e8a2ff9e06dc",
   "metadata": {},
   "outputs": [
    {
     "data": {
      "text/plain": [
       "{10001: ['Coffee', 5.27, 'beverage', ['250mL']],\n",
       " 10002: ['Beanie', 8.79, 'clothing', ['Child', 'Adult']],\n",
       " 10003: ['Gloves', 17.59, 'clothing', ['Child', 'Adult']],\n",
       " 10004: ['Sweatshirt', 21.99, 'clothing', ['XS', 'S', 'M', 'L', 'XL', 'XXL']],\n",
       " 10005: ['Helmet', 87.99, 'safety', ['Child', 'Adult']],\n",
       " 10006: ['Snow Pants', 70.39, 'clothing', ['XS', 'S', 'M', 'L', 'XL', 'XXL']],\n",
       " 10007: ['Coat', 105.59, 'clothing', ['S', 'M', 'L']],\n",
       " 10008: ['Ski Poles', 87.99, 'hardware', ['S', 'M', 'L']],\n",
       " 10009: ['Ski Boots', 175.99, 'hardware', [5, 6, 7, 8, 9, 10, 11]]}"
      ]
     },
     "execution_count": 338,
     "metadata": {},
     "output_type": "execute_result"
    }
   ],
   "source": [
    "euro_data = {\n",
    "    item_id: [name, price, category, sizes]\n",
    "    for item_id, name, price, category, sizes in zip(\n",
    "        item_ids, item_names, euro_prices, item_category, sizes\n",
    "    )\n",
    "}\n",
    "\n",
    "euro_data"
   ]
  },
  {
   "cell_type": "markdown",
   "id": "8f03b93f-9886-40ad-82f6-18ec707f5495",
   "metadata": {},
   "source": [
    "### Calculate the Total Cost of Items\n",
    "\n",
    "Calculate the amount it would cost to purchase all the items in euro_data.\n",
    "\n",
    "Use a list comprehension to collect them into a list. "
   ]
  },
  {
   "cell_type": "code",
   "execution_count": 350,
   "id": "0cd801b9-7733-4b02-b515-9cf5bc48fbf2",
   "metadata": {},
   "outputs": [
    {
     "data": {
      "text/plain": [
       "581.59"
      ]
     },
     "execution_count": 350,
     "metadata": {},
     "output_type": "execute_result"
    }
   ],
   "source": [
    "prices = [item_data[1] for item_data in euro_data.values()]\n",
    "\n",
    "total_cost = sum(prices)\n",
    "total_cost"
   ]
  },
  {
   "cell_type": "markdown",
   "id": "bb5cc3cf-83a7-4141-a0e7-e7231e6d542e",
   "metadata": {},
   "source": [
    "### Q14. Transaction Dictionary Creator (final_tax_calculator.ipynb)\n",
    "\n",
    "Hi there, we need to make some final updates to our tax calculator function.\n",
    "\n",
    "We need a function takes a list of customer_ids, a list of subtotals, and a tax rate, that calls the tax_calculator on a list of subtotals, then returns a dictionary with customer_IDs as keys, and the lists returned from tax_calculator as the values.\n",
    "\n",
    "A dictionary comprehension would be very helpful here.\n",
    "\n",
    "Your function will need the following arguments:\n",
    "\n",
    "* customer_ids - a list of strings\n",
    "* subtotals - a list of numbers\n",
    "* tax_rate - the tax rate which will be passed to tax_calculator\n",
    "\n",
    "The output will be a dictionary with:\n",
    "\n",
    "* Customer IDs as keys\n",
    "* [subtotal, tax, total] as values\n",
    "\n"
   ]
  },
  {
   "cell_type": "code",
   "execution_count": 352,
   "id": "ba22c3e6-e613-473b-8e8f-9f1953e204fd",
   "metadata": {},
   "outputs": [],
   "source": [
    "from tax_calculator import tax_calculator\n",
    "\n",
    "customer_ids = ['C00004', 'C00007', 'C00015', 'C00016', 'C00020', 'C00010']\n",
    "\n",
    "subtotals = [15.98, 899.97, 799.97, 117.96, 5.99, 599.99]"
   ]
  },
  {
   "cell_type": "code",
   "execution_count": 366,
   "id": "c7b8409d-0898-4011-b33a-2c537728e91d",
   "metadata": {},
   "outputs": [
    {
     "data": {
      "text/plain": [
       "{'C00004': [15.98, 0.96, 16.94],\n",
       " 'C00007': [899.97, 54.0, 953.97],\n",
       " 'C00015': [799.97, 48.0, 847.97],\n",
       " 'C00016': [117.96, 7.08, 125.04],\n",
       " 'C00020': [5.99, 0.36, 6.35],\n",
       " 'C00010': [599.99, 36.0, 635.99]}"
      ]
     },
     "execution_count": 366,
     "metadata": {},
     "output_type": "execute_result"
    }
   ],
   "source": [
    "tax_rate = 0.06\n",
    "transaction_dict_creator = {\n",
    "    customer_id: tax_calculator(subtotal, tax_rate)\n",
    "    for customer_id, subtotal in zip(customer_ids, subtotals)\n",
    "}\n",
    "\n",
    "transaction_dict_creator "
   ]
  },
  {
   "cell_type": "markdown",
   "id": "f2ddd727-c4b5-40cc-b487-285c7e8d7f89",
   "metadata": {},
   "source": [
    "# Manipulating Excel Sheets"
   ]
  },
  {
   "cell_type": "markdown",
   "id": "9fca72f8-a191-4928-86c6-eeec11507ffb",
   "metadata": {},
   "source": [
    "### Q15. Excel Data Sales Tax (excel_data_sales_tax.ipynb)\n",
    "\n",
    "We need to calculate the sales tax for customer C00010 in the excel workbook 'maven_ski_shop_data'.\n",
    "\n",
    "Their transaction should be in row 'D10'. Apply a sales tax of 8%. \n",
    "\n",
    "First:\n",
    "\n",
    "* Import the openpyxl library.\n",
    "* Then load the workbook 'maven_ski_shop_data.xlsx' into Python (this is in the current section folder).\n",
    "* Finally, assign a name to the 'Orders_Info' worksheet."
   ]
  },
  {
   "cell_type": "code",
   "execution_count": 380,
   "id": "a3c3b047-043e-480e-b287-86159f4cde67",
   "metadata": {},
   "outputs": [],
   "source": [
    "import openpyxl as xl\n",
    "workbook = xl.load_workbook(filename = 'maven_ski_shop_data.xlsx')\n",
    "\n",
    "orders_info_sheet = workbook['Orders_Info']"
   ]
  },
  {
   "cell_type": "markdown",
   "id": "3f37b2d9-a406-41cf-a9cd-334c30d918be",
   "metadata": {},
   "source": [
    "### Sales Tax Calculation\n",
    "\n",
    "Ok, you should be ready to go - calculate the sales tax and total for the transaction in cell D10. \n",
    "\n",
    "Remember we already have a tax calculator function to do this! \n",
    "\n",
    "Consider printing your output with a string message!"
   ]
  },
  {
   "cell_type": "code",
   "execution_count": 392,
   "id": "cc4b1dc8-a807-4d93-8de0-988e8c2d3a71",
   "metadata": {},
   "outputs": [
    {
     "name": "stdout",
     "output_type": "stream",
     "text": [
      "Sales Tax: $6.0\n",
      "Total: $105.99\n"
     ]
    }
   ],
   "source": [
    "from tax_calculator import tax_calculator\n",
    "\n",
    "subtotal = orders_info_sheet.cell(row = 10, column = 4).value\n",
    "result = tax_calculator(subtotal)\n",
    "\n",
    "sales_tax = result[1]\n",
    "total = result[2]\n",
    "\n",
    "print(f\"Sales Tax: ${sales_tax}\")\n",
    "print(f\"Total: ${total}\")"
   ]
  },
  {
   "cell_type": "markdown",
   "id": "598e219d-55a4-45e5-92fb-e61a8767d284",
   "metadata": {},
   "source": [
    "### Q16. New Currency Prices (pound_and_yen_pricing.ipynb)\n",
    "\n",
    "Hi there, we need to add British Pound and Japanese Yen pricing to our 'Item_Info' sheet in the Maven data Excel workbook.\n",
    "\n",
    "I've included the code to read in the excel workbook below."
   ]
  },
  {
   "cell_type": "code",
   "execution_count": 395,
   "id": "4484d8cb-0c36-4cfd-a290-b9fce298a79d",
   "metadata": {},
   "outputs": [],
   "source": [
    "import openpyxl as xl\n",
    "\n",
    "wb = xl.load_workbook(filename='maven_ski_shop_data.xlsx')\n",
    "\n",
    "items = wb['Item_Info']"
   ]
  },
  {
   "cell_type": "markdown",
   "id": "5dc8f254-fcd0-489b-9aa1-28c1fcd56fd8",
   "metadata": {},
   "source": [
    "### Currency Converter\n",
    "\n",
    "Since we're going to be doing this a few times (and hopefully more in the future), let's create a currency_converter function to take a price, and an exchange rate, returning a converted price rounded to two decimal places."
   ]
  },
  {
   "cell_type": "code",
   "execution_count": 400,
   "id": "88d2c71f-b00c-4836-9cf6-2fa147da7724",
   "metadata": {},
   "outputs": [],
   "source": [
    "def currency_converter (price, exchange_rate):\n",
    "    converted_price = round(price * exchange_rate, 2)\n",
    "    return converted_price"
   ]
  },
  {
   "cell_type": "markdown",
   "id": "318e75a8-2106-4611-9ebf-e649d7510e5f",
   "metadata": {},
   "source": [
    "### British Pound Column\n",
    "\n",
    "Now that we have a currency converter, create a column with British Pound prices, in the column to the right of the Euro prices.\n",
    "\n",
    "Don't forget to add a column title - 'GBP Price' Should Work!"
   ]
  },
  {
   "cell_type": "code",
   "execution_count": 408,
   "id": "a495871a-cdce-448a-89d1-ecadd60a6dc4",
   "metadata": {},
   "outputs": [],
   "source": [
    "pound_exchange_rate = .76\n",
    "gbp_column = orders_info_sheet.max_column + 1\n",
    "orders_info_sheet.cell(row = 1, column = gbp_column, value = 'GBP Price')\n",
    "\n",
    "for row in range(2, items.max_row + 1):\n",
    "    euro_price = items.cell(row = row, column = 6).value \n",
    "    if euro_price:  \n",
    "        gbp_price = currency_converter(euro_price, pound_exchange_rate)\n",
    "        items.cell(row=row, column=gbp_column, value=gbp_price)"
   ]
  },
  {
   "cell_type": "markdown",
   "id": "0f4f9dd8-be28-46c7-974f-b7bc89668f90",
   "metadata": {},
   "source": [
    "### Japanese Yen Column\n",
    "\n",
    "Next, create a Japanese Yen Column with the same method we did for British Pounds.\n",
    "\n",
    "Call this column 'JPY Price'"
   ]
  },
  {
   "cell_type": "code",
   "execution_count": 412,
   "id": "efd17f1b-8502-45f8-bde5-21e2d2862ace",
   "metadata": {},
   "outputs": [],
   "source": [
    "yen_exchange_rate = 123\n",
    "jpy_column = orders_info_sheet.max_column + 1\n",
    "orders_info_sheet.cell(row = 1, column = gbp_column, value = 'JPY Price')\n",
    "\n",
    "for row in range(2, items.max_row + 1):\n",
    "    euro_price = items.cell(row = row, column = 6).value  #\n",
    "    if euro_price:  \n",
    "        jpy_price = currency_converter(euro_price, pound_exchange_rate)\n",
    "        items.cell(row=row, column=jpy_column, value=jpy_price)"
   ]
  },
  {
   "cell_type": "markdown",
   "id": "84100052-086e-4cfd-b51e-cb93cea68e69",
   "metadata": {},
   "source": [
    "### Save your work!\n",
    "\n",
    "Finally, save your workbook as 'maven_data_new_pricing.xlsx'.\n",
    "\n",
    "We'll cover this soon - just run the cell below, and check your notebook folder for a .xlsx file."
   ]
  },
  {
   "cell_type": "code",
   "execution_count": 415,
   "id": "39834d35-cca1-462e-a03a-b52708637bec",
   "metadata": {},
   "outputs": [],
   "source": [
    "wb.save('maven_data_new_pricing.xlsx')"
   ]
  }
 ],
 "metadata": {
  "kernelspec": {
   "display_name": "Python 3 (ipykernel)",
   "language": "python",
   "name": "python3"
  },
  "language_info": {
   "codemirror_mode": {
    "name": "ipython",
    "version": 3
   },
   "file_extension": ".py",
   "mimetype": "text/x-python",
   "name": "python",
   "nbconvert_exporter": "python",
   "pygments_lexer": "ipython3",
   "version": "3.12.4"
  }
 },
 "nbformat": 4,
 "nbformat_minor": 5
}
